{
 "cells": [
  {
   "cell_type": "markdown",
   "metadata": {},
   "source": [
    "# Проект: Принятие решений в бизнесе"
   ]
  },
  {
   "cell_type": "markdown",
   "metadata": {},
   "source": [
    "В рамках работы крупного интернет-магазина вместе с отделом маркетинга был подготовлен список гипотез для увеличения выручки.\n",
    "\n",
    "**Задачи:**\n",
    "- Приоритизировать гипотезы;\n",
    "- Запустить A/B-тест;\n",
    "- Проанализировать результаты. \n",
    "\n",
    "В нашем распоряжении 3 датафрейма - файл `/datasets/hypothesis.csv` содержит информацию о 9 гипотезах по увеличению выручки интернет-магазина с указанными параметрами `Reach, Impact, Confidence, Effort`, после проведения `A/B-теста` полученные результаты будут описаны в файлах `/datasets/orders.csv` и `/datasets/visitors.csv`."
   ]
  },
  {
   "cell_type": "code",
   "execution_count": 1,
   "metadata": {},
   "outputs": [],
   "source": [
    "#импортируем все необходимые библиотеки \n",
    "import pandas as pd\n",
    "import scipy.stats as stats\n",
    "import datetime as dt\n",
    "import matplotlib.pyplot as plt\n",
    "import numpy as np\n",
    "from pandas.plotting import register_matplotlib_converters"
   ]
  },
  {
   "cell_type": "markdown",
   "metadata": {},
   "source": [
    "## Приоритизация гипотез"
   ]
  },
  {
   "cell_type": "code",
   "execution_count": 2,
   "metadata": {},
   "outputs": [],
   "source": [
    "#для начала импортируем датафрейм с гипотезами для их оценки\n",
    "hypothesis = pd.read_csv('/datasets/hypothesis.csv')"
   ]
  },
  {
   "cell_type": "code",
   "execution_count": 3,
   "metadata": {},
   "outputs": [
    {
     "data": {
      "text/html": [
       "<style  type=\"text/css\" >\n",
       "#T_d8f4c_row0_col0,#T_d8f4c_row0_col1,#T_d8f4c_row0_col2,#T_d8f4c_row0_col3,#T_d8f4c_row0_col4,#T_d8f4c_row1_col0,#T_d8f4c_row1_col1,#T_d8f4c_row1_col2,#T_d8f4c_row1_col3,#T_d8f4c_row1_col4,#T_d8f4c_row2_col0,#T_d8f4c_row2_col1,#T_d8f4c_row2_col2,#T_d8f4c_row2_col3,#T_d8f4c_row2_col4,#T_d8f4c_row3_col0,#T_d8f4c_row3_col1,#T_d8f4c_row3_col2,#T_d8f4c_row3_col3,#T_d8f4c_row3_col4,#T_d8f4c_row4_col0,#T_d8f4c_row4_col1,#T_d8f4c_row4_col2,#T_d8f4c_row4_col3,#T_d8f4c_row4_col4,#T_d8f4c_row5_col0,#T_d8f4c_row5_col1,#T_d8f4c_row5_col2,#T_d8f4c_row5_col3,#T_d8f4c_row5_col4,#T_d8f4c_row6_col0,#T_d8f4c_row6_col1,#T_d8f4c_row6_col2,#T_d8f4c_row6_col3,#T_d8f4c_row6_col4,#T_d8f4c_row7_col0,#T_d8f4c_row7_col1,#T_d8f4c_row7_col2,#T_d8f4c_row7_col3,#T_d8f4c_row7_col4,#T_d8f4c_row8_col0,#T_d8f4c_row8_col1,#T_d8f4c_row8_col2,#T_d8f4c_row8_col3,#T_d8f4c_row8_col4{\n",
       "            text-align:  left;\n",
       "        }</style><table id=\"T_d8f4c_\" ><thead>    <tr>        <th class=\"blank level0\" ></th>        <th class=\"col_heading level0 col0\" >Hypothesis</th>        <th class=\"col_heading level0 col1\" >Reach</th>        <th class=\"col_heading level0 col2\" >Impact</th>        <th class=\"col_heading level0 col3\" >Confidence</th>        <th class=\"col_heading level0 col4\" >Efforts</th>    </tr></thead><tbody>\n",
       "                <tr>\n",
       "                        <th id=\"T_d8f4c_level0_row0\" class=\"row_heading level0 row0\" >0</th>\n",
       "                        <td id=\"T_d8f4c_row0_col0\" class=\"data row0 col0\" >Добавить два новых канала привлечения трафика, что позволит привлекать на 30% больше пользователей</td>\n",
       "                        <td id=\"T_d8f4c_row0_col1\" class=\"data row0 col1\" >3</td>\n",
       "                        <td id=\"T_d8f4c_row0_col2\" class=\"data row0 col2\" >10</td>\n",
       "                        <td id=\"T_d8f4c_row0_col3\" class=\"data row0 col3\" >8</td>\n",
       "                        <td id=\"T_d8f4c_row0_col4\" class=\"data row0 col4\" >6</td>\n",
       "            </tr>\n",
       "            <tr>\n",
       "                        <th id=\"T_d8f4c_level0_row1\" class=\"row_heading level0 row1\" >1</th>\n",
       "                        <td id=\"T_d8f4c_row1_col0\" class=\"data row1 col0\" >Запустить собственную службу доставки, что сократит срок доставки заказов</td>\n",
       "                        <td id=\"T_d8f4c_row1_col1\" class=\"data row1 col1\" >2</td>\n",
       "                        <td id=\"T_d8f4c_row1_col2\" class=\"data row1 col2\" >5</td>\n",
       "                        <td id=\"T_d8f4c_row1_col3\" class=\"data row1 col3\" >4</td>\n",
       "                        <td id=\"T_d8f4c_row1_col4\" class=\"data row1 col4\" >10</td>\n",
       "            </tr>\n",
       "            <tr>\n",
       "                        <th id=\"T_d8f4c_level0_row2\" class=\"row_heading level0 row2\" >2</th>\n",
       "                        <td id=\"T_d8f4c_row2_col0\" class=\"data row2 col0\" >Добавить блоки рекомендаций товаров на сайт интернет магазина, чтобы повысить конверсию и средний чек заказа</td>\n",
       "                        <td id=\"T_d8f4c_row2_col1\" class=\"data row2 col1\" >8</td>\n",
       "                        <td id=\"T_d8f4c_row2_col2\" class=\"data row2 col2\" >3</td>\n",
       "                        <td id=\"T_d8f4c_row2_col3\" class=\"data row2 col3\" >7</td>\n",
       "                        <td id=\"T_d8f4c_row2_col4\" class=\"data row2 col4\" >3</td>\n",
       "            </tr>\n",
       "            <tr>\n",
       "                        <th id=\"T_d8f4c_level0_row3\" class=\"row_heading level0 row3\" >3</th>\n",
       "                        <td id=\"T_d8f4c_row3_col0\" class=\"data row3 col0\" >Изменить структура категорий, что увеличит конверсию, т.к. пользователи быстрее найдут нужный товар</td>\n",
       "                        <td id=\"T_d8f4c_row3_col1\" class=\"data row3 col1\" >8</td>\n",
       "                        <td id=\"T_d8f4c_row3_col2\" class=\"data row3 col2\" >3</td>\n",
       "                        <td id=\"T_d8f4c_row3_col3\" class=\"data row3 col3\" >3</td>\n",
       "                        <td id=\"T_d8f4c_row3_col4\" class=\"data row3 col4\" >8</td>\n",
       "            </tr>\n",
       "            <tr>\n",
       "                        <th id=\"T_d8f4c_level0_row4\" class=\"row_heading level0 row4\" >4</th>\n",
       "                        <td id=\"T_d8f4c_row4_col0\" class=\"data row4 col0\" >Изменить цвет фона главной страницы, чтобы увеличить вовлеченность пользователей</td>\n",
       "                        <td id=\"T_d8f4c_row4_col1\" class=\"data row4 col1\" >3</td>\n",
       "                        <td id=\"T_d8f4c_row4_col2\" class=\"data row4 col2\" >1</td>\n",
       "                        <td id=\"T_d8f4c_row4_col3\" class=\"data row4 col3\" >1</td>\n",
       "                        <td id=\"T_d8f4c_row4_col4\" class=\"data row4 col4\" >1</td>\n",
       "            </tr>\n",
       "            <tr>\n",
       "                        <th id=\"T_d8f4c_level0_row5\" class=\"row_heading level0 row5\" >5</th>\n",
       "                        <td id=\"T_d8f4c_row5_col0\" class=\"data row5 col0\" >Добавить страницу отзывов клиентов о магазине, что позволит увеличить количество заказов</td>\n",
       "                        <td id=\"T_d8f4c_row5_col1\" class=\"data row5 col1\" >3</td>\n",
       "                        <td id=\"T_d8f4c_row5_col2\" class=\"data row5 col2\" >2</td>\n",
       "                        <td id=\"T_d8f4c_row5_col3\" class=\"data row5 col3\" >2</td>\n",
       "                        <td id=\"T_d8f4c_row5_col4\" class=\"data row5 col4\" >3</td>\n",
       "            </tr>\n",
       "            <tr>\n",
       "                        <th id=\"T_d8f4c_level0_row6\" class=\"row_heading level0 row6\" >6</th>\n",
       "                        <td id=\"T_d8f4c_row6_col0\" class=\"data row6 col0\" >Показать на главной странице баннеры с актуальными акциями и распродажами, чтобы увеличить конверсию</td>\n",
       "                        <td id=\"T_d8f4c_row6_col1\" class=\"data row6 col1\" >5</td>\n",
       "                        <td id=\"T_d8f4c_row6_col2\" class=\"data row6 col2\" >3</td>\n",
       "                        <td id=\"T_d8f4c_row6_col3\" class=\"data row6 col3\" >8</td>\n",
       "                        <td id=\"T_d8f4c_row6_col4\" class=\"data row6 col4\" >3</td>\n",
       "            </tr>\n",
       "            <tr>\n",
       "                        <th id=\"T_d8f4c_level0_row7\" class=\"row_heading level0 row7\" >7</th>\n",
       "                        <td id=\"T_d8f4c_row7_col0\" class=\"data row7 col0\" >Добавить форму подписки на все основные страницы, чтобы собрать базу клиентов для email-рассылок</td>\n",
       "                        <td id=\"T_d8f4c_row7_col1\" class=\"data row7 col1\" >10</td>\n",
       "                        <td id=\"T_d8f4c_row7_col2\" class=\"data row7 col2\" >7</td>\n",
       "                        <td id=\"T_d8f4c_row7_col3\" class=\"data row7 col3\" >8</td>\n",
       "                        <td id=\"T_d8f4c_row7_col4\" class=\"data row7 col4\" >5</td>\n",
       "            </tr>\n",
       "            <tr>\n",
       "                        <th id=\"T_d8f4c_level0_row8\" class=\"row_heading level0 row8\" >8</th>\n",
       "                        <td id=\"T_d8f4c_row8_col0\" class=\"data row8 col0\" >Запустить акцию, дающую скидку на товар в день рождения</td>\n",
       "                        <td id=\"T_d8f4c_row8_col1\" class=\"data row8 col1\" >1</td>\n",
       "                        <td id=\"T_d8f4c_row8_col2\" class=\"data row8 col2\" >9</td>\n",
       "                        <td id=\"T_d8f4c_row8_col3\" class=\"data row8 col3\" >9</td>\n",
       "                        <td id=\"T_d8f4c_row8_col4\" class=\"data row8 col4\" >5</td>\n",
       "            </tr>\n",
       "    </tbody></table>"
      ],
      "text/plain": [
       "<pandas.io.formats.style.Styler at 0x7f8dc4761a60>"
      ]
     },
     "execution_count": 3,
     "metadata": {},
     "output_type": "execute_result"
    }
   ],
   "source": [
    "hypothesis.head()\n",
    "hypothesis.style.set_properties(**{'text-align': 'left'})"
   ]
  },
  {
   "cell_type": "markdown",
   "metadata": {},
   "source": [
    "Каждый из параметров `Reach/Impact/Confidence/Efforts` в таблице `hypothesis` оценен по 10-бальной шкале."
   ]
  },
  {
   "cell_type": "markdown",
   "metadata": {},
   "source": [
    "**1.1. Примените фреймворк ICE для приоритизации гипотез. Отсортируйте их по убыванию приоритета.**"
   ]
  },
  {
   "cell_type": "code",
   "execution_count": 4,
   "metadata": {},
   "outputs": [],
   "source": [
    "#добавим новый столбец где рассчитаем параметр ICE\n",
    "hypothesis['ICE'] = round((hypothesis['Impact'] * hypothesis['Confidence']) / hypothesis['Efforts'], 1)"
   ]
  },
  {
   "cell_type": "code",
   "execution_count": 5,
   "metadata": {},
   "outputs": [
    {
     "data": {
      "text/html": [
       "<div>\n",
       "<style scoped>\n",
       "    .dataframe tbody tr th:only-of-type {\n",
       "        vertical-align: middle;\n",
       "    }\n",
       "\n",
       "    .dataframe tbody tr th {\n",
       "        vertical-align: top;\n",
       "    }\n",
       "\n",
       "    .dataframe thead th {\n",
       "        text-align: right;\n",
       "    }\n",
       "</style>\n",
       "<table border=\"1\" class=\"dataframe\">\n",
       "  <thead>\n",
       "    <tr style=\"text-align: right;\">\n",
       "      <th></th>\n",
       "      <th>Hypothesis</th>\n",
       "      <th>ICE</th>\n",
       "    </tr>\n",
       "  </thead>\n",
       "  <tbody>\n",
       "    <tr>\n",
       "      <th>8</th>\n",
       "      <td>Запустить акцию, дающую скидку на товар в день...</td>\n",
       "      <td>16.2</td>\n",
       "    </tr>\n",
       "    <tr>\n",
       "      <th>0</th>\n",
       "      <td>Добавить два новых канала привлечения трафика,...</td>\n",
       "      <td>13.3</td>\n",
       "    </tr>\n",
       "    <tr>\n",
       "      <th>7</th>\n",
       "      <td>Добавить форму подписки на все основные страни...</td>\n",
       "      <td>11.2</td>\n",
       "    </tr>\n",
       "    <tr>\n",
       "      <th>6</th>\n",
       "      <td>Показать на главной странице баннеры с актуаль...</td>\n",
       "      <td>8.0</td>\n",
       "    </tr>\n",
       "    <tr>\n",
       "      <th>2</th>\n",
       "      <td>Добавить блоки рекомендаций товаров на сайт ин...</td>\n",
       "      <td>7.0</td>\n",
       "    </tr>\n",
       "    <tr>\n",
       "      <th>1</th>\n",
       "      <td>Запустить собственную службу доставки, что сок...</td>\n",
       "      <td>2.0</td>\n",
       "    </tr>\n",
       "    <tr>\n",
       "      <th>5</th>\n",
       "      <td>Добавить страницу отзывов клиентов о магазине,...</td>\n",
       "      <td>1.3</td>\n",
       "    </tr>\n",
       "    <tr>\n",
       "      <th>3</th>\n",
       "      <td>Изменить структура категорий, что увеличит кон...</td>\n",
       "      <td>1.1</td>\n",
       "    </tr>\n",
       "    <tr>\n",
       "      <th>4</th>\n",
       "      <td>Изменить цвет фона главной страницы, чтобы уве...</td>\n",
       "      <td>1.0</td>\n",
       "    </tr>\n",
       "  </tbody>\n",
       "</table>\n",
       "</div>"
      ],
      "text/plain": [
       "                                          Hypothesis   ICE\n",
       "8  Запустить акцию, дающую скидку на товар в день...  16.2\n",
       "0  Добавить два новых канала привлечения трафика,...  13.3\n",
       "7  Добавить форму подписки на все основные страни...  11.2\n",
       "6  Показать на главной странице баннеры с актуаль...   8.0\n",
       "2  Добавить блоки рекомендаций товаров на сайт ин...   7.0\n",
       "1  Запустить собственную службу доставки, что сок...   2.0\n",
       "5  Добавить страницу отзывов клиентов о магазине,...   1.3\n",
       "3  Изменить структура категорий, что увеличит кон...   1.1\n",
       "4  Изменить цвет фона главной страницы, чтобы уве...   1.0"
      ]
     },
     "execution_count": 5,
     "metadata": {},
     "output_type": "execute_result"
    }
   ],
   "source": [
    "hypothesis[['Hypothesis', 'ICE']].sort_values(by='ICE', ascending=False)"
   ]
  },
  {
   "cell_type": "markdown",
   "metadata": {},
   "source": [
    "Согласно методу `ICE` в первую очередь следует проверять гипотезы [8, 0, 7]. "
   ]
  },
  {
   "cell_type": "markdown",
   "metadata": {},
   "source": [
    "**1.2. Примените фреймворк RICE для приоритизации гипотез. Отсортируйте их по убыванию приоритета.**"
   ]
  },
  {
   "cell_type": "code",
   "execution_count": 6,
   "metadata": {},
   "outputs": [],
   "source": [
    "#добавим новый столбец где рассчитаем параметр RICE\n",
    "hypothesis['RICE'] = round((hypothesis['Reach'] * hypothesis['Impact'] * hypothesis['Confidence']) / hypothesis['Efforts'], 1)"
   ]
  },
  {
   "cell_type": "code",
   "execution_count": 7,
   "metadata": {},
   "outputs": [
    {
     "data": {
      "text/html": [
       "<div>\n",
       "<style scoped>\n",
       "    .dataframe tbody tr th:only-of-type {\n",
       "        vertical-align: middle;\n",
       "    }\n",
       "\n",
       "    .dataframe tbody tr th {\n",
       "        vertical-align: top;\n",
       "    }\n",
       "\n",
       "    .dataframe thead th {\n",
       "        text-align: right;\n",
       "    }\n",
       "</style>\n",
       "<table border=\"1\" class=\"dataframe\">\n",
       "  <thead>\n",
       "    <tr style=\"text-align: right;\">\n",
       "      <th></th>\n",
       "      <th>Hypothesis</th>\n",
       "      <th>RICE</th>\n",
       "    </tr>\n",
       "  </thead>\n",
       "  <tbody>\n",
       "    <tr>\n",
       "      <th>7</th>\n",
       "      <td>Добавить форму подписки на все основные страни...</td>\n",
       "      <td>112.0</td>\n",
       "    </tr>\n",
       "    <tr>\n",
       "      <th>2</th>\n",
       "      <td>Добавить блоки рекомендаций товаров на сайт ин...</td>\n",
       "      <td>56.0</td>\n",
       "    </tr>\n",
       "    <tr>\n",
       "      <th>0</th>\n",
       "      <td>Добавить два новых канала привлечения трафика,...</td>\n",
       "      <td>40.0</td>\n",
       "    </tr>\n",
       "    <tr>\n",
       "      <th>6</th>\n",
       "      <td>Показать на главной странице баннеры с актуаль...</td>\n",
       "      <td>40.0</td>\n",
       "    </tr>\n",
       "    <tr>\n",
       "      <th>8</th>\n",
       "      <td>Запустить акцию, дающую скидку на товар в день...</td>\n",
       "      <td>16.2</td>\n",
       "    </tr>\n",
       "    <tr>\n",
       "      <th>3</th>\n",
       "      <td>Изменить структура категорий, что увеличит кон...</td>\n",
       "      <td>9.0</td>\n",
       "    </tr>\n",
       "    <tr>\n",
       "      <th>1</th>\n",
       "      <td>Запустить собственную службу доставки, что сок...</td>\n",
       "      <td>4.0</td>\n",
       "    </tr>\n",
       "    <tr>\n",
       "      <th>5</th>\n",
       "      <td>Добавить страницу отзывов клиентов о магазине,...</td>\n",
       "      <td>4.0</td>\n",
       "    </tr>\n",
       "    <tr>\n",
       "      <th>4</th>\n",
       "      <td>Изменить цвет фона главной страницы, чтобы уве...</td>\n",
       "      <td>3.0</td>\n",
       "    </tr>\n",
       "  </tbody>\n",
       "</table>\n",
       "</div>"
      ],
      "text/plain": [
       "                                          Hypothesis   RICE\n",
       "7  Добавить форму подписки на все основные страни...  112.0\n",
       "2  Добавить блоки рекомендаций товаров на сайт ин...   56.0\n",
       "0  Добавить два новых канала привлечения трафика,...   40.0\n",
       "6  Показать на главной странице баннеры с актуаль...   40.0\n",
       "8  Запустить акцию, дающую скидку на товар в день...   16.2\n",
       "3  Изменить структура категорий, что увеличит кон...    9.0\n",
       "1  Запустить собственную службу доставки, что сок...    4.0\n",
       "5  Добавить страницу отзывов клиентов о магазине,...    4.0\n",
       "4  Изменить цвет фона главной страницы, чтобы уве...    3.0"
      ]
     },
     "execution_count": 7,
     "metadata": {},
     "output_type": "execute_result"
    }
   ],
   "source": [
    "hypothesis[['Hypothesis', 'RICE']].sort_values(by='RICE', ascending=False)"
   ]
  },
  {
   "cell_type": "markdown",
   "metadata": {},
   "source": [
    "По методу `RICE` в первую очередь следует проверять гипотезы [7, 2, 0]."
   ]
  },
  {
   "cell_type": "markdown",
   "metadata": {},
   "source": [
    "**1.3. Укажите, как изменилась приоритизация гипотез при применении RICE вместо ICE. Объясните, почему так произошло.**"
   ]
  },
  {
   "cell_type": "code",
   "execution_count": 8,
   "metadata": {},
   "outputs": [
    {
     "data": {
      "text/html": [
       "<div>\n",
       "<style scoped>\n",
       "    .dataframe tbody tr th:only-of-type {\n",
       "        vertical-align: middle;\n",
       "    }\n",
       "\n",
       "    .dataframe tbody tr th {\n",
       "        vertical-align: top;\n",
       "    }\n",
       "\n",
       "    .dataframe thead th {\n",
       "        text-align: right;\n",
       "    }\n",
       "</style>\n",
       "<table border=\"1\" class=\"dataframe\">\n",
       "  <thead>\n",
       "    <tr style=\"text-align: right;\">\n",
       "      <th></th>\n",
       "      <th>Hypothesis</th>\n",
       "      <th>ICE</th>\n",
       "      <th>RICE</th>\n",
       "    </tr>\n",
       "  </thead>\n",
       "  <tbody>\n",
       "    <tr>\n",
       "      <th>7</th>\n",
       "      <td>Добавить форму подписки на все основные страни...</td>\n",
       "      <td>11.2</td>\n",
       "      <td>112.0</td>\n",
       "    </tr>\n",
       "    <tr>\n",
       "      <th>2</th>\n",
       "      <td>Добавить блоки рекомендаций товаров на сайт ин...</td>\n",
       "      <td>7.0</td>\n",
       "      <td>56.0</td>\n",
       "    </tr>\n",
       "    <tr>\n",
       "      <th>0</th>\n",
       "      <td>Добавить два новых канала привлечения трафика,...</td>\n",
       "      <td>13.3</td>\n",
       "      <td>40.0</td>\n",
       "    </tr>\n",
       "    <tr>\n",
       "      <th>6</th>\n",
       "      <td>Показать на главной странице баннеры с актуаль...</td>\n",
       "      <td>8.0</td>\n",
       "      <td>40.0</td>\n",
       "    </tr>\n",
       "    <tr>\n",
       "      <th>8</th>\n",
       "      <td>Запустить акцию, дающую скидку на товар в день...</td>\n",
       "      <td>16.2</td>\n",
       "      <td>16.2</td>\n",
       "    </tr>\n",
       "    <tr>\n",
       "      <th>3</th>\n",
       "      <td>Изменить структура категорий, что увеличит кон...</td>\n",
       "      <td>1.1</td>\n",
       "      <td>9.0</td>\n",
       "    </tr>\n",
       "    <tr>\n",
       "      <th>1</th>\n",
       "      <td>Запустить собственную службу доставки, что сок...</td>\n",
       "      <td>2.0</td>\n",
       "      <td>4.0</td>\n",
       "    </tr>\n",
       "    <tr>\n",
       "      <th>5</th>\n",
       "      <td>Добавить страницу отзывов клиентов о магазине,...</td>\n",
       "      <td>1.3</td>\n",
       "      <td>4.0</td>\n",
       "    </tr>\n",
       "    <tr>\n",
       "      <th>4</th>\n",
       "      <td>Изменить цвет фона главной страницы, чтобы уве...</td>\n",
       "      <td>1.0</td>\n",
       "      <td>3.0</td>\n",
       "    </tr>\n",
       "  </tbody>\n",
       "</table>\n",
       "</div>"
      ],
      "text/plain": [
       "                                          Hypothesis   ICE   RICE\n",
       "7  Добавить форму подписки на все основные страни...  11.2  112.0\n",
       "2  Добавить блоки рекомендаций товаров на сайт ин...   7.0   56.0\n",
       "0  Добавить два новых канала привлечения трафика,...  13.3   40.0\n",
       "6  Показать на главной странице баннеры с актуаль...   8.0   40.0\n",
       "8  Запустить акцию, дающую скидку на товар в день...  16.2   16.2\n",
       "3  Изменить структура категорий, что увеличит кон...   1.1    9.0\n",
       "1  Запустить собственную службу доставки, что сок...   2.0    4.0\n",
       "5  Добавить страницу отзывов клиентов о магазине,...   1.3    4.0\n",
       "4  Изменить цвет фона главной страницы, чтобы уве...   1.0    3.0"
      ]
     },
     "execution_count": 8,
     "metadata": {},
     "output_type": "execute_result"
    }
   ],
   "source": [
    "hypothesis[['Hypothesis', 'ICE', 'RICE']].sort_values(by='RICE', ascending=False)"
   ]
  },
  {
   "cell_type": "markdown",
   "metadata": {},
   "source": [
    "Несмотря на то, что параметры `ICE` и `RICE` имеют разные порядки, отсортировав гипотезы видим общие тренды в оценке гипотез (особенно в части гипотез-аутсайдеров). При этом ТОП гипотез по каждому фреймворку разный - согласно `ICE` в первую очередь следует брать в работу гипотезы [8, 0, 7], по `RICE` гипотезы [7, 2, 0], а гипотеза лидер по `ICE` [8] в системе `RICE` занимает 5-е место. \n",
    "\n",
    "Оснонвое различие в оценке фреймворков заключается в учете охвата (*Reach*). В нашем случае охват является ключевой характеристикой работы интернет-магазина и будет напрямую влиять на конверсию и конечный результат. Далее при определении гипотез для тестирования следует опираться на приоритезацию по `RICE`."
   ]
  },
  {
   "cell_type": "markdown",
   "metadata": {},
   "source": [
    "## Анализ A/B-теста"
   ]
  },
  {
   "cell_type": "code",
   "execution_count": 9,
   "metadata": {},
   "outputs": [],
   "source": [
    "#импортируем датафреймы с результатами A/B-теста\n",
    "orders = pd.read_csv('/datasets/orders.csv')\n",
    "visitors = pd.read_csv('/datasets/visitors.csv')"
   ]
  },
  {
   "cell_type": "code",
   "execution_count": 10,
   "metadata": {},
   "outputs": [],
   "source": [
    "#форматируем столбец с датой для построения будущих графиков\n",
    "orders['date'] = orders['date'].map(lambda x: dt.datetime.strptime(x, '%Y-%m-%d'))"
   ]
  },
  {
   "cell_type": "code",
   "execution_count": 11,
   "metadata": {},
   "outputs": [],
   "source": [
    "visitors['date'] = visitors['date'].map(lambda x: dt.datetime.strptime(x, '%Y-%m-%d'))"
   ]
  },
  {
   "cell_type": "code",
   "execution_count": 12,
   "metadata": {},
   "outputs": [
    {
     "data": {
      "text/plain": [
       "Series([], Name: nans, dtype: float64)"
      ]
     },
     "execution_count": 12,
     "metadata": {},
     "output_type": "execute_result"
    }
   ],
   "source": [
    "#посчитаем долю пропусков в orders по стобцам\n",
    "orders.isna().mean().to_frame(name=\"nans\").query(\"nans > 0\")[\"nans\"]"
   ]
  },
  {
   "cell_type": "code",
   "execution_count": 13,
   "metadata": {},
   "outputs": [
    {
     "data": {
      "text/plain": [
       "Series([], Name: nans, dtype: float64)"
      ]
     },
     "execution_count": 13,
     "metadata": {},
     "output_type": "execute_result"
    }
   ],
   "source": [
    "#посчитаем долю пропусков в visitors по стобцам \n",
    "visitors.isna().mean().to_frame(name=\"nans\").query(\"nans > 0\")[\"nans\"]"
   ]
  },
  {
   "cell_type": "code",
   "execution_count": 14,
   "metadata": {},
   "outputs": [
    {
     "data": {
      "text/plain": [
       "0.0"
      ]
     },
     "execution_count": 14,
     "metadata": {},
     "output_type": "execute_result"
    }
   ],
   "source": [
    "#посчитаем долю дубликатов в orders \n",
    "orders.duplicated().mean()"
   ]
  },
  {
   "cell_type": "code",
   "execution_count": 15,
   "metadata": {},
   "outputs": [
    {
     "data": {
      "text/plain": [
       "0.0"
      ]
     },
     "execution_count": 15,
     "metadata": {},
     "output_type": "execute_result"
    }
   ],
   "source": [
    "#посчитаем долю дубликатов в visitors  \n",
    "visitors.duplicated().mean()"
   ]
  },
  {
   "cell_type": "code",
   "execution_count": 16,
   "metadata": {},
   "outputs": [
    {
     "data": {
      "text/plain": [
       "(   transactionId   visitorId       date  revenue group\n",
       " 0     3667963787  3312258926 2019-08-15     1650     B\n",
       " 1     2804400009  3642806036 2019-08-15      730     B\n",
       " 2     2961555356  4069496402 2019-08-15      400     A\n",
       " 3     3797467345  1196621759 2019-08-15     9759     B\n",
       " 4     2282983706  2322279887 2019-08-15     2308     B,\n",
       "         date group  visitors\n",
       " 0 2019-08-01     A       719\n",
       " 1 2019-08-02     A       619\n",
       " 2 2019-08-03     A       507\n",
       " 3 2019-08-04     A       717\n",
       " 4 2019-08-05     A       756)"
      ]
     },
     "execution_count": 16,
     "metadata": {},
     "output_type": "execute_result"
    }
   ],
   "source": [
    "#выведем датафреймы, чтобы ознакомиться со структурой данных\n",
    "orders.head(), visitors.head()"
   ]
  },
  {
   "cell_type": "markdown",
   "metadata": {},
   "source": [
    "**2.1. Постройте график кумулятивной выручки по группам. Сделайте выводы и предположения.**"
   ]
  },
  {
   "cell_type": "code",
   "execution_count": 17,
   "metadata": {},
   "outputs": [],
   "source": [
    "#конвертеры, которые позволяют использовать типы pandas в matplotlib  \n",
    "register_matplotlib_converters()"
   ]
  },
  {
   "cell_type": "code",
   "execution_count": 18,
   "metadata": {},
   "outputs": [],
   "source": [
    "#задаем размеры всех графиков\n",
    "plt.rcParams ['figure.figsize'] = [10, 5]"
   ]
  },
  {
   "cell_type": "code",
   "execution_count": 19,
   "metadata": {},
   "outputs": [
    {
     "data": {
      "text/html": [
       "<div>\n",
       "<style scoped>\n",
       "    .dataframe tbody tr th:only-of-type {\n",
       "        vertical-align: middle;\n",
       "    }\n",
       "\n",
       "    .dataframe tbody tr th {\n",
       "        vertical-align: top;\n",
       "    }\n",
       "\n",
       "    .dataframe thead th {\n",
       "        text-align: right;\n",
       "    }\n",
       "</style>\n",
       "<table border=\"1\" class=\"dataframe\">\n",
       "  <thead>\n",
       "    <tr style=\"text-align: right;\">\n",
       "      <th></th>\n",
       "      <th>date</th>\n",
       "      <th>group</th>\n",
       "    </tr>\n",
       "  </thead>\n",
       "  <tbody>\n",
       "    <tr>\n",
       "      <th>0</th>\n",
       "      <td>2019-08-15</td>\n",
       "      <td>B</td>\n",
       "    </tr>\n",
       "    <tr>\n",
       "      <th>2</th>\n",
       "      <td>2019-08-15</td>\n",
       "      <td>A</td>\n",
       "    </tr>\n",
       "    <tr>\n",
       "      <th>45</th>\n",
       "      <td>2019-08-16</td>\n",
       "      <td>A</td>\n",
       "    </tr>\n",
       "    <tr>\n",
       "      <th>47</th>\n",
       "      <td>2019-08-16</td>\n",
       "      <td>B</td>\n",
       "    </tr>\n",
       "    <tr>\n",
       "      <th>55</th>\n",
       "      <td>2019-08-01</td>\n",
       "      <td>A</td>\n",
       "    </tr>\n",
       "    <tr>\n",
       "      <th>...</th>\n",
       "      <td>...</td>\n",
       "      <td>...</td>\n",
       "    </tr>\n",
       "    <tr>\n",
       "      <th>1068</th>\n",
       "      <td>2019-08-12</td>\n",
       "      <td>A</td>\n",
       "    </tr>\n",
       "    <tr>\n",
       "      <th>1114</th>\n",
       "      <td>2019-08-13</td>\n",
       "      <td>B</td>\n",
       "    </tr>\n",
       "    <tr>\n",
       "      <th>1116</th>\n",
       "      <td>2019-08-13</td>\n",
       "      <td>A</td>\n",
       "    </tr>\n",
       "    <tr>\n",
       "      <th>1149</th>\n",
       "      <td>2019-08-14</td>\n",
       "      <td>B</td>\n",
       "    </tr>\n",
       "    <tr>\n",
       "      <th>1150</th>\n",
       "      <td>2019-08-14</td>\n",
       "      <td>A</td>\n",
       "    </tr>\n",
       "  </tbody>\n",
       "</table>\n",
       "<p>62 rows × 2 columns</p>\n",
       "</div>"
      ],
      "text/plain": [
       "           date group\n",
       "0    2019-08-15     B\n",
       "2    2019-08-15     A\n",
       "45   2019-08-16     A\n",
       "47   2019-08-16     B\n",
       "55   2019-08-01     A\n",
       "...         ...   ...\n",
       "1068 2019-08-12     A\n",
       "1114 2019-08-13     B\n",
       "1116 2019-08-13     A\n",
       "1149 2019-08-14     B\n",
       "1150 2019-08-14     A\n",
       "\n",
       "[62 rows x 2 columns]"
      ]
     },
     "execution_count": 19,
     "metadata": {},
     "output_type": "execute_result"
    }
   ],
   "source": [
    "#создадим массив уникальных пар значений дат и групп теста методом \n",
    "dates_groups = orders[['date', 'group']].drop_duplicates()\n",
    "dates_groups"
   ]
  },
  {
   "cell_type": "code",
   "execution_count": 20,
   "metadata": {},
   "outputs": [],
   "source": [
    "#cоберём агрегированные кумулятивные по дням данные о заказах \n",
    "orders_aggregated = dates_groups.apply(\n",
    "    lambda x: orders[\n",
    "        np.logical_and(\n",
    "            orders['date'] <= x['date'], orders['group'] == x['group']\n",
    "        )\n",
    "    ].agg(\n",
    "        {\n",
    "            'date': 'max',\n",
    "            'group': 'max',\n",
    "            'transactionId': 'nunique',\n",
    "            'visitorId': 'nunique',\n",
    "            'revenue': 'sum',\n",
    "        }\n",
    "    ),\n",
    "    axis=1,\n",
    ").sort_values(by=['date', 'group'])"
   ]
  },
  {
   "cell_type": "code",
   "execution_count": 21,
   "metadata": {},
   "outputs": [
    {
     "data": {
      "text/html": [
       "<div>\n",
       "<style scoped>\n",
       "    .dataframe tbody tr th:only-of-type {\n",
       "        vertical-align: middle;\n",
       "    }\n",
       "\n",
       "    .dataframe tbody tr th {\n",
       "        vertical-align: top;\n",
       "    }\n",
       "\n",
       "    .dataframe thead th {\n",
       "        text-align: right;\n",
       "    }\n",
       "</style>\n",
       "<table border=\"1\" class=\"dataframe\">\n",
       "  <thead>\n",
       "    <tr style=\"text-align: right;\">\n",
       "      <th></th>\n",
       "      <th>date</th>\n",
       "      <th>group</th>\n",
       "      <th>transactionId</th>\n",
       "      <th>visitorId</th>\n",
       "      <th>revenue</th>\n",
       "    </tr>\n",
       "  </thead>\n",
       "  <tbody>\n",
       "    <tr>\n",
       "      <th>55</th>\n",
       "      <td>2019-08-01</td>\n",
       "      <td>A</td>\n",
       "      <td>24</td>\n",
       "      <td>20</td>\n",
       "      <td>148579</td>\n",
       "    </tr>\n",
       "    <tr>\n",
       "      <th>66</th>\n",
       "      <td>2019-08-01</td>\n",
       "      <td>B</td>\n",
       "      <td>21</td>\n",
       "      <td>20</td>\n",
       "      <td>101217</td>\n",
       "    </tr>\n",
       "    <tr>\n",
       "      <th>175</th>\n",
       "      <td>2019-08-02</td>\n",
       "      <td>A</td>\n",
       "      <td>44</td>\n",
       "      <td>38</td>\n",
       "      <td>242401</td>\n",
       "    </tr>\n",
       "    <tr>\n",
       "      <th>173</th>\n",
       "      <td>2019-08-02</td>\n",
       "      <td>B</td>\n",
       "      <td>45</td>\n",
       "      <td>43</td>\n",
       "      <td>266748</td>\n",
       "    </tr>\n",
       "    <tr>\n",
       "      <th>291</th>\n",
       "      <td>2019-08-03</td>\n",
       "      <td>A</td>\n",
       "      <td>68</td>\n",
       "      <td>62</td>\n",
       "      <td>354874</td>\n",
       "    </tr>\n",
       "  </tbody>\n",
       "</table>\n",
       "</div>"
      ],
      "text/plain": [
       "          date group  transactionId  visitorId  revenue\n",
       "55  2019-08-01     A             24         20   148579\n",
       "66  2019-08-01     B             21         20   101217\n",
       "175 2019-08-02     A             44         38   242401\n",
       "173 2019-08-02     B             45         43   266748\n",
       "291 2019-08-03     A             68         62   354874"
      ]
     },
     "execution_count": 21,
     "metadata": {},
     "output_type": "execute_result"
    }
   ],
   "source": [
    "orders_aggregated.head()"
   ]
  },
  {
   "cell_type": "code",
   "execution_count": 22,
   "metadata": {},
   "outputs": [
    {
     "data": {
      "text/html": [
       "<div>\n",
       "<style scoped>\n",
       "    .dataframe tbody tr th:only-of-type {\n",
       "        vertical-align: middle;\n",
       "    }\n",
       "\n",
       "    .dataframe tbody tr th {\n",
       "        vertical-align: top;\n",
       "    }\n",
       "\n",
       "    .dataframe thead th {\n",
       "        text-align: right;\n",
       "    }\n",
       "</style>\n",
       "<table border=\"1\" class=\"dataframe\">\n",
       "  <thead>\n",
       "    <tr style=\"text-align: right;\">\n",
       "      <th></th>\n",
       "      <th>date</th>\n",
       "      <th>group</th>\n",
       "      <th>visitors</th>\n",
       "    </tr>\n",
       "  </thead>\n",
       "  <tbody>\n",
       "    <tr>\n",
       "      <th>55</th>\n",
       "      <td>2019-08-01</td>\n",
       "      <td>A</td>\n",
       "      <td>719</td>\n",
       "    </tr>\n",
       "    <tr>\n",
       "      <th>66</th>\n",
       "      <td>2019-08-01</td>\n",
       "      <td>B</td>\n",
       "      <td>713</td>\n",
       "    </tr>\n",
       "    <tr>\n",
       "      <th>175</th>\n",
       "      <td>2019-08-02</td>\n",
       "      <td>A</td>\n",
       "      <td>1338</td>\n",
       "    </tr>\n",
       "    <tr>\n",
       "      <th>173</th>\n",
       "      <td>2019-08-02</td>\n",
       "      <td>B</td>\n",
       "      <td>1294</td>\n",
       "    </tr>\n",
       "    <tr>\n",
       "      <th>291</th>\n",
       "      <td>2019-08-03</td>\n",
       "      <td>A</td>\n",
       "      <td>1845</td>\n",
       "    </tr>\n",
       "    <tr>\n",
       "      <th>...</th>\n",
       "      <td>...</td>\n",
       "      <td>...</td>\n",
       "      <td>...</td>\n",
       "    </tr>\n",
       "    <tr>\n",
       "      <th>496</th>\n",
       "      <td>2019-08-29</td>\n",
       "      <td>B</td>\n",
       "      <td>17708</td>\n",
       "    </tr>\n",
       "    <tr>\n",
       "      <th>730</th>\n",
       "      <td>2019-08-30</td>\n",
       "      <td>A</td>\n",
       "      <td>18037</td>\n",
       "    </tr>\n",
       "    <tr>\n",
       "      <th>690</th>\n",
       "      <td>2019-08-30</td>\n",
       "      <td>B</td>\n",
       "      <td>18198</td>\n",
       "    </tr>\n",
       "    <tr>\n",
       "      <th>958</th>\n",
       "      <td>2019-08-31</td>\n",
       "      <td>A</td>\n",
       "      <td>18736</td>\n",
       "    </tr>\n",
       "    <tr>\n",
       "      <th>930</th>\n",
       "      <td>2019-08-31</td>\n",
       "      <td>B</td>\n",
       "      <td>18916</td>\n",
       "    </tr>\n",
       "  </tbody>\n",
       "</table>\n",
       "<p>62 rows × 3 columns</p>\n",
       "</div>"
      ],
      "text/plain": [
       "          date group  visitors\n",
       "55  2019-08-01     A       719\n",
       "66  2019-08-01     B       713\n",
       "175 2019-08-02     A      1338\n",
       "173 2019-08-02     B      1294\n",
       "291 2019-08-03     A      1845\n",
       "..         ...   ...       ...\n",
       "496 2019-08-29     B     17708\n",
       "730 2019-08-30     A     18037\n",
       "690 2019-08-30     B     18198\n",
       "958 2019-08-31     A     18736\n",
       "930 2019-08-31     B     18916\n",
       "\n",
       "[62 rows x 3 columns]"
      ]
     },
     "execution_count": 22,
     "metadata": {},
     "output_type": "execute_result"
    }
   ],
   "source": [
    "#получим агрегированные кумулятивные по дням данные о посетителях интернет-магазина\n",
    "visitors_aggregated = dates_groups.apply(\n",
    "    lambda x: visitors[\n",
    "        np.logical_and(\n",
    "            visitors['date'] <= x['date'], visitors['group'] == x['group']\n",
    "        )\n",
    "    ].agg({'date': 'max', 'group': 'max', 'visitors': 'sum'}),\n",
    "    axis=1,\n",
    ").sort_values(by=['date', 'group'])\n",
    "visitors_aggregated"
   ]
  },
  {
   "cell_type": "code",
   "execution_count": 23,
   "metadata": {},
   "outputs": [],
   "source": [
    "#объединим данные в единую таблицу\n",
    "cumulative_data = orders_aggregated.merge(\n",
    "    visitors_aggregated, left_on=['date', 'group'], right_on=['date', 'group']\n",
    ")"
   ]
  },
  {
   "cell_type": "code",
   "execution_count": 24,
   "metadata": {},
   "outputs": [
    {
     "data": {
      "text/html": [
       "<div>\n",
       "<style scoped>\n",
       "    .dataframe tbody tr th:only-of-type {\n",
       "        vertical-align: middle;\n",
       "    }\n",
       "\n",
       "    .dataframe tbody tr th {\n",
       "        vertical-align: top;\n",
       "    }\n",
       "\n",
       "    .dataframe thead th {\n",
       "        text-align: right;\n",
       "    }\n",
       "</style>\n",
       "<table border=\"1\" class=\"dataframe\">\n",
       "  <thead>\n",
       "    <tr style=\"text-align: right;\">\n",
       "      <th></th>\n",
       "      <th>date</th>\n",
       "      <th>group</th>\n",
       "      <th>orders</th>\n",
       "      <th>buyers</th>\n",
       "      <th>revenue</th>\n",
       "      <th>visitors</th>\n",
       "    </tr>\n",
       "  </thead>\n",
       "  <tbody>\n",
       "    <tr>\n",
       "      <th>0</th>\n",
       "      <td>2019-08-01</td>\n",
       "      <td>A</td>\n",
       "      <td>24</td>\n",
       "      <td>20</td>\n",
       "      <td>148579</td>\n",
       "      <td>719</td>\n",
       "    </tr>\n",
       "    <tr>\n",
       "      <th>1</th>\n",
       "      <td>2019-08-01</td>\n",
       "      <td>B</td>\n",
       "      <td>21</td>\n",
       "      <td>20</td>\n",
       "      <td>101217</td>\n",
       "      <td>713</td>\n",
       "    </tr>\n",
       "    <tr>\n",
       "      <th>2</th>\n",
       "      <td>2019-08-02</td>\n",
       "      <td>A</td>\n",
       "      <td>44</td>\n",
       "      <td>38</td>\n",
       "      <td>242401</td>\n",
       "      <td>1338</td>\n",
       "    </tr>\n",
       "    <tr>\n",
       "      <th>3</th>\n",
       "      <td>2019-08-02</td>\n",
       "      <td>B</td>\n",
       "      <td>45</td>\n",
       "      <td>43</td>\n",
       "      <td>266748</td>\n",
       "      <td>1294</td>\n",
       "    </tr>\n",
       "    <tr>\n",
       "      <th>4</th>\n",
       "      <td>2019-08-03</td>\n",
       "      <td>A</td>\n",
       "      <td>68</td>\n",
       "      <td>62</td>\n",
       "      <td>354874</td>\n",
       "      <td>1845</td>\n",
       "    </tr>\n",
       "  </tbody>\n",
       "</table>\n",
       "</div>"
      ],
      "text/plain": [
       "        date group  orders  buyers  revenue  visitors\n",
       "0 2019-08-01     A      24      20   148579       719\n",
       "1 2019-08-01     B      21      20   101217       713\n",
       "2 2019-08-02     A      44      38   242401      1338\n",
       "3 2019-08-02     B      45      43   266748      1294\n",
       "4 2019-08-03     A      68      62   354874      1845"
      ]
     },
     "execution_count": 24,
     "metadata": {},
     "output_type": "execute_result"
    }
   ],
   "source": [
    "cumulative_data.columns = [\n",
    "    'date',\n",
    "    'group',\n",
    "    'orders',\n",
    "    'buyers',\n",
    "    'revenue',\n",
    "    'visitors',\n",
    "]\n",
    "cumulative_data.head()"
   ]
  },
  {
   "cell_type": "code",
   "execution_count": 25,
   "metadata": {},
   "outputs": [],
   "source": [
    "#соберем данные с кумулятивным количеством заказов и кумулятивной выручкой по дням в группе А\n",
    "cumulative_revenue_a = cumulative_data[cumulative_data['group']=='A'][['date','revenue', 'orders']]"
   ]
  },
  {
   "cell_type": "code",
   "execution_count": 26,
   "metadata": {},
   "outputs": [],
   "source": [
    "#соберем данные с кумулятивным количеством заказов и кумулятивной выручкой по дням в группе B\n",
    "cumulative_revenue_b = cumulative_data[cumulative_data['group']=='B'][['date','revenue', 'orders']]"
   ]
  },
  {
   "cell_type": "code",
   "execution_count": 27,
   "metadata": {},
   "outputs": [
    {
     "data": {
      "image/png": "[encoded data removed]",
      "text/plain": [
       "<Figure size 720x360 with 1 Axes>"
      ]
     },
     "metadata": {
      "needs_background": "light"
     },
     "output_type": "display_data"
    }
   ],
   "source": [
    "#cтроим график выручки по группам\n",
    "plt.plot(cumulative_revenue_a['date'], cumulative_revenue_a['revenue'], label='A')\n",
    "plt.plot(cumulative_revenue_b['date'], cumulative_revenue_b['revenue'], label='B')\n",
    "plt.legend()\n",
    "plt.xticks(rotation=45)\n",
    "plt.xlabel('Дата')\n",
    "plt.ylabel('Кумулятивная выручка, у.е.')\n",
    "plt.title('График кумулятивной выручки по группам')\n",
    "plt.show()"
   ]
  },
  {
   "cell_type": "markdown",
   "metadata": {},
   "source": [
    "Выручка увеличивается в течение всего теста - в начале теста группа B незначительно опережала группу А (местами выручка в группах сравнивалась). Примерно в середине теста группа B значительно вырвалась вперед - возможно на такой значительный скачок повлияли выбросы в данных, т.е. аномально большие заказы в группе B."
   ]
  },
  {
   "cell_type": "markdown",
   "metadata": {},
   "source": [
    "<div class=\"alert alert-block alert-success\">\n",
    "    \n",
    "**Комментарий от ревьюера**\n",
    "\n",
    "Верно, но пока мы не знаем, с чем связан скачок в группе B: с резким увеличением количества заказов или с ростом стоимости.\n",
    "</div>"
   ]
  },
  {
   "cell_type": "markdown",
   "metadata": {},
   "source": [
    "**2.2. Постройте график кумулятивного среднего чека по группам. Сделайте выводы и предположения.**"
   ]
  },
  {
   "cell_type": "code",
   "execution_count": 28,
   "metadata": {},
   "outputs": [
    {
     "data": {
      "image/png": "[encoded data removed]",
      "text/plain": [
       "<Figure size 720x360 with 1 Axes>"
      ]
     },
     "metadata": {
      "needs_background": "light"
     },
     "output_type": "display_data"
    }
   ],
   "source": [
    "#графики среднего чека по группам получим разделив кумулятивную выручку на кумулятивное число заказов\n",
    "plt.plot(cumulative_revenue_a['date'], cumulative_revenue_a['revenue']/\n",
    "         cumulative_revenue_a['orders'], label='A')\n",
    "plt.plot(cumulative_revenue_b['date'], cumulative_revenue_b['revenue']/\n",
    "         cumulative_revenue_b['orders'], label='B')\n",
    "plt.legend()\n",
    "plt.xticks(rotation=45)\n",
    "plt.xlabel('Дата')\n",
    "plt.ylabel('Кумулятивный средний чек, у.е.')\n",
    "plt.title('График кумулятивного среднего чека по группам')\n",
    "plt.show()"
   ]
  },
  {
   "cell_type": "markdown",
   "metadata": {},
   "source": [
    "Куммулятивные значения среднего чека по группам в начале теста были подвержены значительным коллебаниям, к середине теста группа А вышла на плато, а группа В имеет значительный скачок вверх с последующим снижением значений."
   ]
  },
  {
   "cell_type": "markdown",
   "metadata": {},
   "source": [
    "**2.3. Постройте график относительного изменения кумулятивного среднего чека группы B к группе A. Сделайте выводы и предположения.**"
   ]
  },
  {
   "cell_type": "code",
   "execution_count": 29,
   "metadata": {},
   "outputs": [],
   "source": [
    "#собираем данные в одном датафрейме\n",
    "merged_cumulative_revenue = cumulative_revenue_a.merge(\n",
    "    cumulative_revenue_b, \n",
    "    left_on='date', \n",
    "    right_on='date', \n",
    "    how='left', \n",
    "    suffixes=['A', 'B']\n",
    ")"
   ]
  },
  {
   "cell_type": "code",
   "execution_count": 30,
   "metadata": {},
   "outputs": [
    {
     "data": {
      "text/html": [
       "<div>\n",
       "<style scoped>\n",
       "    .dataframe tbody tr th:only-of-type {\n",
       "        vertical-align: middle;\n",
       "    }\n",
       "\n",
       "    .dataframe tbody tr th {\n",
       "        vertical-align: top;\n",
       "    }\n",
       "\n",
       "    .dataframe thead th {\n",
       "        text-align: right;\n",
       "    }\n",
       "</style>\n",
       "<table border=\"1\" class=\"dataframe\">\n",
       "  <thead>\n",
       "    <tr style=\"text-align: right;\">\n",
       "      <th></th>\n",
       "      <th>date</th>\n",
       "      <th>revenueA</th>\n",
       "      <th>ordersA</th>\n",
       "      <th>revenueB</th>\n",
       "      <th>ordersB</th>\n",
       "    </tr>\n",
       "  </thead>\n",
       "  <tbody>\n",
       "    <tr>\n",
       "      <th>0</th>\n",
       "      <td>2019-08-01</td>\n",
       "      <td>148579</td>\n",
       "      <td>24</td>\n",
       "      <td>101217</td>\n",
       "      <td>21</td>\n",
       "    </tr>\n",
       "    <tr>\n",
       "      <th>1</th>\n",
       "      <td>2019-08-02</td>\n",
       "      <td>242401</td>\n",
       "      <td>44</td>\n",
       "      <td>266748</td>\n",
       "      <td>45</td>\n",
       "    </tr>\n",
       "    <tr>\n",
       "      <th>2</th>\n",
       "      <td>2019-08-03</td>\n",
       "      <td>354874</td>\n",
       "      <td>68</td>\n",
       "      <td>380996</td>\n",
       "      <td>61</td>\n",
       "    </tr>\n",
       "    <tr>\n",
       "      <th>3</th>\n",
       "      <td>2019-08-04</td>\n",
       "      <td>425699</td>\n",
       "      <td>84</td>\n",
       "      <td>489567</td>\n",
       "      <td>78</td>\n",
       "    </tr>\n",
       "    <tr>\n",
       "      <th>4</th>\n",
       "      <td>2019-08-05</td>\n",
       "      <td>549917</td>\n",
       "      <td>109</td>\n",
       "      <td>581995</td>\n",
       "      <td>101</td>\n",
       "    </tr>\n",
       "    <tr>\n",
       "      <th>5</th>\n",
       "      <td>2019-08-06</td>\n",
       "      <td>598401</td>\n",
       "      <td>127</td>\n",
       "      <td>824337</td>\n",
       "      <td>129</td>\n",
       "    </tr>\n",
       "    <tr>\n",
       "      <th>6</th>\n",
       "      <td>2019-08-07</td>\n",
       "      <td>740818</td>\n",
       "      <td>145</td>\n",
       "      <td>1049671</td>\n",
       "      <td>153</td>\n",
       "    </tr>\n",
       "    <tr>\n",
       "      <th>7</th>\n",
       "      <td>2019-08-08</td>\n",
       "      <td>837097</td>\n",
       "      <td>161</td>\n",
       "      <td>1270589</td>\n",
       "      <td>180</td>\n",
       "    </tr>\n",
       "    <tr>\n",
       "      <th>8</th>\n",
       "      <td>2019-08-09</td>\n",
       "      <td>1025603</td>\n",
       "      <td>177</td>\n",
       "      <td>1431401</td>\n",
       "      <td>205</td>\n",
       "    </tr>\n",
       "    <tr>\n",
       "      <th>9</th>\n",
       "      <td>2019-08-10</td>\n",
       "      <td>1236098</td>\n",
       "      <td>193</td>\n",
       "      <td>1539203</td>\n",
       "      <td>228</td>\n",
       "    </tr>\n",
       "    <tr>\n",
       "      <th>10</th>\n",
       "      <td>2019-08-11</td>\n",
       "      <td>1313683</td>\n",
       "      <td>206</td>\n",
       "      <td>1592513</td>\n",
       "      <td>241</td>\n",
       "    </tr>\n",
       "    <tr>\n",
       "      <th>11</th>\n",
       "      <td>2019-08-12</td>\n",
       "      <td>1562873</td>\n",
       "      <td>230</td>\n",
       "      <td>1734067</td>\n",
       "      <td>264</td>\n",
       "    </tr>\n",
       "    <tr>\n",
       "      <th>12</th>\n",
       "      <td>2019-08-13</td>\n",
       "      <td>1826511</td>\n",
       "      <td>244</td>\n",
       "      <td>1853738</td>\n",
       "      <td>285</td>\n",
       "    </tr>\n",
       "    <tr>\n",
       "      <th>13</th>\n",
       "      <td>2019-08-14</td>\n",
       "      <td>1890852</td>\n",
       "      <td>268</td>\n",
       "      <td>2025446</td>\n",
       "      <td>308</td>\n",
       "    </tr>\n",
       "    <tr>\n",
       "      <th>14</th>\n",
       "      <td>2019-08-15</td>\n",
       "      <td>1979057</td>\n",
       "      <td>283</td>\n",
       "      <td>2367945</td>\n",
       "      <td>339</td>\n",
       "    </tr>\n",
       "    <tr>\n",
       "      <th>15</th>\n",
       "      <td>2019-08-16</td>\n",
       "      <td>2078908</td>\n",
       "      <td>301</td>\n",
       "      <td>2539635</td>\n",
       "      <td>359</td>\n",
       "    </tr>\n",
       "    <tr>\n",
       "      <th>16</th>\n",
       "      <td>2019-08-17</td>\n",
       "      <td>2129769</td>\n",
       "      <td>311</td>\n",
       "      <td>2620790</td>\n",
       "      <td>373</td>\n",
       "    </tr>\n",
       "    <tr>\n",
       "      <th>17</th>\n",
       "      <td>2019-08-18</td>\n",
       "      <td>2202167</td>\n",
       "      <td>328</td>\n",
       "      <td>2686621</td>\n",
       "      <td>382</td>\n",
       "    </tr>\n",
       "    <tr>\n",
       "      <th>18</th>\n",
       "      <td>2019-08-19</td>\n",
       "      <td>2391910</td>\n",
       "      <td>350</td>\n",
       "      <td>4116541</td>\n",
       "      <td>403</td>\n",
       "    </tr>\n",
       "    <tr>\n",
       "      <th>19</th>\n",
       "      <td>2019-08-20</td>\n",
       "      <td>2469529</td>\n",
       "      <td>362</td>\n",
       "      <td>4263815</td>\n",
       "      <td>423</td>\n",
       "    </tr>\n",
       "    <tr>\n",
       "      <th>20</th>\n",
       "      <td>2019-08-21</td>\n",
       "      <td>2643838</td>\n",
       "      <td>385</td>\n",
       "      <td>4426892</td>\n",
       "      <td>437</td>\n",
       "    </tr>\n",
       "    <tr>\n",
       "      <th>21</th>\n",
       "      <td>2019-08-22</td>\n",
       "      <td>2756579</td>\n",
       "      <td>401</td>\n",
       "      <td>4589247</td>\n",
       "      <td>462</td>\n",
       "    </tr>\n",
       "    <tr>\n",
       "      <th>22</th>\n",
       "      <td>2019-08-23</td>\n",
       "      <td>2874367</td>\n",
       "      <td>426</td>\n",
       "      <td>4703216</td>\n",
       "      <td>477</td>\n",
       "    </tr>\n",
       "    <tr>\n",
       "      <th>23</th>\n",
       "      <td>2019-08-24</td>\n",
       "      <td>3002070</td>\n",
       "      <td>441</td>\n",
       "      <td>4798722</td>\n",
       "      <td>493</td>\n",
       "    </tr>\n",
       "    <tr>\n",
       "      <th>24</th>\n",
       "      <td>2019-08-25</td>\n",
       "      <td>3070704</td>\n",
       "      <td>451</td>\n",
       "      <td>4901584</td>\n",
       "      <td>507</td>\n",
       "    </tr>\n",
       "    <tr>\n",
       "      <th>25</th>\n",
       "      <td>2019-08-26</td>\n",
       "      <td>3227918</td>\n",
       "      <td>467</td>\n",
       "      <td>5084583</td>\n",
       "      <td>532</td>\n",
       "    </tr>\n",
       "    <tr>\n",
       "      <th>26</th>\n",
       "      <td>2019-08-27</td>\n",
       "      <td>3514698</td>\n",
       "      <td>495</td>\n",
       "      <td>5232260</td>\n",
       "      <td>548</td>\n",
       "    </tr>\n",
       "    <tr>\n",
       "      <th>27</th>\n",
       "      <td>2019-08-28</td>\n",
       "      <td>3615820</td>\n",
       "      <td>512</td>\n",
       "      <td>5328268</td>\n",
       "      <td>576</td>\n",
       "    </tr>\n",
       "    <tr>\n",
       "      <th>28</th>\n",
       "      <td>2019-08-29</td>\n",
       "      <td>3936510</td>\n",
       "      <td>534</td>\n",
       "      <td>5559398</td>\n",
       "      <td>596</td>\n",
       "    </tr>\n",
       "    <tr>\n",
       "      <th>29</th>\n",
       "      <td>2019-08-30</td>\n",
       "      <td>4022970</td>\n",
       "      <td>545</td>\n",
       "      <td>5774631</td>\n",
       "      <td>620</td>\n",
       "    </tr>\n",
       "    <tr>\n",
       "      <th>30</th>\n",
       "      <td>2019-08-31</td>\n",
       "      <td>4084803</td>\n",
       "      <td>557</td>\n",
       "      <td>5907760</td>\n",
       "      <td>640</td>\n",
       "    </tr>\n",
       "  </tbody>\n",
       "</table>\n",
       "</div>"
      ],
      "text/plain": [
       "         date  revenueA  ordersA  revenueB  ordersB\n",
       "0  2019-08-01    148579       24    101217       21\n",
       "1  2019-08-02    242401       44    266748       45\n",
       "2  2019-08-03    354874       68    380996       61\n",
       "3  2019-08-04    425699       84    489567       78\n",
       "4  2019-08-05    549917      109    581995      101\n",
       "5  2019-08-06    598401      127    824337      129\n",
       "6  2019-08-07    740818      145   1049671      153\n",
       "7  2019-08-08    837097      161   1270589      180\n",
       "8  2019-08-09   1025603      177   1431401      205\n",
       "9  2019-08-10   1236098      193   1539203      228\n",
       "10 2019-08-11   1313683      206   1592513      241\n",
       "11 2019-08-12   1562873      230   1734067      264\n",
       "12 2019-08-13   1826511      244   1853738      285\n",
       "13 2019-08-14   1890852      268   2025446      308\n",
       "14 2019-08-15   1979057      283   2367945      339\n",
       "15 2019-08-16   2078908      301   2539635      359\n",
       "16 2019-08-17   2129769      311   2620790      373\n",
       "17 2019-08-18   2202167      328   2686621      382\n",
       "18 2019-08-19   2391910      350   4116541      403\n",
       "19 2019-08-20   2469529      362   4263815      423\n",
       "20 2019-08-21   2643838      385   4426892      437\n",
       "21 2019-08-22   2756579      401   4589247      462\n",
       "22 2019-08-23   2874367      426   4703216      477\n",
       "23 2019-08-24   3002070      441   4798722      493\n",
       "24 2019-08-25   3070704      451   4901584      507\n",
       "25 2019-08-26   3227918      467   5084583      532\n",
       "26 2019-08-27   3514698      495   5232260      548\n",
       "27 2019-08-28   3615820      512   5328268      576\n",
       "28 2019-08-29   3936510      534   5559398      596\n",
       "29 2019-08-30   4022970      545   5774631      620\n",
       "30 2019-08-31   4084803      557   5907760      640"
      ]
     },
     "execution_count": 30,
     "metadata": {},
     "output_type": "execute_result"
    }
   ],
   "source": [
    "merged_cumulative_revenue"
   ]
  },
  {
   "cell_type": "code",
   "execution_count": 31,
   "metadata": {},
   "outputs": [
    {
     "data": {
      "image/png": "[encoded data removed]",
      "text/plain": [
       "<Figure size 720x360 with 1 Axes>"
      ]
     },
     "metadata": {
      "needs_background": "light"
     },
     "output_type": "display_data"
    }
   ],
   "source": [
    "#посмотрим на отношение средних чеков\n",
    "plt.plot(merged_cumulative_revenue['date'], (\n",
    "    merged_cumulative_revenue['revenueB']/\n",
    "    merged_cumulative_revenue['ordersB'])/\n",
    "         (merged_cumulative_revenue['revenueA']/\n",
    "          merged_cumulative_revenue['ordersA'])-1)\n",
    "plt.axhline(y=0, color='black', linestyle='--') # добавляем ось X\n",
    "plt.xticks(rotation=45)\n",
    "plt.xlabel('Дата')\n",
    "plt.ylabel('Кумулятивный средний чек, у.е.')\n",
    "plt.title('График относительного изменения кумулятивного среднего чека')\n",
    "plt.show()"
   ]
  },
  {
   "cell_type": "markdown",
   "metadata": {},
   "source": [
    "Значения относительного изменения среднего чека значительно менялись в несколько дат, вероятно тогда и были совершены аномально большие заказы."
   ]
  },
  {
   "cell_type": "markdown",
   "metadata": {},
   "source": [
    "**2.4. Постройте график кумулятивного среднего количества заказов на посетителя по группам. Сделайте выводы и предположения.**"
   ]
  },
  {
   "cell_type": "code",
   "execution_count": 32,
   "metadata": {},
   "outputs": [],
   "source": [
    "#считаем кумулятивную конверсию (среднее количество заказов)\n",
    "cumulative_data['conversion'] = cumulative_data['orders']/cumulative_data['visitors']"
   ]
  },
  {
   "cell_type": "code",
   "execution_count": 33,
   "metadata": {},
   "outputs": [],
   "source": [
    "#отделяем данные по группе A\n",
    "cumulative_data_a = cumulative_data[cumulative_data['group']=='A']"
   ]
  },
  {
   "cell_type": "code",
   "execution_count": 34,
   "metadata": {},
   "outputs": [],
   "source": [
    "#отделяем данные по группе B\n",
    "cumulative_data_b = cumulative_data[cumulative_data['group']=='B']"
   ]
  },
  {
   "cell_type": "code",
   "execution_count": 35,
   "metadata": {},
   "outputs": [
    {
     "data": {
      "image/png": "[encoded data removed]",
      "text/plain": [
       "<Figure size 720x360 with 1 Axes>"
      ]
     },
     "metadata": {
      "needs_background": "light"
     },
     "output_type": "display_data"
    }
   ],
   "source": [
    "#строим графики\n",
    "plt.plot(cumulative_data_a['date'], cumulative_data_a['conversion'], label='A')\n",
    "plt.plot(cumulative_data_b['date'], cumulative_data_b['conversion'], label='B')\n",
    "plt.legend()\n",
    "plt.axis([dt.datetime(2019, 8, 1), dt.datetime(2019, 8, 31), 0, 0.07]) # задаем масштаб осей\n",
    "plt.xticks(rotation=45)\n",
    "plt.xlabel('Дата')\n",
    "plt.ylabel('Кумулятивное ср. кол-во заказов, шт.')\n",
    "plt.title('График кумулятивного среднего количества заказов')\n",
    "plt.show()"
   ]
  },
  {
   "cell_type": "markdown",
   "metadata": {},
   "source": [
    "Мы задали масштабы осей на графике, чтобы сгладить относительные колебания в течение теста и более наглядно увидеть, что обе группы зафиксирвоались около среднего значения. \n",
    "\n",
    "В начале теста обе группы были подвержены колебаниям, местами группа А вырывалась вперед. Ко второй неделе теста обе группы выровнялись и группа В зафиксировалась около значений, стабильно больших, чем у группы А."
   ]
  },
  {
   "cell_type": "markdown",
   "metadata": {},
   "source": [
    "**2.5. Постройте график относительного изменения кумулятивного среднего количества заказов на посетителя группы B к группе A. Сделайте выводы и предположения.**"
   ]
  },
  {
   "cell_type": "code",
   "execution_count": 36,
   "metadata": {},
   "outputs": [],
   "source": [
    "#объединим датафреймы с комулятивными конверсиями по группам\n",
    "merged_cumulative_conversions = cumulative_data_a[\n",
    "    ['date','conversion']].merge(cumulative_data_b[['date','conversion']], \n",
    "                                 left_on='date', \n",
    "                                 right_on='date', \n",
    "                                 how='left', \n",
    "                                 suffixes=['A', 'B']\n",
    "                                )"
   ]
  },
  {
   "cell_type": "code",
   "execution_count": 37,
   "metadata": {},
   "outputs": [
    {
     "data": {
      "image/png": "[encoded data removed]",
      "text/plain": [
       "<Figure size 720x360 with 1 Axes>"
      ]
     },
     "metadata": {
      "needs_background": "light"
     },
     "output_type": "display_data"
    }
   ],
   "source": [
    "#посмтроим график относительного прироста среднего количества заказов\n",
    "plt.plot(\n",
    "    merged_cumulative_conversions['date'], \n",
    "    merged_cumulative_conversions['conversionB']/merged_cumulative_conversions['conversionA'] - 1, \n",
    "    label=\"Относительный прирост среднего количества заказов в группе B к A\")\n",
    "plt.legend()\n",
    "\n",
    "plt.axhline(y=0, color='black', linestyle='--')\n",
    "plt.axhline(y=0.15, color='grey', linestyle='--')\n",
    "plt.xticks(rotation=45)\n",
    "plt.xlabel('Дата')\n",
    "plt.ylabel('Кумулятивное ср. кол-во заказов, шт.')\n",
    "plt.title('График относительного изменения кумулятивного среднего количества заказов')\n",
    "plt.show()"
   ]
  },
  {
   "cell_type": "markdown",
   "metadata": {},
   "source": [
    "Со второй недели теста группа B имеет большее среднее количество заказов, чем в группе А, в среднем на 10-20%."
   ]
  },
  {
   "cell_type": "markdown",
   "metadata": {},
   "source": [
    "**2.6. Постройте точечный график количества заказов по пользователям. Сделайте выводы и предположения.**"
   ]
  },
  {
   "cell_type": "code",
   "execution_count": 38,
   "metadata": {},
   "outputs": [],
   "source": [
    "#посчитаем количество заказов по пользователям\n",
    "orders_by_users = (\n",
    "    orders.groupby('visitorId', as_index=False)\n",
    "    .agg({'transactionId': 'nunique'})\n",
    ")"
   ]
  },
  {
   "cell_type": "code",
   "execution_count": 39,
   "metadata": {},
   "outputs": [],
   "source": [
    "orders_by_users.columns = ['visitorId', 'orders']"
   ]
  },
  {
   "cell_type": "code",
   "execution_count": 40,
   "metadata": {},
   "outputs": [],
   "source": [
    "#серия из чисел от 0 до количества наблюдений в orders_by_users\n",
    "x_values = pd.Series(range(0,len(orders_by_users))) "
   ]
  },
  {
   "cell_type": "code",
   "execution_count": 41,
   "metadata": {},
   "outputs": [
    {
     "data": {
      "image/png": "[encoded data removed]",
      "text/plain": [
       "<Figure size 720x360 with 1 Axes>"
      ]
     },
     "metadata": {
      "needs_background": "light"
     },
     "output_type": "display_data"
    }
   ],
   "source": [
    "#строим график\n",
    "plt.scatter(x_values, orders_by_users['orders'])\n",
    "plt.xlabel('Пользователь')\n",
    "plt.ylabel('Кол-во заказов, шт.')\n",
    "plt.title('График количества заказов по пользователям')\n",
    "plt.show()"
   ]
  },
  {
   "cell_type": "markdown",
   "metadata": {},
   "source": [
    "Большинство значений установились на отметке 2-х заказов, наблюдаются значительные выбросы на отметках 3-5 заказов, и единичные выбросы на более высоких значениях."
   ]
  },
  {
   "cell_type": "markdown",
   "metadata": {},
   "source": [
    "**2.7. Посчитайте 95-й и 99-й перцентили количества заказов на пользователя. Выберите границу для определения аномальных пользователей.**"
   ]
  },
  {
   "cell_type": "code",
   "execution_count": 42,
   "metadata": {},
   "outputs": [
    {
     "data": {
      "text/plain": [
       "array([2., 4.])"
      ]
     },
     "execution_count": 42,
     "metadata": {},
     "output_type": "execute_result"
    }
   ],
   "source": [
    "#c помощью встроенной функции Numpy найдем 95-й и 99-й перцентили\n",
    "np.percentile(orders_by_users['orders'], [95, 99])"
   ]
  },
  {
   "cell_type": "code",
   "execution_count": 43,
   "metadata": {},
   "outputs": [],
   "source": [
    "#сохраним среднее значение перцентелей в переменную для дальнейших расчетов\n",
    "orders_percentile = np.percentile(orders_by_users['orders'], [95, 99]).mean()"
   ]
  },
  {
   "cell_type": "code",
   "execution_count": 44,
   "metadata": {},
   "outputs": [
    {
     "data": {
      "text/plain": [
       "3.0"
      ]
     },
     "execution_count": 44,
     "metadata": {},
     "output_type": "execute_result"
    }
   ],
   "source": [
    "orders_percentile"
   ]
  },
  {
   "cell_type": "markdown",
   "metadata": {},
   "source": [
    "Не более 5%  пользователей совершали больше 2-х заказов, и не более 1% пользователей совершил больше 4-х заказов. Примем за границу выбросов усредненное значение 3, все что выше этого будем отсекать."
   ]
  },
  {
   "cell_type": "markdown",
   "metadata": {},
   "source": [
    "**2.8. Постройте точечный график стоимостей заказов. Сделайте выводы и предположения.**"
   ]
  },
  {
   "cell_type": "code",
   "execution_count": 45,
   "metadata": {},
   "outputs": [],
   "source": [
    "x_values = pd.Series(range(0, len(orders['revenue'])))"
   ]
  },
  {
   "cell_type": "code",
   "execution_count": 46,
   "metadata": {},
   "outputs": [
    {
     "data": {
      "image/png": "[encoded data removed]",
      "text/plain": [
       "<Figure size 720x360 with 1 Axes>"
      ]
     },
     "metadata": {
      "needs_background": "light"
     },
     "output_type": "display_data"
    }
   ],
   "source": [
    "plt.scatter(x_values, orders['revenue']) \n",
    "plt.xlabel('Пользователь')\n",
    "plt.ylabel('Стоимость заказа, у.е.')\n",
    "plt.title('График стоимостей заказов')\n",
    "plt.show()"
   ]
  },
  {
   "cell_type": "markdown",
   "metadata": {},
   "source": [
    "Основная масса значений установилась до отметки в 100000. Наблюдается несколько единичных выбросов на отметках 200000 и 1200000. "
   ]
  },
  {
   "cell_type": "markdown",
   "metadata": {},
   "source": [
    "**2.9. Посчитайте 95-й и 99-й перцентили стоимости заказов. Выберите границу для определения аномальных заказов.**"
   ]
  },
  {
   "cell_type": "code",
   "execution_count": 47,
   "metadata": {},
   "outputs": [
    {
     "data": {
      "text/plain": [
       "array([28000. , 58233.2])"
      ]
     },
     "execution_count": 47,
     "metadata": {},
     "output_type": "execute_result"
    }
   ],
   "source": [
    "np.percentile(orders['revenue'], [95, 99])"
   ]
  },
  {
   "cell_type": "code",
   "execution_count": 48,
   "metadata": {},
   "outputs": [],
   "source": [
    "revenue_percentile = np.percentile(orders['revenue'], [95, 99]).mean()"
   ]
  },
  {
   "cell_type": "code",
   "execution_count": 49,
   "metadata": {},
   "outputs": [
    {
     "data": {
      "text/plain": [
       "43116.6"
      ]
     },
     "execution_count": 49,
     "metadata": {},
     "output_type": "execute_result"
    }
   ],
   "source": [
    "revenue_percentile"
   ]
  },
  {
   "cell_type": "markdown",
   "metadata": {},
   "source": [
    "Не более 5%  пользователей сделали заказ на сумму более 28000, и не более 1% пользователей сделали заказ дороже 58000. Примем за границу выбросов стоимость заказа усредненную величину около 43000, все что выше этой суммы будем отсекать."
   ]
  },
  {
   "cell_type": "markdown",
   "metadata": {},
   "source": [
    "**2.10. Посчитайте статистическую значимость различий в среднем количестве заказов на посетителя между группами по «сырым» данным. Сделайте выводы и предположения.**"
   ]
  },
  {
   "cell_type": "markdown",
   "metadata": {},
   "source": [
    "Лучше всего в данном случае для проверки статистической значимости различий в среднем количестве заказов (и в дальнейшем в среднем чеке заказов) подойдет непараметрический тест по `критерию Манна-Уитни`. Он поможет более точно сделать выводы на основе наших выборок, ведь он не так чувствителен к данным с большими (по сравнению с нормальным распределением) выбросами, чем параметрические тесты.\n",
    "\n",
    "Гипотезы для следующего теста сформулируем следующим образом:\n",
    "\n",
    "`H_0: Cтатистически значимых различий в среднем количестве заказов между группами по «сырым» данным нет`\n",
    "<br>\n",
    "`H_1: Cтатистически значимые различия в среднем количестве заказов между группами по «сырым» данным  есть`\n",
    "\n",
    "Значение `alpha` примем = `.05`"
   ]
  },
  {
   "cell_type": "code",
   "execution_count": 50,
   "metadata": {},
   "outputs": [],
   "source": [
    "alpha = .05"
   ]
  },
  {
   "cell_type": "code",
   "execution_count": 51,
   "metadata": {},
   "outputs": [],
   "source": [
    "#посчитаем количество пользователей по датам в группе А\n",
    "visitors_a_daily = visitors[visitors['group'] == 'A'][['date', 'visitors']]"
   ]
  },
  {
   "cell_type": "code",
   "execution_count": 52,
   "metadata": {},
   "outputs": [],
   "source": [
    "visitors_a_daily.columns = ['date', 'visitorsPerDateA']"
   ]
  },
  {
   "cell_type": "code",
   "execution_count": 53,
   "metadata": {},
   "outputs": [],
   "source": [
    "#посчитаем количество пользователей по датам в группе В\n",
    "visitors_b_daily = visitors[visitors['group'] == 'B'][['date', 'visitors']]"
   ]
  },
  {
   "cell_type": "code",
   "execution_count": 54,
   "metadata": {},
   "outputs": [],
   "source": [
    "visitors_b_daily.columns = ['date', 'visitorsPerDateB']"
   ]
  },
  {
   "cell_type": "code",
   "execution_count": 55,
   "metadata": {},
   "outputs": [],
   "source": [
    "#посчитаем количество заказов по датам в группе А\n",
    "orders_a_daily = (\n",
    "    orders[orders['group'] == 'A'][['date', 'transactionId', 'visitorId', 'revenue']]\n",
    "    .groupby('date', as_index=False)\n",
    "    .agg({'transactionId': pd.Series.nunique, 'revenue': 'sum'})\n",
    ")"
   ]
  },
  {
   "cell_type": "code",
   "execution_count": 56,
   "metadata": {},
   "outputs": [],
   "source": [
    "orders_a_daily.columns = ['date', 'ordersPerDateB', 'revenuePerDateB']"
   ]
  },
  {
   "cell_type": "code",
   "execution_count": 57,
   "metadata": {},
   "outputs": [],
   "source": [
    "#посчитаем количество заказов по датам в группе В\n",
    "orders_b_daily = (\n",
    "    orders[orders['group'] == 'B'][['date', 'transactionId', 'visitorId', 'revenue']]\n",
    "    .groupby('date', as_index=False)\n",
    "    .agg({'transactionId': pd.Series.nunique, 'revenue': 'sum'})\n",
    ")"
   ]
  },
  {
   "cell_type": "code",
   "execution_count": 58,
   "metadata": {},
   "outputs": [],
   "source": [
    "orders_b_daily.columns = ['date', 'ordersPerDateB', 'revenuePerDateB']"
   ]
  },
  {
   "cell_type": "code",
   "execution_count": 59,
   "metadata": {},
   "outputs": [],
   "source": [
    "#посчитаем количество заказов на пользователя в группе А\n",
    "orders_by_users_a = (\n",
    "    orders[orders['group'] == 'A']\n",
    "    .groupby('visitorId', as_index=False)\n",
    "    .agg({'transactionId': pd.Series.nunique})\n",
    ")"
   ]
  },
  {
   "cell_type": "code",
   "execution_count": 60,
   "metadata": {},
   "outputs": [],
   "source": [
    "orders_by_users_a.columns = ['visitorId', 'orders']"
   ]
  },
  {
   "cell_type": "code",
   "execution_count": 61,
   "metadata": {},
   "outputs": [],
   "source": [
    "#посчитаем количество заказов на пользователя в группе В\n",
    "orders_by_users_b = (\n",
    "    orders[orders['group'] == 'B']\n",
    "    .groupby('visitorId', as_index=False)\n",
    "    .agg({'transactionId': pd.Series.nunique})\n",
    ")"
   ]
  },
  {
   "cell_type": "code",
   "execution_count": 62,
   "metadata": {},
   "outputs": [],
   "source": [
    "orders_by_users_b.columns = ['visitorId', 'orders'] "
   ]
  },
  {
   "cell_type": "markdown",
   "metadata": {},
   "source": [
    "Объявим переменные `sample_b` и `sample_b`, в которых пользователям из разных групп будет соответствовать количество заказов - "
   ]
  },
  {
   "cell_type": "code",
   "execution_count": 63,
   "metadata": {},
   "outputs": [],
   "source": [
    "sample_a = pd.concat(\n",
    "    [orders_by_users_a['orders'],\n",
    "     pd.Series(0, \n",
    "               index=np.arange(\n",
    "                   visitors_a_daily['visitorsPerDateA'].sum() - len(orders_by_users_a['orders'])), \n",
    "               name='orders')],\n",
    "    axis=0\n",
    ")"
   ]
  },
  {
   "cell_type": "code",
   "execution_count": 64,
   "metadata": {},
   "outputs": [],
   "source": [
    "sample_b = pd.concat(\n",
    "    [orders_by_users_b['orders'],\n",
    "     pd.Series(0, \n",
    "               index=np.arange(\n",
    "                   visitors_b_daily['visitorsPerDateB'].sum() - len(orders_by_users_b['orders'])), \n",
    "               name='orders')],\n",
    "    axis=0\n",
    ")"
   ]
  },
  {
   "cell_type": "markdown",
   "metadata": {},
   "source": [
    "Проверим наши выборки критерием Манна-Уитни."
   ]
  },
  {
   "cell_type": "code",
   "execution_count": 65,
   "metadata": {},
   "outputs": [
    {
     "data": {
      "text/plain": [
       "'p-value = 0.01679'"
      ]
     },
     "metadata": {},
     "output_type": "display_data"
    },
    {
     "name": "stdout",
     "output_type": "stream",
     "text": [
      "Отвергаем нулевую гипотезу\n"
     ]
    },
    {
     "data": {
      "text/plain": [
       "'Относительный прирост среднего количества заказов группы В к группе А составляет 0.138'"
      ]
     },
     "metadata": {},
     "output_type": "display_data"
    }
   ],
   "source": [
    "#зафиксируем результаты\n",
    "raw_orders_mannwhitneyu = stats.mannwhitneyu(sample_a, sample_b)[1]\n",
    "\n",
    "raw_orders_delta = sample_b.mean() / sample_a.mean() - 1\n",
    "\n",
    "display(f\"p-value = {round(raw_orders_mannwhitneyu, 5)}\")\n",
    "\n",
    "if raw_orders_mannwhitneyu < alpha:\n",
    "    print(\"Отвергаем нулевую гипотезу\")\n",
    "else:\n",
    "    print(\"Не получилось отвергнуть нулевую гипотезу\")\n",
    "    \n",
    "display(f\"Относительный прирост среднего количества заказов группы В к группе А составляет {round(raw_orders_delta, 3)}\")"
   ]
  },
  {
   "cell_type": "markdown",
   "metadata": {},
   "source": [
    "P-value ниже 0.05, поэтому нулевую гипотезу можем отвергнуть. Расчеты по сырым данным показывают, что между группами есть статистически значимые различия в среднем количестве заказов, а относительный прирост среднего количества заказов группы В к группе А составляет 13,8 %."
   ]
  },
  {
   "cell_type": "markdown",
   "metadata": {},
   "source": [
    "**2.11. Посчитайте статистическую значимость различий в среднем чеке заказа между группами по «сырым» данным. Сделайте выводы и предположения.**"
   ]
  },
  {
   "cell_type": "markdown",
   "metadata": {},
   "source": [
    "Гипотезы для дальнейшего расчета:\n",
    "\n",
    "`H_0: Cтатистически значимых различий в среднем чеке заказа между группами по «сырым» данным нет`\n",
    "<br>\n",
    "`H_1: Cтатистически значимые различия в среднем чеке заказа между группами по «сырым» данным есть`\n",
    "\n",
    "Значение `alpha` примем = `.05`"
   ]
  },
  {
   "cell_type": "code",
   "execution_count": 66,
   "metadata": {},
   "outputs": [
    {
     "data": {
      "text/plain": [
       "2         400\n",
       "7        1044\n",
       "8       13710\n",
       "10       4008\n",
       "12       7370\n",
       "        ...  \n",
       "1187      750\n",
       "1188      112\n",
       "1193     3190\n",
       "1194    10550\n",
       "1195      100\n",
       "Name: revenue, Length: 557, dtype: int64"
      ]
     },
     "execution_count": 66,
     "metadata": {},
     "output_type": "execute_result"
    }
   ],
   "source": [
    "orders[orders['group']=='A']['revenue']"
   ]
  },
  {
   "cell_type": "code",
   "execution_count": 67,
   "metadata": {},
   "outputs": [
    {
     "data": {
      "text/plain": [
       "'p-value = 0.72929'"
      ]
     },
     "metadata": {},
     "output_type": "display_data"
    },
    {
     "name": "stdout",
     "output_type": "stream",
     "text": [
      "Не получилось отвергнуть нулевую гипотезу\n"
     ]
    },
    {
     "data": {
      "text/plain": [
       "'Относительное различие среднего чека группы В к группе А составляет 0.259'"
      ]
     },
     "metadata": {},
     "output_type": "display_data"
    }
   ],
   "source": [
    "#проверим значимость различий в среднем чеке критерием Манна-Уитни\n",
    "raw_revenue_mannwhitneyu = stats.mannwhitneyu(\n",
    "        orders[orders['group']=='A']['revenue'], \n",
    "        orders[orders['group']=='B']['revenue'])[1]\n",
    "\n",
    "raw_revenue_delta = orders[orders['group']=='B']['revenue'].mean()/orders[orders['group']=='A']['revenue'].mean()-1\n",
    "\n",
    "display(f\"p-value = {round(raw_revenue_mannwhitneyu, 5)}\")\n",
    "\n",
    "if raw_revenue_mannwhitneyu < alpha:\n",
    "    print(\"Отвергаем нулевую гипотезу\")\n",
    "else:\n",
    "    print(\"Не получилось отвергнуть нулевую гипотезу\")\n",
    "    \n",
    "display(f\"Относительное различие среднего чека группы В к группе А составляет {round(raw_revenue_delta, 3)}\")"
   ]
  },
  {
   "cell_type": "markdown",
   "metadata": {},
   "source": [
    "P-value значительно выше 0.05, значит статистически значимых отличий в среднем чеке между группами по сырым данным нет. При этом относительное различие среднего чека между группами составляет больше 25%. Скорее всего причина такого сильно различия кроется в выбросах."
   ]
  },
  {
   "cell_type": "markdown",
   "metadata": {},
   "source": [
    "**2.12. Посчитайте статистическую значимость различий в среднем количестве заказов на посетителя между группами по «очищенным» данным. Сделайте выводы и предположения.**"
   ]
  },
  {
   "cell_type": "markdown",
   "metadata": {},
   "source": [
    "Приступаем к подготовке очищенных от аномалий данных.\n",
    "\n",
    "Примем за аномальных пользователей тех, кто совершил 4 заказа и более, или совершил заказ на сумму свыше около 43 000 рублей. Так мы уберем от 1% до 5% пользователей с наибольшим числом заказов и заказов с наибольшей стоимостью."
   ]
  },
  {
   "cell_type": "code",
   "execution_count": 68,
   "metadata": {},
   "outputs": [],
   "source": [
    "users_with_many_orders = pd.concat(\n",
    "    [\n",
    "        orders_by_users_a[orders_by_users_a['orders'] > orders_percentile]['visitorId'],\n",
    "        orders_by_users_b[orders_by_users_b['orders'] > orders_percentile]['visitorId'],\n",
    "    ],\n",
    "    axis=0,\n",
    ")"
   ]
  },
  {
   "cell_type": "code",
   "execution_count": 69,
   "metadata": {},
   "outputs": [],
   "source": [
    "users_with_expensive_orders = orders[orders['revenue'] > revenue_percentile]['visitorId']"
   ]
  },
  {
   "cell_type": "code",
   "execution_count": 70,
   "metadata": {},
   "outputs": [],
   "source": [
    "abnormal_users = (\n",
    "    pd.concat([users_with_many_orders, users_with_expensive_orders], axis=0)\n",
    "    .drop_duplicates()\n",
    "    .sort_values()\n",
    ")"
   ]
  },
  {
   "cell_type": "code",
   "execution_count": 71,
   "metadata": {},
   "outputs": [
    {
     "data": {
      "text/plain": [
       "1099    148427295\n",
       "18      199603092\n",
       "23      237748145\n",
       "648     382846391\n",
       "1137    759473111\n",
       "Name: visitorId, dtype: int64"
      ]
     },
     "execution_count": 71,
     "metadata": {},
     "output_type": "execute_result"
    }
   ],
   "source": [
    "abnormal_users.head(5)"
   ]
  },
  {
   "cell_type": "markdown",
   "metadata": {},
   "source": [
    "Гипотезы для дальнейшего проведения теста:\n",
    "\n",
    "`H_0: Cтатистически значимых различий в среднем количестве заказов между группами по «очищенным» данным нет`\n",
    "<br>\n",
    "`H_1: Cтатистически значимые различия в среднем количестве заказов между группами по «очищенным» данным  есть`\n",
    "\n",
    "Значение `alpha` примем = `.05`"
   ]
  },
  {
   "cell_type": "code",
   "execution_count": 72,
   "metadata": {},
   "outputs": [
    {
     "data": {
      "text/plain": [
       "0        1\n",
       "1        1\n",
       "2        1\n",
       "3        1\n",
       "4        1\n",
       "        ..\n",
       "18228    0\n",
       "18229    0\n",
       "18230    0\n",
       "18231    0\n",
       "18232    0\n",
       "Name: orders, Length: 18712, dtype: int64"
      ]
     },
     "execution_count": 72,
     "metadata": {},
     "output_type": "execute_result"
    }
   ],
   "source": [
    "sample_a_filtered = pd.concat(\n",
    "    [\n",
    "        orders_by_users_a[\n",
    "            np.logical_not(orders_by_users_a['visitorId'].isin(abnormal_users))\n",
    "        ]['orders'],\n",
    "        pd.Series(\n",
    "            0,\n",
    "            index=np.arange(\n",
    "                visitors_a_daily['visitorsPerDateA'].sum() - len(orders_by_users_a['orders'])\n",
    "            ),\n",
    "            name='orders',\n",
    "        ),\n",
    "    ],\n",
    "    axis=0,\n",
    ")\n",
    "sample_a_filtered"
   ]
  },
  {
   "cell_type": "code",
   "execution_count": 73,
   "metadata": {},
   "outputs": [],
   "source": [
    "sample_b_filtered = pd.concat(\n",
    "    [\n",
    "        orders_by_users_b[\n",
    "            np.logical_not(orders_by_users_b['visitorId'].isin(abnormal_users))\n",
    "        ]['orders'],\n",
    "        pd.Series(\n",
    "            0,\n",
    "            index=np.arange(\n",
    "                visitors_b_daily['visitorsPerDateB'].sum() - len(orders_by_users_b['orders'])\n",
    "            ),\n",
    "            name='orders',\n",
    "        ),\n",
    "    ],\n",
    "    axis=0,\n",
    ")"
   ]
  },
  {
   "cell_type": "code",
   "execution_count": 74,
   "metadata": {},
   "outputs": [
    {
     "data": {
      "text/plain": [
       "'p-value = 0.00862'"
      ]
     },
     "metadata": {},
     "output_type": "display_data"
    },
    {
     "name": "stdout",
     "output_type": "stream",
     "text": [
      "Отвергаем нулевую гипотезу\n"
     ]
    },
    {
     "data": {
      "text/plain": [
       "'Относительное различие среднего чека группы В к группе А составляет 0.165'"
      ]
     },
     "metadata": {},
     "output_type": "display_data"
    }
   ],
   "source": [
    "orders_mannwhitneyu = stats.mannwhitneyu(sample_a_filtered, sample_b_filtered)[1]\n",
    "\n",
    "orders_delta = sample_b_filtered.mean() / sample_a_filtered.mean() - 1\n",
    "\n",
    "display(f\"p-value = {round(orders_mannwhitneyu, 5)}\")\n",
    "\n",
    "if orders_mannwhitneyu < alpha:\n",
    "    print(\"Отвергаем нулевую гипотезу\")\n",
    "else:\n",
    "    print(\"Не получилось отвергнуть нулевую гипотезу\")\n",
    "    \n",
    "display(f\"Относительное различие среднего чека группы В к группе А составляет {round(orders_delta, 3)}\")"
   ]
  },
  {
   "cell_type": "markdown",
   "metadata": {},
   "source": [
    "Как и в случае с сырыми данными, статистическая значимость достигнута (p-value ниже 0,05), а группа В показывает результат по среднему количеству заказов на 16.5% выше, чем группа А. В целом этот результат сравним с результатом по неочищенным данным."
   ]
  },
  {
   "cell_type": "markdown",
   "metadata": {},
   "source": [
    "**2.13. Посчитайте статистическую значимость различий в среднем чеке заказа между группами по «очищенным» данным. Сделайте выводы и предположения.**"
   ]
  },
  {
   "cell_type": "markdown",
   "metadata": {},
   "source": [
    "Гипотезы для дальнейшего расчета:\n",
    "\n",
    "`H_0: Cтатистически значимых различий в среднем чеке заказа между группами по «очищенным» данным нет`\n",
    "<br>\n",
    "`H_1: Cтатистически значимые различия в среднем чеке заказа между группами по «очищенным» данным есть`\n",
    "\n",
    "Значение `alpha` примем = `.05`"
   ]
  },
  {
   "cell_type": "code",
   "execution_count": 75,
   "metadata": {},
   "outputs": [
    {
     "data": {
      "text/plain": [
       "'p-value = 0.68303'"
      ]
     },
     "metadata": {},
     "output_type": "display_data"
    },
    {
     "name": "stdout",
     "output_type": "stream",
     "text": [
      "Не получилось отвергнуть нулевую гипотезу\n"
     ]
    },
    {
     "data": {
      "text/plain": [
       "'Относительное различие среднего чека группы В к группе А составляет 0.067'"
      ]
     },
     "metadata": {},
     "output_type": "display_data"
    }
   ],
   "source": [
    "#проверим значимость различий в среднем чеке критерием Манна-Уитни\n",
    "revenue_mannwhitneyu = stats.mannwhitneyu(\n",
    "        orders[\n",
    "            np.logical_and(\n",
    "                orders['group'] == 'A',\n",
    "                np.logical_not(orders['visitorId'].isin(abnormal_users)),\n",
    "            )\n",
    "        ]['revenue'],\n",
    "        orders[\n",
    "            np.logical_and(\n",
    "                orders['group'] == 'B',\n",
    "                np.logical_not(orders['visitorId'].isin(abnormal_users)),\n",
    "            )\n",
    "        ]['revenue'],\n",
    "    )[1]\n",
    "\n",
    "revenue_delta = (orders[\n",
    "        np.logical_and(\n",
    "            orders['group'] == 'B',\n",
    "            np.logical_not(orders['visitorId'].isin(abnormal_users)),\n",
    "        )\n",
    "    ]['revenue'].mean()\n",
    "    / orders[\n",
    "        np.logical_and(\n",
    "            orders['group'] == 'A',\n",
    "            np.logical_not(orders['visitorId'].isin(abnormal_users)),\n",
    "        )\n",
    "    ]['revenue'].mean()\n",
    "    - 1)\n",
    "\n",
    "display(f\"p-value = {round(revenue_mannwhitneyu, 5)}\")\n",
    "\n",
    "if revenue_mannwhitneyu < alpha:\n",
    "    print(\"Отвергаем нулевую гипотезу\")\n",
    "else:\n",
    "    print(\"Не получилось отвергнуть нулевую гипотезу\")\n",
    "    \n",
    "display(f\"Относительное различие среднего чека группы В к группе А составляет {round(revenue_delta, 3)}\")"
   ]
  },
  {
   "cell_type": "markdown",
   "metadata": {},
   "source": [
    "P-value = `0.683`, значит, нулевую гипотезу о том, что статистически значимых различий в среднем чеке заказа (по \"очищенным\" данным) между группами нет, не отвергаем. При этом разница в среднем чеке между группами по очищенным данным почти в `5 раз` ниже и составляет всего 6,7%, значит выбросы в данных оказывали значительное влияние на результаты."
   ]
  },
  {
   "cell_type": "markdown",
   "metadata": {},
   "source": [
    "**2.14. Примите решение по результатам теста и объясните его.**"
   ]
  },
  {
   "cell_type": "markdown",
   "metadata": {},
   "source": [
    "Промежуточные выводы: \n",
    "- график среднего количества заказов по группам показывает, что обе группы вышли на плато;\n",
    "- статистическая значимость различий в среднем чеке заказа между группами (как по \"очищенным\", так и по \"сырым\" данным) отсутствует, а разница в среднем чеке составляет 6,7%;\n",
    "- зафиксирована статистическая значимость различий в среднем количестве заказов на посетителя между группами (как по \"очищенным\", так и по \"сырым\" данным, а разница в среднем количестве заказов на посетителя составляет 16,5% в пользу группы В.\n",
    "\n",
    "С учетом вышесказанного `можем остановить тест и зафиксировать победу группы В`."
   ]
  },
  {
   "cell_type": "markdown",
   "metadata": {},
   "source": [
    "## Выводы"
   ]
  },
  {
   "cell_type": "markdown",
   "metadata": {},
   "source": [
    "Исходя из расчетов статистической значимости различий в среднем количестве заказов на посетителя и среднем чеке, а также анализе графиков соответствующих графиков:\n",
    "\n",
    "- В данных присутствовали аномалии, оказавшие значительное влияние на расчет метрик среднего чека;\n",
    "- Есть статистически значимое различие по среднему количеству заказов между группами как по «сырым», так и по данным после фильтрации аномалий;\n",
    "- Нет статистически значимого различия по среднему чеку между группами ни по «сырым», ни по данным после фильтрации аномалий;\n",
    "- График различия среднего количества заказов между группами сообщает, что результаты группы B лучше группы A: имеют тенденцию к росту, либо зафиксировались около среднего значения;"
   ]
  },
  {
   "attachments": {
    "%D0%A1%D0%BD%D0%B8%D0%BC%D0%BE%D0%BA%20%D1%8D%D0%BA%D1%80%D0%B0%D0%BD%D0%B0%202023-01-28%20%D0%B2%2001.48.05.png": {
     "image/png": "[encoded data removed]"
    }
   },
   "cell_type": "markdown",
   "metadata": {},
   "source": [
    "![%D0%A1%D0%BD%D0%B8%D0%BC%D0%BE%D0%BA%20%D1%8D%D0%BA%D1%80%D0%B0%D0%BD%D0%B0%202023-01-28%20%D0%B2%2001.48.05.png](attachment:%D0%A1%D0%BD%D0%B8%D0%BC%D0%BE%D0%BA%20%D1%8D%D0%BA%D1%80%D0%B0%D0%BD%D0%B0%202023-01-28%20%D0%B2%2001.48.05.png)"
   ]
  },
  {
   "cell_type": "markdown",
   "metadata": {},
   "source": [
    "- График различия среднего чека колеблется, сделать из этого графика определённые выводы нельзя, однозначно последнюю неделю теста результаты группы B ухудшаются день ото дня."
   ]
  },
  {
   "attachments": {
    "%D0%A1%D0%BD%D0%B8%D0%BC%D0%BE%D0%BA%20%D1%8D%D0%BA%D1%80%D0%B0%D0%BD%D0%B0%202023-01-28%20%D0%B2%2001.48.18.png": {
     "image/png": "[encoded data removed]"
    }
   },
   "cell_type": "markdown",
   "metadata": {},
   "source": [
    "![%D0%A1%D0%BD%D0%B8%D0%BC%D0%BE%D0%BA%20%D1%8D%D0%BA%D1%80%D0%B0%D0%BD%D0%B0%202023-01-28%20%D0%B2%2001.48.18.png](attachment:%D0%A1%D0%BD%D0%B8%D0%BC%D0%BE%D0%BA%20%D1%8D%D0%BA%D1%80%D0%B0%D0%BD%D0%B0%202023-01-28%20%D0%B2%2001.48.18.png)"
   ]
  },
  {
   "cell_type": "markdown",
   "metadata": {},
   "source": [
    "Получается, `среднее количество заказов в группе В лучше, чем в группе А`, но средний чек пользователей обеих групп условно равнозначен. Значит, гипотеза, которую мы тестировали, влияет на среднее количество заказов, но не оказывает влияния на средний чек заказа.\n",
    "\n",
    "Сам факт увеличения среднего количества заказов (и фиксации этой величины на определенном уровне) позволяет нам принять решение `остановить тест, и зафиксировать победу группы B`."
   ]
  }
 ],
 "metadata": {
  "ExecuteTimeLog": [
   {
    "duration": 1243,
    "start_time": "2023-01-24T10:33:57.512Z"
   },
   {
    "duration": 161,
    "start_time": "2023-01-24T10:59:02.162Z"
   },
   {
    "duration": 12,
    "start_time": "2023-01-24T10:59:10.584Z"
   },
   {
    "duration": 6,
    "start_time": "2023-01-24T11:01:28.008Z"
   },
   {
    "duration": 111,
    "start_time": "2023-01-24T11:01:35.832Z"
   },
   {
    "duration": 10,
    "start_time": "2023-01-24T11:01:43.486Z"
   },
   {
    "duration": 5,
    "start_time": "2023-01-24T11:03:45.592Z"
   },
   {
    "duration": 10,
    "start_time": "2023-01-24T11:03:53.180Z"
   },
   {
    "duration": 5,
    "start_time": "2023-01-24T11:04:12.543Z"
   },
   {
    "duration": 10,
    "start_time": "2023-01-24T11:04:49.813Z"
   },
   {
    "duration": 10,
    "start_time": "2023-01-24T11:05:05.946Z"
   },
   {
    "duration": 71,
    "start_time": "2023-01-24T11:05:41.698Z"
   },
   {
    "duration": 103,
    "start_time": "2023-01-24T11:05:45.786Z"
   },
   {
    "duration": 12,
    "start_time": "2023-01-24T11:05:50.884Z"
   },
   {
    "duration": 5,
    "start_time": "2023-01-24T11:06:12.388Z"
   },
   {
    "duration": 5,
    "start_time": "2023-01-24T11:06:37.315Z"
   },
   {
    "duration": 11,
    "start_time": "2023-01-24T11:06:39.129Z"
   },
   {
    "duration": 11,
    "start_time": "2023-01-24T11:06:42.646Z"
   },
   {
    "duration": 49,
    "start_time": "2023-01-26T14:58:05.411Z"
   },
   {
    "duration": 1234,
    "start_time": "2023-01-26T14:58:11.525Z"
   },
   {
    "duration": 124,
    "start_time": "2023-01-26T14:58:12.761Z"
   },
   {
    "duration": 11,
    "start_time": "2023-01-26T14:58:12.887Z"
   },
   {
    "duration": 8,
    "start_time": "2023-01-26T14:58:12.900Z"
   },
   {
    "duration": 13,
    "start_time": "2023-01-26T14:58:12.910Z"
   },
   {
    "duration": 6,
    "start_time": "2023-01-26T14:58:12.925Z"
   },
   {
    "duration": 13,
    "start_time": "2023-01-26T14:58:12.933Z"
   },
   {
    "duration": 11,
    "start_time": "2023-01-26T14:58:12.953Z"
   },
   {
    "duration": 10,
    "start_time": "2023-01-26T14:58:21.660Z"
   },
   {
    "duration": 127,
    "start_time": "2023-01-26T15:10:39.343Z"
   },
   {
    "duration": 8,
    "start_time": "2023-01-26T15:10:55.669Z"
   },
   {
    "duration": 9,
    "start_time": "2023-01-26T15:11:01.967Z"
   },
   {
    "duration": 7,
    "start_time": "2023-01-26T15:11:07.640Z"
   },
   {
    "duration": 9,
    "start_time": "2023-01-26T15:11:11.914Z"
   },
   {
    "duration": 97,
    "start_time": "2023-01-26T15:25:17.195Z"
   },
   {
    "duration": 3,
    "start_time": "2023-01-26T15:25:44.379Z"
   },
   {
    "duration": 9,
    "start_time": "2023-01-26T15:25:49.346Z"
   },
   {
    "duration": 151,
    "start_time": "2023-01-26T15:26:27.150Z"
   },
   {
    "duration": 60,
    "start_time": "2023-01-26T15:26:28.511Z"
   },
   {
    "duration": 11,
    "start_time": "2023-01-26T15:26:30.404Z"
   },
   {
    "duration": 50,
    "start_time": "2023-01-26T15:26:42.926Z"
   },
   {
    "duration": 198,
    "start_time": "2023-01-26T15:26:44.616Z"
   },
   {
    "duration": 11,
    "start_time": "2023-01-26T15:27:06.913Z"
   },
   {
    "duration": 49,
    "start_time": "2023-01-26T15:27:15.153Z"
   },
   {
    "duration": 8,
    "start_time": "2023-01-26T15:27:16.977Z"
   },
   {
    "duration": 13,
    "start_time": "2023-01-26T15:27:19.289Z"
   },
   {
    "duration": 10,
    "start_time": "2023-01-26T15:27:21.038Z"
   },
   {
    "duration": 5,
    "start_time": "2023-01-26T15:27:24.538Z"
   },
   {
    "duration": 9,
    "start_time": "2023-01-26T15:27:26.257Z"
   },
   {
    "duration": 7,
    "start_time": "2023-01-26T15:28:15.739Z"
   },
   {
    "duration": 171,
    "start_time": "2023-01-26T15:28:59.852Z"
   },
   {
    "duration": 126,
    "start_time": "2023-01-26T15:29:25.958Z"
   },
   {
    "duration": 6,
    "start_time": "2023-01-26T15:29:35.967Z"
   },
   {
    "duration": 6,
    "start_time": "2023-01-26T15:29:47.610Z"
   },
   {
    "duration": 5,
    "start_time": "2023-01-26T15:30:01.691Z"
   },
   {
    "duration": 5,
    "start_time": "2023-01-26T15:30:08.092Z"
   },
   {
    "duration": 249,
    "start_time": "2023-01-26T15:30:17.165Z"
   },
   {
    "duration": 171,
    "start_time": "2023-01-26T15:30:35.115Z"
   },
   {
    "duration": 189,
    "start_time": "2023-01-26T15:30:38.646Z"
   },
   {
    "duration": 196,
    "start_time": "2023-01-26T15:30:47.538Z"
   },
   {
    "duration": 183,
    "start_time": "2023-01-26T15:30:54.231Z"
   },
   {
    "duration": 178,
    "start_time": "2023-01-26T15:32:50.222Z"
   },
   {
    "duration": 174,
    "start_time": "2023-01-26T15:32:54.630Z"
   },
   {
    "duration": 177,
    "start_time": "2023-01-26T15:33:05.719Z"
   },
   {
    "duration": 182,
    "start_time": "2023-01-26T15:33:29.362Z"
   },
   {
    "duration": 256,
    "start_time": "2023-01-26T15:33:31.935Z"
   },
   {
    "duration": 186,
    "start_time": "2023-01-26T15:33:34.052Z"
   },
   {
    "duration": 183,
    "start_time": "2023-01-26T15:33:39.011Z"
   },
   {
    "duration": 10,
    "start_time": "2023-01-26T15:36:10.701Z"
   },
   {
    "duration": 8,
    "start_time": "2023-01-26T15:36:13.628Z"
   },
   {
    "duration": 351,
    "start_time": "2023-01-26T15:36:15.347Z"
   },
   {
    "duration": 242,
    "start_time": "2023-01-26T15:36:20.793Z"
   },
   {
    "duration": 4,
    "start_time": "2023-01-26T15:40:34.915Z"
   },
   {
    "duration": 4,
    "start_time": "2023-01-26T15:40:36.249Z"
   },
   {
    "duration": 4,
    "start_time": "2023-01-26T15:40:37.740Z"
   },
   {
    "duration": 185,
    "start_time": "2023-01-26T15:40:39.339Z"
   },
   {
    "duration": 164,
    "start_time": "2023-01-26T15:41:05.178Z"
   },
   {
    "duration": 8,
    "start_time": "2023-01-26T15:41:32.981Z"
   },
   {
    "duration": 5,
    "start_time": "2023-01-26T15:41:50.409Z"
   },
   {
    "duration": 168,
    "start_time": "2023-01-26T15:42:19.168Z"
   },
   {
    "duration": 223,
    "start_time": "2023-01-26T15:42:27.318Z"
   },
   {
    "duration": 198,
    "start_time": "2023-01-26T15:42:33.864Z"
   },
   {
    "duration": 10,
    "start_time": "2023-01-26T15:43:44.149Z"
   },
   {
    "duration": 290,
    "start_time": "2023-01-26T15:43:45.531Z"
   },
   {
    "duration": 289,
    "start_time": "2023-01-26T15:43:55.484Z"
   },
   {
    "duration": 259,
    "start_time": "2023-01-26T15:53:36.850Z"
   },
   {
    "duration": 182,
    "start_time": "2023-01-26T15:53:44.919Z"
   },
   {
    "duration": 187,
    "start_time": "2023-01-26T15:53:51.082Z"
   },
   {
    "duration": 281,
    "start_time": "2023-01-26T15:56:50.293Z"
   },
   {
    "duration": 10,
    "start_time": "2023-01-26T16:05:33.123Z"
   },
   {
    "duration": 9,
    "start_time": "2023-01-26T16:06:43.338Z"
   },
   {
    "duration": 3,
    "start_time": "2023-01-26T16:06:53.674Z"
   },
   {
    "duration": 4,
    "start_time": "2023-01-26T16:07:25.520Z"
   },
   {
    "duration": 153,
    "start_time": "2023-01-26T16:07:30.928Z"
   },
   {
    "duration": 121,
    "start_time": "2023-01-26T16:08:07.479Z"
   },
   {
    "duration": 6,
    "start_time": "2023-01-26T16:08:38.714Z"
   },
   {
    "duration": 3,
    "start_time": "2023-01-26T16:11:23.636Z"
   },
   {
    "duration": 119,
    "start_time": "2023-01-26T16:11:34.600Z"
   },
   {
    "duration": 5,
    "start_time": "2023-01-26T16:12:41.318Z"
   },
   {
    "duration": 4,
    "start_time": "2023-01-26T16:30:22.340Z"
   },
   {
    "duration": 3,
    "start_time": "2023-01-26T16:30:28.843Z"
   },
   {
    "duration": 46,
    "start_time": "2023-01-26T16:30:41.057Z"
   },
   {
    "duration": 4,
    "start_time": "2023-01-26T16:30:47.771Z"
   },
   {
    "duration": 5,
    "start_time": "2023-01-26T16:30:57.175Z"
   },
   {
    "duration": 6,
    "start_time": "2023-01-26T16:31:01.562Z"
   },
   {
    "duration": 58,
    "start_time": "2023-01-26T16:31:10.942Z"
   },
   {
    "duration": 4,
    "start_time": "2023-01-26T16:31:17.082Z"
   },
   {
    "duration": 14,
    "start_time": "2023-01-26T16:31:27.273Z"
   },
   {
    "duration": 13,
    "start_time": "2023-01-26T16:32:07.072Z"
   },
   {
    "duration": 5,
    "start_time": "2023-01-26T16:32:13.749Z"
   },
   {
    "duration": 55,
    "start_time": "2023-01-26T16:32:22.473Z"
   },
   {
    "duration": 3,
    "start_time": "2023-01-26T16:32:28.513Z"
   },
   {
    "duration": 16,
    "start_time": "2023-01-26T16:32:51.932Z"
   },
   {
    "duration": 2,
    "start_time": "2023-01-26T16:33:12.782Z"
   },
   {
    "duration": 64,
    "start_time": "2023-01-26T16:33:23.742Z"
   },
   {
    "duration": 28,
    "start_time": "2023-01-26T16:33:35.170Z"
   },
   {
    "duration": 13,
    "start_time": "2023-01-26T16:33:43.306Z"
   },
   {
    "duration": 74,
    "start_time": "2023-01-26T16:36:31.027Z"
   },
   {
    "duration": 3,
    "start_time": "2023-01-26T16:36:41.077Z"
   },
   {
    "duration": 115,
    "start_time": "2023-01-26T16:36:53.751Z"
   },
   {
    "duration": 3,
    "start_time": "2023-01-26T16:37:03.173Z"
   },
   {
    "duration": 5,
    "start_time": "2023-01-26T16:37:14.443Z"
   },
   {
    "duration": 5,
    "start_time": "2023-01-26T16:37:23.166Z"
   },
   {
    "duration": 26,
    "start_time": "2023-01-26T16:37:37.666Z"
   },
   {
    "duration": 6,
    "start_time": "2023-01-26T16:38:16.624Z"
   },
   {
    "duration": 16,
    "start_time": "2023-01-26T16:38:19.891Z"
   },
   {
    "duration": 5,
    "start_time": "2023-01-26T16:38:33.841Z"
   },
   {
    "duration": 24,
    "start_time": "2023-01-26T16:38:35.705Z"
   },
   {
    "duration": 5,
    "start_time": "2023-01-26T16:38:57.434Z"
   },
   {
    "duration": 23,
    "start_time": "2023-01-26T16:38:59.423Z"
   },
   {
    "duration": 4,
    "start_time": "2023-01-26T16:39:27.123Z"
   },
   {
    "duration": 4,
    "start_time": "2023-01-26T16:39:28.383Z"
   },
   {
    "duration": 31,
    "start_time": "2023-01-26T16:39:30.541Z"
   },
   {
    "duration": 24,
    "start_time": "2023-01-26T16:39:38.699Z"
   },
   {
    "duration": 25,
    "start_time": "2023-01-26T16:39:43.494Z"
   },
   {
    "duration": 30,
    "start_time": "2023-01-26T16:39:47.046Z"
   },
   {
    "duration": 25,
    "start_time": "2023-01-26T16:39:52.001Z"
   },
   {
    "duration": 24,
    "start_time": "2023-01-26T16:40:06.623Z"
   },
   {
    "duration": 274,
    "start_time": "2023-01-26T16:40:43.012Z"
   },
   {
    "duration": 8,
    "start_time": "2023-01-26T16:41:02.635Z"
   },
   {
    "duration": 307,
    "start_time": "2023-01-26T16:41:04.567Z"
   },
   {
    "duration": 11,
    "start_time": "2023-01-26T16:47:48.896Z"
   },
   {
    "duration": 13,
    "start_time": "2023-01-26T16:47:54.310Z"
   },
   {
    "duration": 11,
    "start_time": "2023-01-26T16:48:05.023Z"
   },
   {
    "duration": 881,
    "start_time": "2023-01-26T17:13:59.913Z"
   },
   {
    "duration": 6,
    "start_time": "2023-01-26T17:14:24.663Z"
   },
   {
    "duration": 4,
    "start_time": "2023-01-26T17:14:48.625Z"
   },
   {
    "duration": 4,
    "start_time": "2023-01-26T17:14:59.882Z"
   },
   {
    "duration": 5,
    "start_time": "2023-01-26T17:15:05.768Z"
   },
   {
    "duration": 6,
    "start_time": "2023-01-26T17:18:56.467Z"
   },
   {
    "duration": 5,
    "start_time": "2023-01-26T17:19:08.668Z"
   },
   {
    "duration": 33,
    "start_time": "2023-01-26T17:20:19.051Z"
   },
   {
    "duration": 723,
    "start_time": "2023-01-26T17:24:03.828Z"
   },
   {
    "duration": 767,
    "start_time": "2023-01-26T17:24:24.107Z"
   },
   {
    "duration": 16,
    "start_time": "2023-01-26T17:24:48.114Z"
   },
   {
    "duration": 22,
    "start_time": "2023-01-26T17:26:51.844Z"
   },
   {
    "duration": 4,
    "start_time": "2023-01-26T17:27:07.092Z"
   },
   {
    "duration": 4,
    "start_time": "2023-01-26T17:27:08.718Z"
   },
   {
    "duration": 5,
    "start_time": "2023-01-26T17:27:10.283Z"
   },
   {
    "duration": 6,
    "start_time": "2023-01-26T17:27:12.180Z"
   },
   {
    "duration": 6,
    "start_time": "2023-01-26T17:27:15.267Z"
   },
   {
    "duration": 24,
    "start_time": "2023-01-26T17:27:17.190Z"
   },
   {
    "duration": 22,
    "start_time": "2023-01-26T17:27:29.542Z"
   },
   {
    "duration": 3,
    "start_time": "2023-01-26T17:33:01.885Z"
   },
   {
    "duration": 4,
    "start_time": "2023-01-26T17:33:03.647Z"
   },
   {
    "duration": 5,
    "start_time": "2023-01-26T17:33:06.394Z"
   },
   {
    "duration": 7,
    "start_time": "2023-01-26T17:33:08.280Z"
   },
   {
    "duration": 34,
    "start_time": "2023-01-26T17:33:10.044Z"
   },
   {
    "duration": 19,
    "start_time": "2023-01-26T17:33:14.350Z"
   },
   {
    "duration": 4,
    "start_time": "2023-01-26T17:33:32.409Z"
   },
   {
    "duration": 4,
    "start_time": "2023-01-26T17:33:34.283Z"
   },
   {
    "duration": 5,
    "start_time": "2023-01-26T17:33:35.971Z"
   },
   {
    "duration": 8,
    "start_time": "2023-01-26T17:33:39.938Z"
   },
   {
    "duration": 6,
    "start_time": "2023-01-26T17:33:41.613Z"
   },
   {
    "duration": 17,
    "start_time": "2023-01-26T17:33:45.006Z"
   },
   {
    "duration": 5,
    "start_time": "2023-01-26T17:44:27.131Z"
   },
   {
    "duration": 5,
    "start_time": "2023-01-26T17:44:28.601Z"
   },
   {
    "duration": 25,
    "start_time": "2023-01-26T17:44:30.867Z"
   },
   {
    "duration": 24,
    "start_time": "2023-01-26T17:44:47.624Z"
   },
   {
    "duration": 4,
    "start_time": "2023-01-26T17:44:52.129Z"
   },
   {
    "duration": 11,
    "start_time": "2023-01-26T17:44:53.352Z"
   },
   {
    "duration": 49,
    "start_time": "2023-01-26T17:44:54.590Z"
   },
   {
    "duration": 3,
    "start_time": "2023-01-26T17:44:56.049Z"
   },
   {
    "duration": 5,
    "start_time": "2023-01-26T17:44:57.345Z"
   },
   {
    "duration": 3,
    "start_time": "2023-01-26T17:44:58.648Z"
   },
   {
    "duration": 47,
    "start_time": "2023-01-26T17:44:59.966Z"
   },
   {
    "duration": 3,
    "start_time": "2023-01-26T17:45:01.977Z"
   },
   {
    "duration": 12,
    "start_time": "2023-01-26T17:45:03.201Z"
   },
   {
    "duration": 4,
    "start_time": "2023-01-26T17:45:05.217Z"
   },
   {
    "duration": 49,
    "start_time": "2023-01-26T17:45:06.485Z"
   },
   {
    "duration": 3,
    "start_time": "2023-01-26T17:45:08.015Z"
   },
   {
    "duration": 14,
    "start_time": "2023-01-26T17:45:09.671Z"
   },
   {
    "duration": 3,
    "start_time": "2023-01-26T17:45:11.509Z"
   },
   {
    "duration": 50,
    "start_time": "2023-01-26T17:45:13.082Z"
   },
   {
    "duration": 82,
    "start_time": "2023-01-26T17:45:14.921Z"
   },
   {
    "duration": 3,
    "start_time": "2023-01-26T17:45:16.770Z"
   },
   {
    "duration": 112,
    "start_time": "2023-01-26T17:45:18.058Z"
   },
   {
    "duration": 4,
    "start_time": "2023-01-26T17:45:19.811Z"
   },
   {
    "duration": 5,
    "start_time": "2023-01-26T17:45:21.296Z"
   },
   {
    "duration": 5,
    "start_time": "2023-01-26T17:45:22.909Z"
   },
   {
    "duration": 22,
    "start_time": "2023-01-26T17:45:24.887Z"
   },
   {
    "duration": 35,
    "start_time": "2023-01-26T17:45:34.631Z"
   },
   {
    "duration": 8,
    "start_time": "2023-01-26T17:45:36.551Z"
   },
   {
    "duration": 6,
    "start_time": "2023-01-26T17:45:39.125Z"
   },
   {
    "duration": 24,
    "start_time": "2023-01-26T17:45:41.576Z"
   },
   {
    "duration": 7,
    "start_time": "2023-01-26T17:45:46.567Z"
   },
   {
    "duration": 4,
    "start_time": "2023-01-26T17:45:48.196Z"
   },
   {
    "duration": 4,
    "start_time": "2023-01-26T17:45:49.426Z"
   },
   {
    "duration": 5,
    "start_time": "2023-01-26T17:45:51.146Z"
   },
   {
    "duration": 1060,
    "start_time": "2023-01-26T17:46:08.909Z"
   },
   {
    "duration": 86,
    "start_time": "2023-01-26T17:46:09.971Z"
   },
   {
    "duration": 16,
    "start_time": "2023-01-26T17:46:10.066Z"
   },
   {
    "duration": 6,
    "start_time": "2023-01-26T17:46:10.083Z"
   },
   {
    "duration": 13,
    "start_time": "2023-01-26T17:46:10.091Z"
   },
   {
    "duration": 6,
    "start_time": "2023-01-26T17:46:10.106Z"
   },
   {
    "duration": 13,
    "start_time": "2023-01-26T17:46:10.114Z"
   },
   {
    "duration": 31,
    "start_time": "2023-01-26T17:46:10.128Z"
   },
   {
    "duration": 47,
    "start_time": "2023-01-26T17:46:10.160Z"
   },
   {
    "duration": 8,
    "start_time": "2023-01-26T17:46:10.208Z"
   },
   {
    "duration": 10,
    "start_time": "2023-01-26T17:46:10.218Z"
   },
   {
    "duration": 6,
    "start_time": "2023-01-26T17:46:10.229Z"
   },
   {
    "duration": 174,
    "start_time": "2023-01-26T17:46:10.236Z"
   },
   {
    "duration": 129,
    "start_time": "2023-01-26T17:46:10.414Z"
   },
   {
    "duration": 6,
    "start_time": "2023-01-26T17:46:10.545Z"
   },
   {
    "duration": 12,
    "start_time": "2023-01-26T17:46:10.557Z"
   },
   {
    "duration": 8,
    "start_time": "2023-01-26T17:46:10.570Z"
   },
   {
    "duration": 7,
    "start_time": "2023-01-26T17:46:10.580Z"
   },
   {
    "duration": 289,
    "start_time": "2023-01-26T17:46:10.588Z"
   },
   {
    "duration": 305,
    "start_time": "2023-01-26T17:46:10.879Z"
   },
   {
    "duration": 7,
    "start_time": "2023-01-26T17:46:11.185Z"
   },
   {
    "duration": 355,
    "start_time": "2023-01-26T17:46:11.193Z"
   },
   {
    "duration": 14,
    "start_time": "2023-01-26T17:46:11.552Z"
   },
   {
    "duration": 8,
    "start_time": "2023-01-26T17:46:11.568Z"
   },
   {
    "duration": 6,
    "start_time": "2023-01-26T17:46:11.578Z"
   },
   {
    "duration": 415,
    "start_time": "2023-01-26T17:46:11.585Z"
   },
   {
    "duration": 0,
    "start_time": "2023-01-26T17:46:12.002Z"
   },
   {
    "duration": 0,
    "start_time": "2023-01-26T17:46:12.004Z"
   },
   {
    "duration": 0,
    "start_time": "2023-01-26T17:46:12.005Z"
   },
   {
    "duration": 0,
    "start_time": "2023-01-26T17:46:12.006Z"
   },
   {
    "duration": 0,
    "start_time": "2023-01-26T17:46:12.007Z"
   },
   {
    "duration": 0,
    "start_time": "2023-01-26T17:46:12.009Z"
   },
   {
    "duration": 0,
    "start_time": "2023-01-26T17:46:12.010Z"
   },
   {
    "duration": 0,
    "start_time": "2023-01-26T17:46:12.011Z"
   },
   {
    "duration": 0,
    "start_time": "2023-01-26T17:46:12.012Z"
   },
   {
    "duration": 0,
    "start_time": "2023-01-26T17:46:12.013Z"
   },
   {
    "duration": 0,
    "start_time": "2023-01-26T17:46:12.014Z"
   },
   {
    "duration": 0,
    "start_time": "2023-01-26T17:46:12.015Z"
   },
   {
    "duration": 0,
    "start_time": "2023-01-26T17:46:12.016Z"
   },
   {
    "duration": 0,
    "start_time": "2023-01-26T17:46:12.018Z"
   },
   {
    "duration": 0,
    "start_time": "2023-01-26T17:46:12.019Z"
   },
   {
    "duration": 0,
    "start_time": "2023-01-26T17:46:12.025Z"
   },
   {
    "duration": 0,
    "start_time": "2023-01-26T17:46:12.058Z"
   },
   {
    "duration": 0,
    "start_time": "2023-01-26T17:46:12.059Z"
   },
   {
    "duration": 0,
    "start_time": "2023-01-26T17:46:12.060Z"
   },
   {
    "duration": 0,
    "start_time": "2023-01-26T17:46:12.061Z"
   },
   {
    "duration": 0,
    "start_time": "2023-01-26T17:46:12.062Z"
   },
   {
    "duration": 0,
    "start_time": "2023-01-26T17:46:12.062Z"
   },
   {
    "duration": 0,
    "start_time": "2023-01-26T17:46:12.063Z"
   },
   {
    "duration": 0,
    "start_time": "2023-01-26T17:46:12.064Z"
   },
   {
    "duration": 0,
    "start_time": "2023-01-26T17:46:12.069Z"
   },
   {
    "duration": 0,
    "start_time": "2023-01-26T17:46:12.070Z"
   },
   {
    "duration": 0,
    "start_time": "2023-01-26T17:46:12.071Z"
   },
   {
    "duration": 0,
    "start_time": "2023-01-26T17:46:12.072Z"
   },
   {
    "duration": 0,
    "start_time": "2023-01-26T17:46:12.073Z"
   },
   {
    "duration": 0,
    "start_time": "2023-01-26T17:46:12.075Z"
   },
   {
    "duration": 0,
    "start_time": "2023-01-26T17:46:12.076Z"
   },
   {
    "duration": 0,
    "start_time": "2023-01-26T17:46:12.077Z"
   },
   {
    "duration": 0,
    "start_time": "2023-01-26T17:46:12.078Z"
   },
   {
    "duration": 0,
    "start_time": "2023-01-26T17:46:12.079Z"
   },
   {
    "duration": 0,
    "start_time": "2023-01-26T17:46:12.081Z"
   },
   {
    "duration": 0,
    "start_time": "2023-01-26T17:46:12.082Z"
   },
   {
    "duration": 0,
    "start_time": "2023-01-26T17:46:12.084Z"
   },
   {
    "duration": 0,
    "start_time": "2023-01-26T17:46:12.085Z"
   },
   {
    "duration": 0,
    "start_time": "2023-01-26T17:46:12.087Z"
   },
   {
    "duration": 0,
    "start_time": "2023-01-26T17:46:12.088Z"
   },
   {
    "duration": 0,
    "start_time": "2023-01-26T17:46:12.089Z"
   },
   {
    "duration": 1143,
    "start_time": "2023-01-26T17:48:42.951Z"
   },
   {
    "duration": 86,
    "start_time": "2023-01-26T17:48:44.096Z"
   },
   {
    "duration": 11,
    "start_time": "2023-01-26T17:48:44.184Z"
   },
   {
    "duration": 7,
    "start_time": "2023-01-26T17:48:44.197Z"
   },
   {
    "duration": 11,
    "start_time": "2023-01-26T17:48:44.207Z"
   },
   {
    "duration": 19,
    "start_time": "2023-01-26T17:48:44.219Z"
   },
   {
    "duration": 27,
    "start_time": "2023-01-26T17:48:44.240Z"
   },
   {
    "duration": 12,
    "start_time": "2023-01-26T17:48:44.269Z"
   },
   {
    "duration": 44,
    "start_time": "2023-01-26T17:48:44.283Z"
   },
   {
    "duration": 13,
    "start_time": "2023-01-26T17:48:44.329Z"
   },
   {
    "duration": 18,
    "start_time": "2023-01-26T17:48:44.343Z"
   },
   {
    "duration": 14,
    "start_time": "2023-01-26T17:48:44.363Z"
   },
   {
    "duration": 14,
    "start_time": "2023-01-26T17:48:44.379Z"
   },
   {
    "duration": 6,
    "start_time": "2023-01-26T17:48:44.396Z"
   },
   {
    "duration": 177,
    "start_time": "2023-01-26T17:48:44.403Z"
   },
   {
    "duration": 141,
    "start_time": "2023-01-26T17:48:44.581Z"
   },
   {
    "duration": 6,
    "start_time": "2023-01-26T17:48:44.724Z"
   },
   {
    "duration": 8,
    "start_time": "2023-01-26T17:48:44.731Z"
   },
   {
    "duration": 22,
    "start_time": "2023-01-26T17:48:44.740Z"
   },
   {
    "duration": 11,
    "start_time": "2023-01-26T17:48:44.764Z"
   },
   {
    "duration": 291,
    "start_time": "2023-01-26T17:48:44.777Z"
   },
   {
    "duration": 195,
    "start_time": "2023-01-26T17:48:45.070Z"
   },
   {
    "duration": 8,
    "start_time": "2023-01-26T17:48:45.267Z"
   },
   {
    "duration": 300,
    "start_time": "2023-01-26T17:48:45.277Z"
   },
   {
    "duration": 4,
    "start_time": "2023-01-26T17:48:45.579Z"
   },
   {
    "duration": 7,
    "start_time": "2023-01-26T17:48:45.585Z"
   },
   {
    "duration": 9,
    "start_time": "2023-01-26T17:48:45.593Z"
   },
   {
    "duration": 208,
    "start_time": "2023-01-26T17:48:45.603Z"
   },
   {
    "duration": 9,
    "start_time": "2023-01-26T17:48:45.813Z"
   },
   {
    "duration": 359,
    "start_time": "2023-01-26T17:48:45.823Z"
   },
   {
    "duration": 8,
    "start_time": "2023-01-26T17:48:46.184Z"
   },
   {
    "duration": 5,
    "start_time": "2023-01-26T17:48:46.194Z"
   },
   {
    "duration": 6,
    "start_time": "2023-01-26T17:48:46.201Z"
   },
   {
    "duration": 144,
    "start_time": "2023-01-26T17:48:46.208Z"
   },
   {
    "duration": 9,
    "start_time": "2023-01-26T17:48:46.361Z"
   },
   {
    "duration": 9,
    "start_time": "2023-01-26T17:48:46.372Z"
   },
   {
    "duration": 153,
    "start_time": "2023-01-26T17:48:46.384Z"
   },
   {
    "duration": 5,
    "start_time": "2023-01-26T17:48:46.539Z"
   },
   {
    "duration": 18,
    "start_time": "2023-01-26T17:48:46.553Z"
   },
   {
    "duration": 8,
    "start_time": "2023-01-26T17:48:46.573Z"
   },
   {
    "duration": 47,
    "start_time": "2023-01-26T17:48:46.585Z"
   },
   {
    "duration": 10,
    "start_time": "2023-01-26T17:48:46.635Z"
   },
   {
    "duration": 25,
    "start_time": "2023-01-26T17:48:46.646Z"
   },
   {
    "duration": 6,
    "start_time": "2023-01-26T17:48:46.673Z"
   },
   {
    "duration": 50,
    "start_time": "2023-01-26T17:48:46.681Z"
   },
   {
    "duration": 6,
    "start_time": "2023-01-26T17:48:46.733Z"
   },
   {
    "duration": 24,
    "start_time": "2023-01-26T17:48:46.741Z"
   },
   {
    "duration": 6,
    "start_time": "2023-01-26T17:48:46.767Z"
   },
   {
    "duration": 52,
    "start_time": "2023-01-26T17:48:46.775Z"
   },
   {
    "duration": 44,
    "start_time": "2023-01-26T17:48:46.829Z"
   },
   {
    "duration": 27,
    "start_time": "2023-01-26T17:48:46.874Z"
   },
   {
    "duration": 3,
    "start_time": "2023-01-26T17:48:46.902Z"
   },
   {
    "duration": 59,
    "start_time": "2023-01-26T17:48:46.907Z"
   },
   {
    "duration": 70,
    "start_time": "2023-01-26T17:48:46.967Z"
   },
   {
    "duration": 3,
    "start_time": "2023-01-26T17:48:47.040Z"
   },
   {
    "duration": 100,
    "start_time": "2023-01-26T17:48:47.044Z"
   },
   {
    "duration": 4,
    "start_time": "2023-01-26T17:48:47.146Z"
   },
   {
    "duration": 25,
    "start_time": "2023-01-26T17:48:47.151Z"
   },
   {
    "duration": 7,
    "start_time": "2023-01-26T17:48:47.177Z"
   },
   {
    "duration": 35,
    "start_time": "2023-01-26T17:48:47.186Z"
   },
   {
    "duration": 11,
    "start_time": "2023-01-26T17:48:47.223Z"
   },
   {
    "duration": 8,
    "start_time": "2023-01-26T17:48:47.236Z"
   },
   {
    "duration": 15,
    "start_time": "2023-01-26T17:48:47.246Z"
   },
   {
    "duration": 7,
    "start_time": "2023-01-26T17:48:47.263Z"
   },
   {
    "duration": 8,
    "start_time": "2023-01-26T17:48:47.271Z"
   },
   {
    "duration": 114,
    "start_time": "2023-01-26T17:48:47.281Z"
   },
   {
    "duration": 0,
    "start_time": "2023-01-26T17:48:47.397Z"
   },
   {
    "duration": 0,
    "start_time": "2023-01-26T17:48:47.398Z"
   },
   {
    "duration": 0,
    "start_time": "2023-01-26T17:48:47.400Z"
   },
   {
    "duration": 6,
    "start_time": "2023-01-26T17:49:56.246Z"
   },
   {
    "duration": 7,
    "start_time": "2023-01-26T17:50:10.750Z"
   },
   {
    "duration": 6,
    "start_time": "2023-01-26T17:50:12.870Z"
   },
   {
    "duration": 26,
    "start_time": "2023-01-26T17:50:18.101Z"
   },
   {
    "duration": 23,
    "start_time": "2023-01-26T17:50:36.441Z"
   },
   {
    "duration": 4,
    "start_time": "2023-01-26T17:50:51.920Z"
   },
   {
    "duration": 1065,
    "start_time": "2023-01-26T17:50:57.497Z"
   },
   {
    "duration": 78,
    "start_time": "2023-01-26T17:50:58.564Z"
   },
   {
    "duration": 23,
    "start_time": "2023-01-26T17:50:58.643Z"
   },
   {
    "duration": 8,
    "start_time": "2023-01-26T17:50:58.669Z"
   },
   {
    "duration": 9,
    "start_time": "2023-01-26T17:50:58.679Z"
   },
   {
    "duration": 5,
    "start_time": "2023-01-26T17:50:58.690Z"
   },
   {
    "duration": 14,
    "start_time": "2023-01-26T17:50:58.697Z"
   },
   {
    "duration": 14,
    "start_time": "2023-01-26T17:50:58.712Z"
   },
   {
    "duration": 51,
    "start_time": "2023-01-26T17:50:58.727Z"
   },
   {
    "duration": 12,
    "start_time": "2023-01-26T17:50:58.781Z"
   },
   {
    "duration": 7,
    "start_time": "2023-01-26T17:50:58.795Z"
   },
   {
    "duration": 10,
    "start_time": "2023-01-26T17:50:58.804Z"
   },
   {
    "duration": 9,
    "start_time": "2023-01-26T17:50:58.816Z"
   },
   {
    "duration": 6,
    "start_time": "2023-01-26T17:50:58.827Z"
   },
   {
    "duration": 176,
    "start_time": "2023-01-26T17:50:58.834Z"
   },
   {
    "duration": 126,
    "start_time": "2023-01-26T17:50:59.012Z"
   },
   {
    "duration": 29,
    "start_time": "2023-01-26T17:50:59.140Z"
   },
   {
    "duration": 6,
    "start_time": "2023-01-26T17:50:59.171Z"
   },
   {
    "duration": 8,
    "start_time": "2023-01-26T17:50:59.178Z"
   },
   {
    "duration": 10,
    "start_time": "2023-01-26T17:50:59.187Z"
   },
   {
    "duration": 272,
    "start_time": "2023-01-26T17:50:59.199Z"
   },
   {
    "duration": 197,
    "start_time": "2023-01-26T17:50:59.473Z"
   },
   {
    "duration": 6,
    "start_time": "2023-01-26T17:50:59.671Z"
   },
   {
    "duration": 286,
    "start_time": "2023-01-26T17:50:59.679Z"
   },
   {
    "duration": 4,
    "start_time": "2023-01-26T17:50:59.968Z"
   },
   {
    "duration": 9,
    "start_time": "2023-01-26T17:50:59.974Z"
   },
   {
    "duration": 6,
    "start_time": "2023-01-26T17:50:59.985Z"
   },
   {
    "duration": 196,
    "start_time": "2023-01-26T17:50:59.995Z"
   },
   {
    "duration": 8,
    "start_time": "2023-01-26T17:51:00.193Z"
   },
   {
    "duration": 325,
    "start_time": "2023-01-26T17:51:00.202Z"
   },
   {
    "duration": 7,
    "start_time": "2023-01-26T17:51:00.529Z"
   },
   {
    "duration": 51,
    "start_time": "2023-01-26T17:51:00.537Z"
   },
   {
    "duration": 23,
    "start_time": "2023-01-26T17:51:00.590Z"
   },
   {
    "duration": 162,
    "start_time": "2023-01-26T17:51:00.614Z"
   },
   {
    "duration": 5,
    "start_time": "2023-01-26T17:51:00.778Z"
   },
   {
    "duration": 29,
    "start_time": "2023-01-26T17:51:00.784Z"
   },
   {
    "duration": 184,
    "start_time": "2023-01-26T17:51:00.815Z"
   },
   {
    "duration": 5,
    "start_time": "2023-01-26T17:51:01.001Z"
   },
   {
    "duration": 24,
    "start_time": "2023-01-26T17:51:01.008Z"
   },
   {
    "duration": 18,
    "start_time": "2023-01-26T17:51:01.034Z"
   },
   {
    "duration": 62,
    "start_time": "2023-01-26T17:51:01.062Z"
   },
   {
    "duration": 45,
    "start_time": "2023-01-26T17:51:01.126Z"
   },
   {
    "duration": 11,
    "start_time": "2023-01-26T17:51:01.172Z"
   },
   {
    "duration": 23,
    "start_time": "2023-01-26T17:51:01.184Z"
   },
   {
    "duration": 78,
    "start_time": "2023-01-26T17:51:01.209Z"
   },
   {
    "duration": 2,
    "start_time": "2023-01-26T17:51:01.289Z"
   },
   {
    "duration": 32,
    "start_time": "2023-01-26T17:51:01.293Z"
   },
   {
    "duration": 37,
    "start_time": "2023-01-26T17:51:01.327Z"
   },
   {
    "duration": 58,
    "start_time": "2023-01-26T17:51:01.366Z"
   },
   {
    "duration": 21,
    "start_time": "2023-01-26T17:51:01.426Z"
   },
   {
    "duration": 38,
    "start_time": "2023-01-26T17:51:01.449Z"
   },
   {
    "duration": 28,
    "start_time": "2023-01-26T17:51:01.489Z"
   },
   {
    "duration": 70,
    "start_time": "2023-01-26T17:51:01.518Z"
   },
   {
    "duration": 79,
    "start_time": "2023-01-26T17:51:01.591Z"
   },
   {
    "duration": 3,
    "start_time": "2023-01-26T17:51:01.672Z"
   },
   {
    "duration": 149,
    "start_time": "2023-01-26T17:51:01.676Z"
   },
   {
    "duration": 53,
    "start_time": "2023-01-26T17:51:01.827Z"
   },
   {
    "duration": 18,
    "start_time": "2023-01-26T17:51:01.882Z"
   },
   {
    "duration": 15,
    "start_time": "2023-01-26T17:51:01.902Z"
   },
   {
    "duration": 53,
    "start_time": "2023-01-26T17:51:01.919Z"
   },
   {
    "duration": 12,
    "start_time": "2023-01-26T17:51:01.974Z"
   },
   {
    "duration": 5,
    "start_time": "2023-01-26T17:51:01.987Z"
   },
   {
    "duration": 17,
    "start_time": "2023-01-26T17:51:01.994Z"
   },
   {
    "duration": 24,
    "start_time": "2023-01-26T17:51:02.013Z"
   },
   {
    "duration": 32,
    "start_time": "2023-01-26T17:51:02.038Z"
   },
   {
    "duration": 19,
    "start_time": "2023-01-26T17:51:02.071Z"
   },
   {
    "duration": 46,
    "start_time": "2023-01-26T17:51:02.092Z"
   },
   {
    "duration": 56,
    "start_time": "2023-01-26T17:51:02.140Z"
   },
   {
    "duration": 13,
    "start_time": "2023-01-26T17:51:02.198Z"
   },
   {
    "duration": 339,
    "start_time": "2023-01-26T17:52:37.369Z"
   },
   {
    "duration": 210,
    "start_time": "2023-01-26T17:52:47.569Z"
   },
   {
    "duration": 307,
    "start_time": "2023-01-26T17:53:34.955Z"
   },
   {
    "duration": 197,
    "start_time": "2023-01-26T17:53:49.622Z"
   },
   {
    "duration": 305,
    "start_time": "2023-01-26T17:54:07.675Z"
   },
   {
    "duration": 195,
    "start_time": "2023-01-26T17:54:31.893Z"
   },
   {
    "duration": 203,
    "start_time": "2023-01-26T17:54:39.266Z"
   },
   {
    "duration": 330,
    "start_time": "2023-01-26T17:55:24.474Z"
   },
   {
    "duration": 241,
    "start_time": "2023-01-26T17:55:49.427Z"
   },
   {
    "duration": 1050,
    "start_time": "2023-01-26T17:56:24.373Z"
   },
   {
    "duration": 87,
    "start_time": "2023-01-26T17:56:25.425Z"
   },
   {
    "duration": 11,
    "start_time": "2023-01-26T17:56:25.514Z"
   },
   {
    "duration": 6,
    "start_time": "2023-01-26T17:56:25.526Z"
   },
   {
    "duration": 11,
    "start_time": "2023-01-26T17:56:25.534Z"
   },
   {
    "duration": 18,
    "start_time": "2023-01-26T17:56:25.546Z"
   },
   {
    "duration": 17,
    "start_time": "2023-01-26T17:56:25.567Z"
   },
   {
    "duration": 12,
    "start_time": "2023-01-26T17:56:25.586Z"
   },
   {
    "duration": 45,
    "start_time": "2023-01-26T17:56:25.599Z"
   },
   {
    "duration": 21,
    "start_time": "2023-01-26T17:56:25.646Z"
   },
   {
    "duration": 5,
    "start_time": "2023-01-26T17:56:25.669Z"
   },
   {
    "duration": 12,
    "start_time": "2023-01-26T17:56:25.675Z"
   },
   {
    "duration": 11,
    "start_time": "2023-01-26T17:56:25.689Z"
   },
   {
    "duration": 6,
    "start_time": "2023-01-26T17:56:25.704Z"
   },
   {
    "duration": 208,
    "start_time": "2023-01-26T17:56:25.712Z"
   },
   {
    "duration": 140,
    "start_time": "2023-01-26T17:56:25.922Z"
   },
   {
    "duration": 8,
    "start_time": "2023-01-26T17:56:26.065Z"
   },
   {
    "duration": 7,
    "start_time": "2023-01-26T17:56:26.075Z"
   },
   {
    "duration": 7,
    "start_time": "2023-01-26T17:56:26.084Z"
   },
   {
    "duration": 6,
    "start_time": "2023-01-26T17:56:26.092Z"
   },
   {
    "duration": 311,
    "start_time": "2023-01-26T17:56:26.100Z"
   },
   {
    "duration": 203,
    "start_time": "2023-01-26T17:56:26.413Z"
   },
   {
    "duration": 6,
    "start_time": "2023-01-26T17:56:26.618Z"
   },
   {
    "duration": 332,
    "start_time": "2023-01-26T17:56:26.626Z"
   },
   {
    "duration": 4,
    "start_time": "2023-01-26T17:56:26.962Z"
   },
   {
    "duration": 7,
    "start_time": "2023-01-26T17:56:26.968Z"
   },
   {
    "duration": 7,
    "start_time": "2023-01-26T17:56:26.976Z"
   },
   {
    "duration": 184,
    "start_time": "2023-01-26T17:56:26.985Z"
   },
   {
    "duration": 8,
    "start_time": "2023-01-26T17:56:27.170Z"
   },
   {
    "duration": 389,
    "start_time": "2023-01-26T17:56:27.180Z"
   },
   {
    "duration": 8,
    "start_time": "2023-01-26T17:56:27.570Z"
   },
   {
    "duration": 11,
    "start_time": "2023-01-26T17:56:27.580Z"
   },
   {
    "duration": 14,
    "start_time": "2023-01-26T17:56:27.594Z"
   },
   {
    "duration": 133,
    "start_time": "2023-01-26T17:56:27.611Z"
   },
   {
    "duration": 5,
    "start_time": "2023-01-26T17:56:27.745Z"
   },
   {
    "duration": 18,
    "start_time": "2023-01-26T17:56:27.751Z"
   },
   {
    "duration": 135,
    "start_time": "2023-01-26T17:56:27.771Z"
   },
   {
    "duration": 5,
    "start_time": "2023-01-26T17:56:27.908Z"
   },
   {
    "duration": 7,
    "start_time": "2023-01-26T17:56:27.915Z"
   },
   {
    "duration": 10,
    "start_time": "2023-01-26T17:56:27.924Z"
   },
   {
    "duration": 59,
    "start_time": "2023-01-26T17:56:27.938Z"
   },
   {
    "duration": 7,
    "start_time": "2023-01-26T17:56:27.999Z"
   },
   {
    "duration": 8,
    "start_time": "2023-01-26T17:56:28.007Z"
   },
   {
    "duration": 5,
    "start_time": "2023-01-26T17:56:28.017Z"
   },
   {
    "duration": 53,
    "start_time": "2023-01-26T17:56:28.023Z"
   },
   {
    "duration": 5,
    "start_time": "2023-01-26T17:56:28.078Z"
   },
   {
    "duration": 15,
    "start_time": "2023-01-26T17:56:28.084Z"
   },
   {
    "duration": 2,
    "start_time": "2023-01-26T17:56:28.101Z"
   },
   {
    "duration": 71,
    "start_time": "2023-01-26T17:56:28.105Z"
   },
   {
    "duration": 2,
    "start_time": "2023-01-26T17:56:28.178Z"
   },
   {
    "duration": 16,
    "start_time": "2023-01-26T17:56:28.182Z"
   },
   {
    "duration": 4,
    "start_time": "2023-01-26T17:56:28.200Z"
   },
   {
    "duration": 60,
    "start_time": "2023-01-26T17:56:28.206Z"
   },
   {
    "duration": 74,
    "start_time": "2023-01-26T17:56:28.268Z"
   },
   {
    "duration": 17,
    "start_time": "2023-01-26T17:56:28.344Z"
   },
   {
    "duration": 81,
    "start_time": "2023-01-26T17:56:28.363Z"
   },
   {
    "duration": 15,
    "start_time": "2023-01-26T17:56:28.446Z"
   },
   {
    "duration": 7,
    "start_time": "2023-01-26T17:56:28.463Z"
   },
   {
    "duration": 8,
    "start_time": "2023-01-26T17:56:28.471Z"
   },
   {
    "duration": 27,
    "start_time": "2023-01-26T17:56:28.481Z"
   },
   {
    "duration": 10,
    "start_time": "2023-01-26T17:56:28.510Z"
   },
   {
    "duration": 5,
    "start_time": "2023-01-26T17:56:28.522Z"
   },
   {
    "duration": 34,
    "start_time": "2023-01-26T17:56:28.528Z"
   },
   {
    "duration": 7,
    "start_time": "2023-01-26T17:56:28.564Z"
   },
   {
    "duration": 6,
    "start_time": "2023-01-26T17:56:28.573Z"
   },
   {
    "duration": 7,
    "start_time": "2023-01-26T17:56:28.581Z"
   },
   {
    "duration": 8,
    "start_time": "2023-01-26T17:56:28.589Z"
   },
   {
    "duration": 25,
    "start_time": "2023-01-26T17:56:28.599Z"
   },
   {
    "duration": 40,
    "start_time": "2023-01-26T17:56:28.626Z"
   },
   {
    "duration": 1056,
    "start_time": "2023-01-26T18:09:16.269Z"
   },
   {
    "duration": 83,
    "start_time": "2023-01-26T18:09:17.327Z"
   },
   {
    "duration": 12,
    "start_time": "2023-01-26T18:09:17.411Z"
   },
   {
    "duration": 24,
    "start_time": "2023-01-26T18:09:17.424Z"
   },
   {
    "duration": 34,
    "start_time": "2023-01-26T18:09:17.451Z"
   },
   {
    "duration": 22,
    "start_time": "2023-01-26T18:09:17.487Z"
   },
   {
    "duration": 18,
    "start_time": "2023-01-26T18:09:17.510Z"
   },
   {
    "duration": 20,
    "start_time": "2023-01-26T18:09:17.530Z"
   },
   {
    "duration": 78,
    "start_time": "2023-01-26T18:09:17.552Z"
   },
   {
    "duration": 18,
    "start_time": "2023-01-26T18:09:17.631Z"
   },
   {
    "duration": 30,
    "start_time": "2023-01-26T18:09:17.651Z"
   },
   {
    "duration": 30,
    "start_time": "2023-01-26T18:09:17.683Z"
   },
   {
    "duration": 75,
    "start_time": "2023-01-26T18:09:17.715Z"
   },
   {
    "duration": 8,
    "start_time": "2023-01-26T18:09:17.795Z"
   },
   {
    "duration": 214,
    "start_time": "2023-01-26T18:09:17.805Z"
   },
   {
    "duration": 149,
    "start_time": "2023-01-26T18:09:18.021Z"
   },
   {
    "duration": 8,
    "start_time": "2023-01-26T18:09:18.172Z"
   },
   {
    "duration": 45,
    "start_time": "2023-01-26T18:09:18.182Z"
   },
   {
    "duration": 32,
    "start_time": "2023-01-26T18:09:18.228Z"
   },
   {
    "duration": 49,
    "start_time": "2023-01-26T18:09:18.266Z"
   },
   {
    "duration": 333,
    "start_time": "2023-01-26T18:09:18.317Z"
   },
   {
    "duration": 226,
    "start_time": "2023-01-26T18:09:18.652Z"
   },
   {
    "duration": 7,
    "start_time": "2023-01-26T18:09:18.880Z"
   },
   {
    "duration": 308,
    "start_time": "2023-01-26T18:09:18.889Z"
   },
   {
    "duration": 4,
    "start_time": "2023-01-26T18:09:19.198Z"
   },
   {
    "duration": 9,
    "start_time": "2023-01-26T18:09:19.204Z"
   },
   {
    "duration": 7,
    "start_time": "2023-01-26T18:09:19.215Z"
   },
   {
    "duration": 216,
    "start_time": "2023-01-26T18:09:19.224Z"
   },
   {
    "duration": 25,
    "start_time": "2023-01-26T18:09:19.442Z"
   },
   {
    "duration": 349,
    "start_time": "2023-01-26T18:09:19.469Z"
   },
   {
    "duration": 8,
    "start_time": "2023-01-26T18:09:19.820Z"
   },
   {
    "duration": 6,
    "start_time": "2023-01-26T18:09:19.830Z"
   },
   {
    "duration": 23,
    "start_time": "2023-01-26T18:09:19.838Z"
   },
   {
    "duration": 127,
    "start_time": "2023-01-26T18:09:19.864Z"
   },
   {
    "duration": 5,
    "start_time": "2023-01-26T18:09:19.992Z"
   },
   {
    "duration": 5,
    "start_time": "2023-01-26T18:09:19.999Z"
   },
   {
    "duration": 169,
    "start_time": "2023-01-26T18:09:20.005Z"
   },
   {
    "duration": 6,
    "start_time": "2023-01-26T18:09:20.176Z"
   },
   {
    "duration": 30,
    "start_time": "2023-01-26T18:09:20.183Z"
   },
   {
    "duration": 18,
    "start_time": "2023-01-26T18:09:20.215Z"
   },
   {
    "duration": 72,
    "start_time": "2023-01-26T18:09:20.239Z"
   },
   {
    "duration": 17,
    "start_time": "2023-01-26T18:09:20.312Z"
   },
   {
    "duration": 32,
    "start_time": "2023-01-26T18:09:20.333Z"
   },
   {
    "duration": 18,
    "start_time": "2023-01-26T18:09:20.367Z"
   },
   {
    "duration": 62,
    "start_time": "2023-01-26T18:09:20.386Z"
   },
   {
    "duration": 21,
    "start_time": "2023-01-26T18:09:20.449Z"
   },
   {
    "duration": 19,
    "start_time": "2023-01-26T18:09:20.472Z"
   },
   {
    "duration": 3,
    "start_time": "2023-01-26T18:09:20.492Z"
   },
   {
    "duration": 18,
    "start_time": "2023-01-26T18:09:20.496Z"
   },
   {
    "duration": 3,
    "start_time": "2023-01-26T18:09:20.515Z"
   },
   {
    "duration": 79,
    "start_time": "2023-01-26T18:09:20.519Z"
   },
   {
    "duration": 3,
    "start_time": "2023-01-26T18:09:20.600Z"
   },
   {
    "duration": 116,
    "start_time": "2023-01-26T18:09:20.604Z"
   },
   {
    "duration": 3,
    "start_time": "2023-01-26T18:09:20.722Z"
   },
   {
    "duration": 42,
    "start_time": "2023-01-26T18:09:20.726Z"
   },
   {
    "duration": 21,
    "start_time": "2023-01-26T18:09:20.770Z"
   },
   {
    "duration": 76,
    "start_time": "2023-01-26T18:09:20.793Z"
   },
   {
    "duration": 13,
    "start_time": "2023-01-26T18:09:20.871Z"
   },
   {
    "duration": 29,
    "start_time": "2023-01-26T18:09:20.886Z"
   },
   {
    "duration": 22,
    "start_time": "2023-01-26T18:09:20.917Z"
   },
   {
    "duration": 25,
    "start_time": "2023-01-26T18:09:20.941Z"
   },
   {
    "duration": 41,
    "start_time": "2023-01-26T18:09:20.968Z"
   },
   {
    "duration": 16,
    "start_time": "2023-01-26T18:09:21.011Z"
   },
   {
    "duration": 16,
    "start_time": "2023-01-26T18:09:21.029Z"
   },
   {
    "duration": 62,
    "start_time": "2023-01-26T18:09:21.046Z"
   },
   {
    "duration": 16,
    "start_time": "2023-01-26T18:09:21.110Z"
   },
   {
    "duration": 1048,
    "start_time": "2023-01-26T18:10:42.447Z"
   },
   {
    "duration": 92,
    "start_time": "2023-01-26T18:10:43.498Z"
   },
   {
    "duration": 13,
    "start_time": "2023-01-26T18:10:43.591Z"
   },
   {
    "duration": 11,
    "start_time": "2023-01-26T18:10:43.606Z"
   },
   {
    "duration": 17,
    "start_time": "2023-01-26T18:10:43.618Z"
   },
   {
    "duration": 7,
    "start_time": "2023-01-26T18:10:43.637Z"
   },
   {
    "duration": 45,
    "start_time": "2023-01-26T18:10:43.653Z"
   },
   {
    "duration": 19,
    "start_time": "2023-01-26T18:10:43.700Z"
   },
   {
    "duration": 71,
    "start_time": "2023-01-26T18:10:43.721Z"
   },
   {
    "duration": 12,
    "start_time": "2023-01-26T18:10:43.795Z"
   },
   {
    "duration": 18,
    "start_time": "2023-01-26T18:10:43.808Z"
   },
   {
    "duration": 21,
    "start_time": "2023-01-26T18:10:43.828Z"
   },
   {
    "duration": 24,
    "start_time": "2023-01-26T18:10:43.850Z"
   },
   {
    "duration": 29,
    "start_time": "2023-01-26T18:10:43.876Z"
   },
   {
    "duration": 208,
    "start_time": "2023-01-26T18:10:43.906Z"
   },
   {
    "duration": 121,
    "start_time": "2023-01-26T18:10:44.116Z"
   },
   {
    "duration": 6,
    "start_time": "2023-01-26T18:10:44.239Z"
   },
   {
    "duration": 19,
    "start_time": "2023-01-26T18:10:44.252Z"
   },
   {
    "duration": 16,
    "start_time": "2023-01-26T18:10:44.273Z"
   },
   {
    "duration": 29,
    "start_time": "2023-01-26T18:10:44.291Z"
   },
   {
    "duration": 290,
    "start_time": "2023-01-26T18:10:44.321Z"
   },
   {
    "duration": 204,
    "start_time": "2023-01-26T18:10:44.613Z"
   },
   {
    "duration": 6,
    "start_time": "2023-01-26T18:10:44.819Z"
   },
   {
    "duration": 349,
    "start_time": "2023-01-26T18:10:44.827Z"
   },
   {
    "duration": 4,
    "start_time": "2023-01-26T18:10:45.178Z"
   },
   {
    "duration": 17,
    "start_time": "2023-01-26T18:10:45.183Z"
   },
   {
    "duration": 41,
    "start_time": "2023-01-26T18:10:45.202Z"
   },
   {
    "duration": 249,
    "start_time": "2023-01-26T18:10:45.247Z"
   },
   {
    "duration": 11,
    "start_time": "2023-01-26T18:10:45.498Z"
   },
   {
    "duration": 333,
    "start_time": "2023-01-26T18:10:45.511Z"
   },
   {
    "duration": 23,
    "start_time": "2023-01-26T18:10:45.846Z"
   },
   {
    "duration": 31,
    "start_time": "2023-01-26T18:10:45.872Z"
   },
   {
    "duration": 36,
    "start_time": "2023-01-26T18:10:45.905Z"
   },
   {
    "duration": 168,
    "start_time": "2023-01-26T18:10:45.943Z"
   },
   {
    "duration": 6,
    "start_time": "2023-01-26T18:10:46.113Z"
   },
   {
    "duration": 27,
    "start_time": "2023-01-26T18:10:46.120Z"
   },
   {
    "duration": 164,
    "start_time": "2023-01-26T18:10:46.150Z"
   },
   {
    "duration": 5,
    "start_time": "2023-01-26T18:10:46.316Z"
   },
   {
    "duration": 23,
    "start_time": "2023-01-26T18:10:46.323Z"
   },
   {
    "duration": 26,
    "start_time": "2023-01-26T18:10:46.348Z"
   },
   {
    "duration": 13,
    "start_time": "2023-01-26T18:10:46.376Z"
   },
   {
    "duration": 21,
    "start_time": "2023-01-26T18:10:46.391Z"
   },
   {
    "duration": 18,
    "start_time": "2023-01-26T18:10:46.413Z"
   },
   {
    "duration": 14,
    "start_time": "2023-01-26T18:10:46.433Z"
   },
   {
    "duration": 32,
    "start_time": "2023-01-26T18:10:46.449Z"
   },
   {
    "duration": 6,
    "start_time": "2023-01-26T18:10:46.483Z"
   },
   {
    "duration": 99,
    "start_time": "2023-01-26T18:10:46.491Z"
   },
   {
    "duration": 3,
    "start_time": "2023-01-26T18:10:46.591Z"
   },
   {
    "duration": 109,
    "start_time": "2023-01-26T18:10:46.595Z"
   },
   {
    "duration": 4,
    "start_time": "2023-01-26T18:10:46.706Z"
   },
   {
    "duration": 26,
    "start_time": "2023-01-26T18:10:46.712Z"
   },
   {
    "duration": 8,
    "start_time": "2023-01-26T18:10:46.739Z"
   },
   {
    "duration": 51,
    "start_time": "2023-01-26T18:10:46.749Z"
   },
   {
    "duration": 14,
    "start_time": "2023-01-26T18:10:46.802Z"
   },
   {
    "duration": 7,
    "start_time": "2023-01-26T18:10:46.817Z"
   },
   {
    "duration": 12,
    "start_time": "2023-01-26T18:10:46.825Z"
   },
   {
    "duration": 46,
    "start_time": "2023-01-26T18:10:46.838Z"
   },
   {
    "duration": 20,
    "start_time": "2023-01-26T18:10:46.886Z"
   },
   {
    "duration": 21,
    "start_time": "2023-01-26T18:10:46.908Z"
   },
   {
    "duration": 35,
    "start_time": "2023-01-26T18:10:46.931Z"
   },
   {
    "duration": 43,
    "start_time": "2023-01-26T18:10:46.968Z"
   },
   {
    "duration": 16,
    "start_time": "2023-01-26T18:10:47.014Z"
   },
   {
    "duration": 6,
    "start_time": "2023-01-26T18:14:05.178Z"
   },
   {
    "duration": 180,
    "start_time": "2023-01-26T18:14:06.436Z"
   },
   {
    "duration": 136,
    "start_time": "2023-01-26T18:14:08.070Z"
   },
   {
    "duration": 3,
    "start_time": "2023-01-26T18:15:23.448Z"
   },
   {
    "duration": 6,
    "start_time": "2023-01-26T18:15:24.962Z"
   },
   {
    "duration": 179,
    "start_time": "2023-01-26T18:15:26.276Z"
   },
   {
    "duration": 130,
    "start_time": "2023-01-26T18:15:28.061Z"
   },
   {
    "duration": 8,
    "start_time": "2023-01-26T18:15:30.306Z"
   },
   {
    "duration": 4,
    "start_time": "2023-01-26T18:15:32.032Z"
   },
   {
    "duration": 6,
    "start_time": "2023-01-26T18:15:33.636Z"
   },
   {
    "duration": 4,
    "start_time": "2023-01-26T18:15:35.042Z"
   },
   {
    "duration": 189,
    "start_time": "2023-01-26T18:15:36.621Z"
   },
   {
    "duration": 264,
    "start_time": "2023-01-26T18:16:01.637Z"
   },
   {
    "duration": 7,
    "start_time": "2023-01-26T18:16:23.466Z"
   },
   {
    "duration": 264,
    "start_time": "2023-01-26T18:16:32.883Z"
   },
   {
    "duration": 4,
    "start_time": "2023-01-26T18:16:55.451Z"
   },
   {
    "duration": 4,
    "start_time": "2023-01-26T18:17:04.442Z"
   },
   {
    "duration": 4,
    "start_time": "2023-01-26T18:17:15.800Z"
   },
   {
    "duration": 202,
    "start_time": "2023-01-26T18:17:27.143Z"
   },
   {
    "duration": 8,
    "start_time": "2023-01-26T18:18:01.343Z"
   },
   {
    "duration": 281,
    "start_time": "2023-01-26T18:18:09.993Z"
   },
   {
    "duration": 6,
    "start_time": "2023-01-26T18:20:04.421Z"
   },
   {
    "duration": 2,
    "start_time": "2023-01-26T18:20:05.862Z"
   },
   {
    "duration": 3,
    "start_time": "2023-01-26T18:20:15.149Z"
   },
   {
    "duration": 117,
    "start_time": "2023-01-26T18:20:16.715Z"
   },
   {
    "duration": 6,
    "start_time": "2023-01-26T18:20:20.769Z"
   },
   {
    "duration": 210,
    "start_time": "2023-01-26T18:20:28.056Z"
   },
   {
    "duration": 3,
    "start_time": "2023-01-26T18:20:30.030Z"
   },
   {
    "duration": 138,
    "start_time": "2023-01-26T18:20:31.427Z"
   },
   {
    "duration": 4,
    "start_time": "2023-01-26T18:20:46.106Z"
   },
   {
    "duration": 4,
    "start_time": "2023-01-26T18:20:47.452Z"
   },
   {
    "duration": 5,
    "start_time": "2023-01-26T18:21:43.655Z"
   },
   {
    "duration": 4,
    "start_time": "2023-01-26T18:21:45.019Z"
   },
   {
    "duration": 14,
    "start_time": "2023-01-26T18:21:47.543Z"
   },
   {
    "duration": 3,
    "start_time": "2023-01-26T18:21:49.230Z"
   },
   {
    "duration": 68,
    "start_time": "2023-01-26T18:22:18.433Z"
   },
   {
    "duration": 3,
    "start_time": "2023-01-26T18:22:19.858Z"
   },
   {
    "duration": 5,
    "start_time": "2023-01-26T18:23:52.450Z"
   },
   {
    "duration": 3,
    "start_time": "2023-01-26T18:23:55.442Z"
   },
   {
    "duration": 4,
    "start_time": "2023-01-26T18:23:57.000Z"
   },
   {
    "duration": 3,
    "start_time": "2023-01-26T18:23:58.167Z"
   },
   {
    "duration": 13,
    "start_time": "2023-01-26T18:23:59.291Z"
   },
   {
    "duration": 3,
    "start_time": "2023-01-26T18:24:00.553Z"
   },
   {
    "duration": 13,
    "start_time": "2023-01-26T18:24:03.239Z"
   },
   {
    "duration": 3,
    "start_time": "2023-01-26T18:24:05.441Z"
   },
   {
    "duration": 65,
    "start_time": "2023-01-26T18:24:06.739Z"
   },
   {
    "duration": 3,
    "start_time": "2023-01-26T18:24:10.287Z"
   },
   {
    "duration": 82,
    "start_time": "2023-01-26T18:24:11.545Z"
   },
   {
    "duration": 3,
    "start_time": "2023-01-26T18:24:13.870Z"
   },
   {
    "duration": 5,
    "start_time": "2023-01-26T18:24:16.516Z"
   },
   {
    "duration": 5,
    "start_time": "2023-01-26T18:24:18.280Z"
   },
   {
    "duration": 24,
    "start_time": "2023-01-26T18:24:20.298Z"
   },
   {
    "duration": 12,
    "start_time": "2023-01-26T18:24:24.331Z"
   },
   {
    "duration": 6,
    "start_time": "2023-01-26T18:26:01.540Z"
   },
   {
    "duration": 5,
    "start_time": "2023-01-26T18:26:31.565Z"
   },
   {
    "duration": 4,
    "start_time": "2023-01-26T18:26:32.760Z"
   },
   {
    "duration": 5,
    "start_time": "2023-01-26T18:26:34.666Z"
   },
   {
    "duration": 6,
    "start_time": "2023-01-26T18:26:37.647Z"
   },
   {
    "duration": 6,
    "start_time": "2023-01-26T18:27:27.918Z"
   },
   {
    "duration": 6,
    "start_time": "2023-01-26T18:27:59.713Z"
   },
   {
    "duration": 25,
    "start_time": "2023-01-26T18:28:16.636Z"
   },
   {
    "duration": 17,
    "start_time": "2023-01-26T18:28:39.374Z"
   },
   {
    "duration": 1119,
    "start_time": "2023-01-26T18:28:47.100Z"
   },
   {
    "duration": 79,
    "start_time": "2023-01-26T18:28:48.220Z"
   },
   {
    "duration": 12,
    "start_time": "2023-01-26T18:28:48.301Z"
   },
   {
    "duration": 6,
    "start_time": "2023-01-26T18:28:48.314Z"
   },
   {
    "duration": 13,
    "start_time": "2023-01-26T18:28:48.322Z"
   },
   {
    "duration": 16,
    "start_time": "2023-01-26T18:28:48.337Z"
   },
   {
    "duration": 17,
    "start_time": "2023-01-26T18:28:48.355Z"
   },
   {
    "duration": 13,
    "start_time": "2023-01-26T18:28:48.373Z"
   },
   {
    "duration": 52,
    "start_time": "2023-01-26T18:28:48.388Z"
   },
   {
    "duration": 12,
    "start_time": "2023-01-26T18:28:48.441Z"
   },
   {
    "duration": 7,
    "start_time": "2023-01-26T18:28:48.455Z"
   },
   {
    "duration": 15,
    "start_time": "2023-01-26T18:28:48.463Z"
   },
   {
    "duration": 10,
    "start_time": "2023-01-26T18:28:48.480Z"
   },
   {
    "duration": 8,
    "start_time": "2023-01-26T18:28:48.492Z"
   },
   {
    "duration": 167,
    "start_time": "2023-01-26T18:28:48.501Z"
   },
   {
    "duration": 134,
    "start_time": "2023-01-26T18:28:48.670Z"
   },
   {
    "duration": 6,
    "start_time": "2023-01-26T18:28:48.805Z"
   },
   {
    "duration": 10,
    "start_time": "2023-01-26T18:28:48.813Z"
   },
   {
    "duration": 11,
    "start_time": "2023-01-26T18:28:48.824Z"
   },
   {
    "duration": 6,
    "start_time": "2023-01-26T18:28:48.836Z"
   },
   {
    "duration": 279,
    "start_time": "2023-01-26T18:28:48.844Z"
   },
   {
    "duration": 221,
    "start_time": "2023-01-26T18:28:49.125Z"
   },
   {
    "duration": 9,
    "start_time": "2023-01-26T18:28:49.348Z"
   },
   {
    "duration": 309,
    "start_time": "2023-01-26T18:28:49.358Z"
   },
   {
    "duration": 5,
    "start_time": "2023-01-26T18:28:49.669Z"
   },
   {
    "duration": 19,
    "start_time": "2023-01-26T18:28:49.676Z"
   },
   {
    "duration": 27,
    "start_time": "2023-01-26T18:28:49.697Z"
   },
   {
    "duration": 207,
    "start_time": "2023-01-26T18:28:49.726Z"
   },
   {
    "duration": 8,
    "start_time": "2023-01-26T18:28:49.934Z"
   },
   {
    "duration": 360,
    "start_time": "2023-01-26T18:28:49.943Z"
   },
   {
    "duration": 7,
    "start_time": "2023-01-26T18:28:50.305Z"
   },
   {
    "duration": 7,
    "start_time": "2023-01-26T18:28:50.314Z"
   },
   {
    "duration": 8,
    "start_time": "2023-01-26T18:28:50.322Z"
   },
   {
    "duration": 136,
    "start_time": "2023-01-26T18:28:50.331Z"
   },
   {
    "duration": 5,
    "start_time": "2023-01-26T18:28:50.469Z"
   },
   {
    "duration": 26,
    "start_time": "2023-01-26T18:28:50.475Z"
   },
   {
    "duration": 147,
    "start_time": "2023-01-26T18:28:50.502Z"
   },
   {
    "duration": 5,
    "start_time": "2023-01-26T18:28:50.651Z"
   },
   {
    "duration": 11,
    "start_time": "2023-01-26T18:28:50.658Z"
   },
   {
    "duration": 18,
    "start_time": "2023-01-26T18:28:50.671Z"
   },
   {
    "duration": 13,
    "start_time": "2023-01-26T18:28:50.694Z"
   },
   {
    "duration": 11,
    "start_time": "2023-01-26T18:28:50.709Z"
   },
   {
    "duration": 24,
    "start_time": "2023-01-26T18:28:50.722Z"
   },
   {
    "duration": 9,
    "start_time": "2023-01-26T18:28:50.748Z"
   },
   {
    "duration": 43,
    "start_time": "2023-01-26T18:28:50.759Z"
   },
   {
    "duration": 11,
    "start_time": "2023-01-26T18:28:50.804Z"
   },
   {
    "duration": 77,
    "start_time": "2023-01-26T18:28:50.818Z"
   },
   {
    "duration": 3,
    "start_time": "2023-01-26T18:28:50.897Z"
   },
   {
    "duration": 186,
    "start_time": "2023-01-26T18:28:50.902Z"
   },
   {
    "duration": 9,
    "start_time": "2023-01-26T18:28:51.090Z"
   },
   {
    "duration": 7,
    "start_time": "2023-01-26T18:28:51.101Z"
   },
   {
    "duration": 9,
    "start_time": "2023-01-26T18:28:51.110Z"
   },
   {
    "duration": 40,
    "start_time": "2023-01-26T18:28:51.120Z"
   },
   {
    "duration": 12,
    "start_time": "2023-01-26T18:28:51.162Z"
   },
   {
    "duration": 6,
    "start_time": "2023-01-26T18:28:51.175Z"
   },
   {
    "duration": 6,
    "start_time": "2023-01-26T18:28:51.183Z"
   },
   {
    "duration": 8,
    "start_time": "2023-01-26T18:28:51.191Z"
   },
   {
    "duration": 7,
    "start_time": "2023-01-26T18:28:51.200Z"
   },
   {
    "duration": 10,
    "start_time": "2023-01-26T18:28:51.209Z"
   },
   {
    "duration": 32,
    "start_time": "2023-01-26T18:28:51.221Z"
   },
   {
    "duration": 43,
    "start_time": "2023-01-26T18:28:51.255Z"
   },
   {
    "duration": 15,
    "start_time": "2023-01-26T18:28:51.300Z"
   },
   {
    "duration": 349,
    "start_time": "2023-01-26T18:34:05.838Z"
   },
   {
    "duration": 305,
    "start_time": "2023-01-26T18:34:20.670Z"
   },
   {
    "duration": 1054,
    "start_time": "2023-01-26T19:27:55.971Z"
   },
   {
    "duration": 80,
    "start_time": "2023-01-26T19:27:57.027Z"
   },
   {
    "duration": 12,
    "start_time": "2023-01-26T19:27:57.109Z"
   },
   {
    "duration": 23,
    "start_time": "2023-01-26T19:27:57.122Z"
   },
   {
    "duration": 36,
    "start_time": "2023-01-26T19:27:57.147Z"
   },
   {
    "duration": 20,
    "start_time": "2023-01-26T19:27:57.185Z"
   },
   {
    "duration": 40,
    "start_time": "2023-01-26T19:27:57.206Z"
   },
   {
    "duration": 44,
    "start_time": "2023-01-26T19:27:57.247Z"
   },
   {
    "duration": 72,
    "start_time": "2023-01-26T19:27:57.293Z"
   },
   {
    "duration": 12,
    "start_time": "2023-01-26T19:27:57.367Z"
   },
   {
    "duration": 65,
    "start_time": "2023-01-26T19:27:57.381Z"
   },
   {
    "duration": 59,
    "start_time": "2023-01-26T19:27:57.449Z"
   },
   {
    "duration": 38,
    "start_time": "2023-01-26T19:27:57.509Z"
   },
   {
    "duration": 27,
    "start_time": "2023-01-26T19:27:57.551Z"
   },
   {
    "duration": 240,
    "start_time": "2023-01-26T19:27:57.580Z"
   },
   {
    "duration": 140,
    "start_time": "2023-01-26T19:27:57.822Z"
   },
   {
    "duration": 12,
    "start_time": "2023-01-26T19:27:57.963Z"
   },
   {
    "duration": 12,
    "start_time": "2023-01-26T19:27:57.977Z"
   },
   {
    "duration": 38,
    "start_time": "2023-01-26T19:27:57.990Z"
   },
   {
    "duration": 23,
    "start_time": "2023-01-26T19:27:58.029Z"
   },
   {
    "duration": 294,
    "start_time": "2023-01-26T19:27:58.054Z"
   },
   {
    "duration": 203,
    "start_time": "2023-01-26T19:27:58.349Z"
   },
   {
    "duration": 6,
    "start_time": "2023-01-26T19:27:58.554Z"
   },
   {
    "duration": 318,
    "start_time": "2023-01-26T19:27:58.562Z"
   },
   {
    "duration": 5,
    "start_time": "2023-01-26T19:27:58.882Z"
   },
   {
    "duration": 10,
    "start_time": "2023-01-26T19:27:58.889Z"
   },
   {
    "duration": 9,
    "start_time": "2023-01-26T19:27:58.901Z"
   },
   {
    "duration": 197,
    "start_time": "2023-01-26T19:27:58.911Z"
   },
   {
    "duration": 8,
    "start_time": "2023-01-26T19:27:59.110Z"
   },
   {
    "duration": 357,
    "start_time": "2023-01-26T19:27:59.120Z"
   },
   {
    "duration": 7,
    "start_time": "2023-01-26T19:27:59.479Z"
   },
   {
    "duration": 7,
    "start_time": "2023-01-26T19:27:59.488Z"
   },
   {
    "duration": 6,
    "start_time": "2023-01-26T19:27:59.497Z"
   },
   {
    "duration": 154,
    "start_time": "2023-01-26T19:27:59.504Z"
   },
   {
    "duration": 5,
    "start_time": "2023-01-26T19:27:59.660Z"
   },
   {
    "duration": 6,
    "start_time": "2023-01-26T19:27:59.666Z"
   },
   {
    "duration": 157,
    "start_time": "2023-01-26T19:27:59.674Z"
   },
   {
    "duration": 6,
    "start_time": "2023-01-26T19:27:59.833Z"
   },
   {
    "duration": 72,
    "start_time": "2023-01-26T19:27:59.853Z"
   },
   {
    "duration": 6,
    "start_time": "2023-01-26T19:27:59.927Z"
   },
   {
    "duration": 5,
    "start_time": "2023-01-26T19:27:59.937Z"
   },
   {
    "duration": 4,
    "start_time": "2023-01-26T19:27:59.944Z"
   },
   {
    "duration": 13,
    "start_time": "2023-01-26T19:27:59.950Z"
   },
   {
    "duration": 4,
    "start_time": "2023-01-26T19:27:59.964Z"
   },
   {
    "duration": 12,
    "start_time": "2023-01-26T19:27:59.970Z"
   },
   {
    "duration": 2,
    "start_time": "2023-01-26T19:27:59.984Z"
   },
   {
    "duration": 80,
    "start_time": "2023-01-26T19:27:59.988Z"
   },
   {
    "duration": 3,
    "start_time": "2023-01-26T19:28:00.070Z"
   },
   {
    "duration": 96,
    "start_time": "2023-01-26T19:28:00.074Z"
   },
   {
    "duration": 3,
    "start_time": "2023-01-26T19:28:00.172Z"
   },
   {
    "duration": 18,
    "start_time": "2023-01-26T19:28:00.176Z"
   },
   {
    "duration": 37,
    "start_time": "2023-01-26T19:28:00.196Z"
   },
   {
    "duration": 68,
    "start_time": "2023-01-26T19:28:00.235Z"
   },
   {
    "duration": 21,
    "start_time": "2023-01-26T19:28:00.305Z"
   },
   {
    "duration": 24,
    "start_time": "2023-01-26T19:28:00.328Z"
   },
   {
    "duration": 22,
    "start_time": "2023-01-26T19:28:00.353Z"
   },
   {
    "duration": 24,
    "start_time": "2023-01-26T19:28:00.377Z"
   },
   {
    "duration": 30,
    "start_time": "2023-01-26T19:28:00.403Z"
   },
   {
    "duration": 31,
    "start_time": "2023-01-26T19:28:00.434Z"
   },
   {
    "duration": 56,
    "start_time": "2023-01-26T19:28:00.467Z"
   },
   {
    "duration": 46,
    "start_time": "2023-01-26T19:28:00.525Z"
   },
   {
    "duration": 39,
    "start_time": "2023-01-26T19:28:00.572Z"
   },
   {
    "duration": 271,
    "start_time": "2023-01-26T19:37:05.201Z"
   },
   {
    "duration": 284,
    "start_time": "2023-01-26T19:37:38.743Z"
   },
   {
    "duration": 386,
    "start_time": "2023-01-26T19:37:49.741Z"
   },
   {
    "duration": 992,
    "start_time": "2023-01-26T19:38:35.110Z"
   },
   {
    "duration": 81,
    "start_time": "2023-01-26T19:38:36.104Z"
   },
   {
    "duration": 11,
    "start_time": "2023-01-26T19:38:36.187Z"
   },
   {
    "duration": 27,
    "start_time": "2023-01-26T19:38:36.200Z"
   },
   {
    "duration": 17,
    "start_time": "2023-01-26T19:38:36.229Z"
   },
   {
    "duration": 15,
    "start_time": "2023-01-26T19:38:36.248Z"
   },
   {
    "duration": 41,
    "start_time": "2023-01-26T19:38:36.265Z"
   },
   {
    "duration": 11,
    "start_time": "2023-01-26T19:38:36.308Z"
   },
   {
    "duration": 44,
    "start_time": "2023-01-26T19:38:36.321Z"
   },
   {
    "duration": 12,
    "start_time": "2023-01-26T19:38:36.367Z"
   },
   {
    "duration": 7,
    "start_time": "2023-01-26T19:38:36.380Z"
   },
   {
    "duration": 10,
    "start_time": "2023-01-26T19:38:36.388Z"
   },
   {
    "duration": 13,
    "start_time": "2023-01-26T19:38:36.400Z"
   },
   {
    "duration": 6,
    "start_time": "2023-01-26T19:38:36.416Z"
   },
   {
    "duration": 173,
    "start_time": "2023-01-26T19:38:36.423Z"
   },
   {
    "duration": 130,
    "start_time": "2023-01-26T19:38:36.598Z"
   },
   {
    "duration": 5,
    "start_time": "2023-01-26T19:38:36.730Z"
   },
   {
    "duration": 3,
    "start_time": "2023-01-26T19:38:36.753Z"
   },
   {
    "duration": 14,
    "start_time": "2023-01-26T19:38:36.757Z"
   },
   {
    "duration": 11,
    "start_time": "2023-01-26T19:38:36.773Z"
   },
   {
    "duration": 270,
    "start_time": "2023-01-26T19:38:36.786Z"
   },
   {
    "duration": 205,
    "start_time": "2023-01-26T19:38:37.058Z"
   },
   {
    "duration": 6,
    "start_time": "2023-01-26T19:38:37.265Z"
   },
   {
    "duration": 320,
    "start_time": "2023-01-26T19:38:37.272Z"
   },
   {
    "duration": 4,
    "start_time": "2023-01-26T19:38:37.594Z"
   },
   {
    "duration": 8,
    "start_time": "2023-01-26T19:38:37.599Z"
   },
   {
    "duration": 6,
    "start_time": "2023-01-26T19:38:37.608Z"
   },
   {
    "duration": 247,
    "start_time": "2023-01-26T19:38:37.616Z"
   },
   {
    "duration": 9,
    "start_time": "2023-01-26T19:38:37.866Z"
   },
   {
    "duration": 305,
    "start_time": "2023-01-26T19:38:37.877Z"
   },
   {
    "duration": 7,
    "start_time": "2023-01-26T19:38:38.183Z"
   },
   {
    "duration": 5,
    "start_time": "2023-01-26T19:38:38.192Z"
   },
   {
    "duration": 11,
    "start_time": "2023-01-26T19:38:38.199Z"
   },
   {
    "duration": 123,
    "start_time": "2023-01-26T19:38:38.211Z"
   },
   {
    "duration": 5,
    "start_time": "2023-01-26T19:38:38.335Z"
   },
   {
    "duration": 14,
    "start_time": "2023-01-26T19:38:38.341Z"
   },
   {
    "duration": 137,
    "start_time": "2023-01-26T19:38:38.357Z"
   },
   {
    "duration": 6,
    "start_time": "2023-01-26T19:38:38.495Z"
   },
   {
    "duration": 9,
    "start_time": "2023-01-26T19:38:38.503Z"
   },
   {
    "duration": 5,
    "start_time": "2023-01-26T19:38:38.513Z"
   },
   {
    "duration": 6,
    "start_time": "2023-01-26T19:38:38.523Z"
   },
   {
    "duration": 22,
    "start_time": "2023-01-26T19:38:38.531Z"
   },
   {
    "duration": 16,
    "start_time": "2023-01-26T19:38:38.555Z"
   },
   {
    "duration": 3,
    "start_time": "2023-01-26T19:38:38.573Z"
   },
   {
    "duration": 20,
    "start_time": "2023-01-26T19:38:38.577Z"
   },
   {
    "duration": 3,
    "start_time": "2023-01-26T19:38:38.599Z"
   },
   {
    "duration": 84,
    "start_time": "2023-01-26T19:38:38.604Z"
   },
   {
    "duration": 3,
    "start_time": "2023-01-26T19:38:38.690Z"
   },
   {
    "duration": 90,
    "start_time": "2023-01-26T19:38:38.694Z"
   },
   {
    "duration": 3,
    "start_time": "2023-01-26T19:38:38.786Z"
   },
   {
    "duration": 8,
    "start_time": "2023-01-26T19:38:38.790Z"
   },
   {
    "duration": 9,
    "start_time": "2023-01-26T19:38:38.800Z"
   },
   {
    "duration": 26,
    "start_time": "2023-01-26T19:38:38.810Z"
   },
   {
    "duration": 25,
    "start_time": "2023-01-26T19:38:38.837Z"
   },
   {
    "duration": 5,
    "start_time": "2023-01-26T19:38:38.864Z"
   },
   {
    "duration": 7,
    "start_time": "2023-01-26T19:38:38.871Z"
   },
   {
    "duration": 5,
    "start_time": "2023-01-26T19:38:38.880Z"
   },
   {
    "duration": 9,
    "start_time": "2023-01-26T19:38:38.887Z"
   },
   {
    "duration": 5,
    "start_time": "2023-01-26T19:38:38.898Z"
   },
   {
    "duration": 6,
    "start_time": "2023-01-26T19:38:38.905Z"
   },
   {
    "duration": 53,
    "start_time": "2023-01-26T19:38:38.912Z"
   },
   {
    "duration": 16,
    "start_time": "2023-01-26T19:38:38.966Z"
   },
   {
    "duration": 3,
    "start_time": "2023-01-26T19:58:34.276Z"
   },
   {
    "duration": 48,
    "start_time": "2023-01-27T22:14:17.729Z"
   },
   {
    "duration": 1196,
    "start_time": "2023-01-27T22:14:23.924Z"
   },
   {
    "duration": 150,
    "start_time": "2023-01-27T22:14:25.122Z"
   },
   {
    "duration": 99,
    "start_time": "2023-01-27T22:14:25.274Z"
   },
   {
    "duration": 0,
    "start_time": "2023-01-27T22:14:25.376Z"
   },
   {
    "duration": 0,
    "start_time": "2023-01-27T22:14:25.377Z"
   },
   {
    "duration": 0,
    "start_time": "2023-01-27T22:14:25.378Z"
   },
   {
    "duration": 0,
    "start_time": "2023-01-27T22:14:25.379Z"
   },
   {
    "duration": 0,
    "start_time": "2023-01-27T22:14:25.381Z"
   },
   {
    "duration": 0,
    "start_time": "2023-01-27T22:14:25.382Z"
   },
   {
    "duration": 0,
    "start_time": "2023-01-27T22:14:25.383Z"
   },
   {
    "duration": 0,
    "start_time": "2023-01-27T22:14:25.391Z"
   },
   {
    "duration": 0,
    "start_time": "2023-01-27T22:14:25.393Z"
   },
   {
    "duration": 0,
    "start_time": "2023-01-27T22:14:25.394Z"
   },
   {
    "duration": 0,
    "start_time": "2023-01-27T22:14:25.395Z"
   },
   {
    "duration": 0,
    "start_time": "2023-01-27T22:14:25.396Z"
   },
   {
    "duration": 0,
    "start_time": "2023-01-27T22:14:25.397Z"
   },
   {
    "duration": 0,
    "start_time": "2023-01-27T22:14:25.398Z"
   },
   {
    "duration": 0,
    "start_time": "2023-01-27T22:14:25.399Z"
   },
   {
    "duration": 0,
    "start_time": "2023-01-27T22:14:25.401Z"
   },
   {
    "duration": 0,
    "start_time": "2023-01-27T22:14:25.401Z"
   },
   {
    "duration": 0,
    "start_time": "2023-01-27T22:14:25.402Z"
   },
   {
    "duration": 0,
    "start_time": "2023-01-27T22:14:25.404Z"
   },
   {
    "duration": 0,
    "start_time": "2023-01-27T22:14:25.405Z"
   },
   {
    "duration": 0,
    "start_time": "2023-01-27T22:14:25.406Z"
   },
   {
    "duration": 0,
    "start_time": "2023-01-27T22:14:25.407Z"
   },
   {
    "duration": 0,
    "start_time": "2023-01-27T22:14:25.408Z"
   },
   {
    "duration": 0,
    "start_time": "2023-01-27T22:14:25.409Z"
   },
   {
    "duration": 0,
    "start_time": "2023-01-27T22:14:25.410Z"
   },
   {
    "duration": 0,
    "start_time": "2023-01-27T22:14:25.411Z"
   },
   {
    "duration": 0,
    "start_time": "2023-01-27T22:14:25.412Z"
   },
   {
    "duration": 0,
    "start_time": "2023-01-27T22:14:25.413Z"
   },
   {
    "duration": 0,
    "start_time": "2023-01-27T22:14:25.414Z"
   },
   {
    "duration": 0,
    "start_time": "2023-01-27T22:14:25.415Z"
   },
   {
    "duration": 0,
    "start_time": "2023-01-27T22:14:25.416Z"
   },
   {
    "duration": 0,
    "start_time": "2023-01-27T22:14:25.417Z"
   },
   {
    "duration": 0,
    "start_time": "2023-01-27T22:14:25.418Z"
   },
   {
    "duration": 0,
    "start_time": "2023-01-27T22:14:25.419Z"
   },
   {
    "duration": 0,
    "start_time": "2023-01-27T22:14:25.420Z"
   },
   {
    "duration": 0,
    "start_time": "2023-01-27T22:14:25.421Z"
   },
   {
    "duration": 0,
    "start_time": "2023-01-27T22:14:25.422Z"
   },
   {
    "duration": 1,
    "start_time": "2023-01-27T22:14:25.423Z"
   },
   {
    "duration": 0,
    "start_time": "2023-01-27T22:14:25.425Z"
   },
   {
    "duration": 0,
    "start_time": "2023-01-27T22:14:25.426Z"
   },
   {
    "duration": 0,
    "start_time": "2023-01-27T22:14:25.427Z"
   },
   {
    "duration": 0,
    "start_time": "2023-01-27T22:14:25.428Z"
   },
   {
    "duration": 0,
    "start_time": "2023-01-27T22:14:25.492Z"
   },
   {
    "duration": 0,
    "start_time": "2023-01-27T22:14:25.493Z"
   },
   {
    "duration": 0,
    "start_time": "2023-01-27T22:14:25.494Z"
   },
   {
    "duration": 0,
    "start_time": "2023-01-27T22:14:25.495Z"
   },
   {
    "duration": 0,
    "start_time": "2023-01-27T22:14:25.496Z"
   },
   {
    "duration": 0,
    "start_time": "2023-01-27T22:14:25.497Z"
   },
   {
    "duration": 0,
    "start_time": "2023-01-27T22:14:25.498Z"
   },
   {
    "duration": 0,
    "start_time": "2023-01-27T22:14:25.500Z"
   },
   {
    "duration": 0,
    "start_time": "2023-01-27T22:14:25.501Z"
   },
   {
    "duration": 0,
    "start_time": "2023-01-27T22:14:25.501Z"
   },
   {
    "duration": 0,
    "start_time": "2023-01-27T22:14:25.502Z"
   },
   {
    "duration": 0,
    "start_time": "2023-01-27T22:14:25.504Z"
   },
   {
    "duration": 1,
    "start_time": "2023-01-27T22:14:25.504Z"
   },
   {
    "duration": 0,
    "start_time": "2023-01-27T22:14:25.505Z"
   },
   {
    "duration": 0,
    "start_time": "2023-01-27T22:14:25.506Z"
   },
   {
    "duration": 0,
    "start_time": "2023-01-27T22:14:25.507Z"
   },
   {
    "duration": 0,
    "start_time": "2023-01-27T22:14:25.508Z"
   },
   {
    "duration": 55,
    "start_time": "2023-01-27T22:14:38.148Z"
   },
   {
    "duration": 1082,
    "start_time": "2023-01-27T22:14:47.667Z"
   },
   {
    "duration": 87,
    "start_time": "2023-01-27T22:14:48.751Z"
   },
   {
    "duration": 57,
    "start_time": "2023-01-27T22:14:48.840Z"
   },
   {
    "duration": 6,
    "start_time": "2023-01-27T22:14:48.898Z"
   },
   {
    "duration": 27,
    "start_time": "2023-01-27T22:14:48.906Z"
   },
   {
    "duration": 5,
    "start_time": "2023-01-27T22:14:48.935Z"
   },
   {
    "duration": 20,
    "start_time": "2023-01-27T22:14:48.943Z"
   },
   {
    "duration": 28,
    "start_time": "2023-01-27T22:14:48.965Z"
   },
   {
    "duration": 159,
    "start_time": "2023-01-27T22:14:48.996Z"
   },
   {
    "duration": 13,
    "start_time": "2023-01-27T22:14:49.157Z"
   },
   {
    "duration": 17,
    "start_time": "2023-01-27T22:14:49.172Z"
   },
   {
    "duration": 24,
    "start_time": "2023-01-27T22:14:49.191Z"
   },
   {
    "duration": 16,
    "start_time": "2023-01-27T22:14:49.217Z"
   },
   {
    "duration": 6,
    "start_time": "2023-01-27T22:14:49.236Z"
   },
   {
    "duration": 181,
    "start_time": "2023-01-27T22:14:49.244Z"
   },
   {
    "duration": 126,
    "start_time": "2023-01-27T22:14:49.426Z"
   },
   {
    "duration": 6,
    "start_time": "2023-01-27T22:14:49.553Z"
   },
   {
    "duration": 9,
    "start_time": "2023-01-27T22:14:49.561Z"
   },
   {
    "duration": 23,
    "start_time": "2023-01-27T22:14:49.571Z"
   },
   {
    "duration": 8,
    "start_time": "2023-01-27T22:14:49.595Z"
   },
   {
    "duration": 276,
    "start_time": "2023-01-27T22:14:49.605Z"
   },
   {
    "duration": 190,
    "start_time": "2023-01-27T22:14:49.883Z"
   },
   {
    "duration": 17,
    "start_time": "2023-01-27T22:14:50.075Z"
   },
   {
    "duration": 299,
    "start_time": "2023-01-27T22:14:50.093Z"
   },
   {
    "duration": 4,
    "start_time": "2023-01-27T22:14:50.393Z"
   },
   {
    "duration": 10,
    "start_time": "2023-01-27T22:14:50.399Z"
   },
   {
    "duration": 17,
    "start_time": "2023-01-27T22:14:50.411Z"
   },
   {
    "duration": 193,
    "start_time": "2023-01-27T22:14:50.430Z"
   },
   {
    "duration": 8,
    "start_time": "2023-01-27T22:14:50.625Z"
   },
   {
    "duration": 306,
    "start_time": "2023-01-27T22:14:50.635Z"
   },
   {
    "duration": 7,
    "start_time": "2023-01-27T22:14:50.943Z"
   },
   {
    "duration": 21,
    "start_time": "2023-01-27T22:14:50.951Z"
   },
   {
    "duration": 64,
    "start_time": "2023-01-27T22:14:50.974Z"
   },
   {
    "duration": 131,
    "start_time": "2023-01-27T22:14:51.039Z"
   },
   {
    "duration": 5,
    "start_time": "2023-01-27T22:14:51.172Z"
   },
   {
    "duration": 33,
    "start_time": "2023-01-27T22:14:51.178Z"
   },
   {
    "duration": 154,
    "start_time": "2023-01-27T22:14:51.212Z"
   },
   {
    "duration": 6,
    "start_time": "2023-01-27T22:14:51.368Z"
   },
   {
    "duration": 56,
    "start_time": "2023-01-27T22:14:51.377Z"
   },
   {
    "duration": 76,
    "start_time": "2023-01-27T22:14:51.434Z"
   },
   {
    "duration": 18,
    "start_time": "2023-01-27T22:14:51.516Z"
   },
   {
    "duration": 40,
    "start_time": "2023-01-27T22:14:51.536Z"
   },
   {
    "duration": 47,
    "start_time": "2023-01-27T22:14:51.578Z"
   },
   {
    "duration": 9,
    "start_time": "2023-01-27T22:14:51.627Z"
   },
   {
    "duration": 33,
    "start_time": "2023-01-27T22:14:51.637Z"
   },
   {
    "duration": 41,
    "start_time": "2023-01-27T22:14:51.672Z"
   },
   {
    "duration": 72,
    "start_time": "2023-01-27T22:14:51.715Z"
   },
   {
    "duration": 3,
    "start_time": "2023-01-27T22:14:51.790Z"
   },
   {
    "duration": 104,
    "start_time": "2023-01-27T22:14:51.795Z"
   },
   {
    "duration": 3,
    "start_time": "2023-01-27T22:14:51.901Z"
   },
   {
    "duration": 30,
    "start_time": "2023-01-27T22:14:51.905Z"
   },
   {
    "duration": 23,
    "start_time": "2023-01-27T22:14:51.937Z"
   },
   {
    "duration": 53,
    "start_time": "2023-01-27T22:14:51.961Z"
   },
   {
    "duration": 12,
    "start_time": "2023-01-27T22:14:52.016Z"
   },
   {
    "duration": 10,
    "start_time": "2023-01-27T22:14:52.029Z"
   },
   {
    "duration": 10,
    "start_time": "2023-01-27T22:14:52.040Z"
   },
   {
    "duration": 20,
    "start_time": "2023-01-27T22:14:52.051Z"
   },
   {
    "duration": 30,
    "start_time": "2023-01-27T22:14:52.073Z"
   },
   {
    "duration": 28,
    "start_time": "2023-01-27T22:14:52.104Z"
   },
   {
    "duration": 27,
    "start_time": "2023-01-27T22:14:52.133Z"
   },
   {
    "duration": 55,
    "start_time": "2023-01-27T22:14:52.162Z"
   },
   {
    "duration": 23,
    "start_time": "2023-01-27T22:14:52.219Z"
   },
   {
    "duration": 8,
    "start_time": "2023-01-27T22:18:27.239Z"
   },
   {
    "duration": 8,
    "start_time": "2023-01-27T22:18:43.162Z"
   },
   {
    "duration": 5,
    "start_time": "2023-01-27T22:19:50.165Z"
   },
   {
    "duration": 6,
    "start_time": "2023-01-27T22:20:02.098Z"
   },
   {
    "duration": 8,
    "start_time": "2023-01-27T22:20:06.288Z"
   },
   {
    "duration": 6,
    "start_time": "2023-01-27T22:20:12.253Z"
   },
   {
    "duration": 277,
    "start_time": "2023-01-27T22:24:05.347Z"
   },
   {
    "duration": 338,
    "start_time": "2023-01-27T22:24:20.614Z"
   },
   {
    "duration": 184,
    "start_time": "2023-01-27T22:24:33.780Z"
   },
   {
    "duration": 196,
    "start_time": "2023-01-27T22:24:39.511Z"
   },
   {
    "duration": 198,
    "start_time": "2023-01-27T22:24:53.565Z"
   },
   {
    "duration": 184,
    "start_time": "2023-01-27T22:24:55.231Z"
   },
   {
    "duration": 201,
    "start_time": "2023-01-27T22:25:00.126Z"
   },
   {
    "duration": 184,
    "start_time": "2023-01-27T22:25:00.920Z"
   },
   {
    "duration": 227,
    "start_time": "2023-01-27T22:25:05.993Z"
   },
   {
    "duration": 193,
    "start_time": "2023-01-27T22:25:25.065Z"
   },
   {
    "duration": 191,
    "start_time": "2023-01-27T22:25:26.662Z"
   },
   {
    "duration": 201,
    "start_time": "2023-01-27T22:25:29.293Z"
   },
   {
    "duration": 265,
    "start_time": "2023-01-27T22:25:31.814Z"
   },
   {
    "duration": 200,
    "start_time": "2023-01-27T22:25:33.761Z"
   },
   {
    "duration": 192,
    "start_time": "2023-01-27T22:26:09.486Z"
   },
   {
    "duration": 177,
    "start_time": "2023-01-27T22:26:12.481Z"
   },
   {
    "duration": 195,
    "start_time": "2023-01-27T22:26:14.617Z"
   },
   {
    "duration": 187,
    "start_time": "2023-01-27T22:26:41.828Z"
   },
   {
    "duration": 205,
    "start_time": "2023-01-27T22:26:45.545Z"
   },
   {
    "duration": 184,
    "start_time": "2023-01-27T22:26:52.710Z"
   },
   {
    "duration": 181,
    "start_time": "2023-01-27T22:26:56.447Z"
   },
   {
    "duration": 187,
    "start_time": "2023-01-27T22:27:00.525Z"
   },
   {
    "duration": 212,
    "start_time": "2023-01-27T22:27:03.072Z"
   },
   {
    "duration": 277,
    "start_time": "2023-01-27T22:27:10.410Z"
   },
   {
    "duration": 189,
    "start_time": "2023-01-27T22:27:13.400Z"
   },
   {
    "duration": 191,
    "start_time": "2023-01-27T22:27:18.618Z"
   },
   {
    "duration": 188,
    "start_time": "2023-01-27T22:27:30.174Z"
   },
   {
    "duration": 198,
    "start_time": "2023-01-27T22:27:58.660Z"
   },
   {
    "duration": 196,
    "start_time": "2023-01-27T22:28:04.690Z"
   },
   {
    "duration": 2,
    "start_time": "2023-01-27T22:28:18.099Z"
   },
   {
    "duration": 1029,
    "start_time": "2023-01-27T22:28:22.991Z"
   },
   {
    "duration": 87,
    "start_time": "2023-01-27T22:28:24.022Z"
   },
   {
    "duration": 48,
    "start_time": "2023-01-27T22:28:24.111Z"
   },
   {
    "duration": 5,
    "start_time": "2023-01-27T22:28:24.161Z"
   },
   {
    "duration": 29,
    "start_time": "2023-01-27T22:28:24.167Z"
   },
   {
    "duration": 4,
    "start_time": "2023-01-27T22:28:24.198Z"
   },
   {
    "duration": 11,
    "start_time": "2023-01-27T22:28:24.204Z"
   },
   {
    "duration": 15,
    "start_time": "2023-01-27T22:28:24.216Z"
   },
   {
    "duration": 70,
    "start_time": "2023-01-27T22:28:24.232Z"
   },
   {
    "duration": 12,
    "start_time": "2023-01-27T22:28:24.305Z"
   },
   {
    "duration": 10,
    "start_time": "2023-01-27T22:28:24.319Z"
   },
   {
    "duration": 14,
    "start_time": "2023-01-27T22:28:24.330Z"
   },
   {
    "duration": 11,
    "start_time": "2023-01-27T22:28:24.345Z"
   },
   {
    "duration": 9,
    "start_time": "2023-01-27T22:28:24.357Z"
   },
   {
    "duration": 6,
    "start_time": "2023-01-27T22:28:24.367Z"
   },
   {
    "duration": 18,
    "start_time": "2023-01-27T22:28:24.375Z"
   },
   {
    "duration": 12,
    "start_time": "2023-01-27T22:28:24.394Z"
   },
   {
    "duration": 2,
    "start_time": "2023-01-27T22:28:24.408Z"
   },
   {
    "duration": 10,
    "start_time": "2023-01-27T22:28:24.412Z"
   },
   {
    "duration": 177,
    "start_time": "2023-01-27T22:28:24.424Z"
   },
   {
    "duration": 134,
    "start_time": "2023-01-27T22:28:24.603Z"
   },
   {
    "duration": 8,
    "start_time": "2023-01-27T22:28:24.738Z"
   },
   {
    "duration": 5,
    "start_time": "2023-01-27T22:28:24.747Z"
   },
   {
    "duration": 10,
    "start_time": "2023-01-27T22:28:24.753Z"
   },
   {
    "duration": 6,
    "start_time": "2023-01-27T22:28:24.765Z"
   },
   {
    "duration": 290,
    "start_time": "2023-01-27T22:28:24.772Z"
   },
   {
    "duration": 202,
    "start_time": "2023-01-27T22:28:25.064Z"
   },
   {
    "duration": 5,
    "start_time": "2023-01-27T22:28:25.270Z"
   },
   {
    "duration": 308,
    "start_time": "2023-01-27T22:28:25.277Z"
   },
   {
    "duration": 3,
    "start_time": "2023-01-27T22:28:25.592Z"
   },
   {
    "duration": 11,
    "start_time": "2023-01-27T22:28:25.597Z"
   },
   {
    "duration": 10,
    "start_time": "2023-01-27T22:28:25.609Z"
   },
   {
    "duration": 178,
    "start_time": "2023-01-27T22:28:25.620Z"
   },
   {
    "duration": 8,
    "start_time": "2023-01-27T22:28:25.799Z"
   },
   {
    "duration": 345,
    "start_time": "2023-01-27T22:28:25.808Z"
   },
   {
    "duration": 5,
    "start_time": "2023-01-27T22:28:26.155Z"
   },
   {
    "duration": 5,
    "start_time": "2023-01-27T22:28:26.162Z"
   },
   {
    "duration": 5,
    "start_time": "2023-01-27T22:28:26.169Z"
   },
   {
    "duration": 137,
    "start_time": "2023-01-27T22:28:26.176Z"
   },
   {
    "duration": 5,
    "start_time": "2023-01-27T22:28:26.314Z"
   },
   {
    "duration": 6,
    "start_time": "2023-01-27T22:28:26.320Z"
   },
   {
    "duration": 152,
    "start_time": "2023-01-27T22:28:26.327Z"
   },
   {
    "duration": 13,
    "start_time": "2023-01-27T22:28:26.481Z"
   },
   {
    "duration": 8,
    "start_time": "2023-01-27T22:28:26.496Z"
   },
   {
    "duration": 5,
    "start_time": "2023-01-27T22:28:26.506Z"
   },
   {
    "duration": 5,
    "start_time": "2023-01-27T22:28:26.513Z"
   },
   {
    "duration": 6,
    "start_time": "2023-01-27T22:28:26.519Z"
   },
   {
    "duration": 14,
    "start_time": "2023-01-27T22:28:26.527Z"
   },
   {
    "duration": 3,
    "start_time": "2023-01-27T22:28:26.542Z"
   },
   {
    "duration": 14,
    "start_time": "2023-01-27T22:28:26.547Z"
   },
   {
    "duration": 30,
    "start_time": "2023-01-27T22:28:26.562Z"
   },
   {
    "duration": 86,
    "start_time": "2023-01-27T22:28:26.593Z"
   },
   {
    "duration": 2,
    "start_time": "2023-01-27T22:28:26.680Z"
   },
   {
    "duration": 80,
    "start_time": "2023-01-27T22:28:26.692Z"
   },
   {
    "duration": 2,
    "start_time": "2023-01-27T22:28:26.774Z"
   },
   {
    "duration": 4,
    "start_time": "2023-01-27T22:28:26.791Z"
   },
   {
    "duration": 5,
    "start_time": "2023-01-27T22:28:26.797Z"
   },
   {
    "duration": 22,
    "start_time": "2023-01-27T22:28:26.803Z"
   },
   {
    "duration": 9,
    "start_time": "2023-01-27T22:28:26.826Z"
   },
   {
    "duration": 4,
    "start_time": "2023-01-27T22:28:26.837Z"
   },
   {
    "duration": 5,
    "start_time": "2023-01-27T22:28:26.842Z"
   },
   {
    "duration": 6,
    "start_time": "2023-01-27T22:28:26.849Z"
   },
   {
    "duration": 6,
    "start_time": "2023-01-27T22:28:26.856Z"
   },
   {
    "duration": 6,
    "start_time": "2023-01-27T22:28:26.891Z"
   },
   {
    "duration": 6,
    "start_time": "2023-01-27T22:28:26.898Z"
   },
   {
    "duration": 20,
    "start_time": "2023-01-27T22:28:26.906Z"
   },
   {
    "duration": 13,
    "start_time": "2023-01-27T22:28:26.928Z"
   },
   {
    "duration": 195,
    "start_time": "2023-01-27T22:28:38.711Z"
   },
   {
    "duration": 254,
    "start_time": "2023-01-27T22:28:42.682Z"
   },
   {
    "duration": 324,
    "start_time": "2023-01-27T22:29:15.597Z"
   },
   {
    "duration": 4,
    "start_time": "2023-01-27T22:32:04.410Z"
   },
   {
    "duration": 313,
    "start_time": "2023-01-27T22:32:41.512Z"
   },
   {
    "duration": 7,
    "start_time": "2023-01-27T22:33:17.562Z"
   },
   {
    "duration": 8,
    "start_time": "2023-01-27T22:33:18.525Z"
   },
   {
    "duration": 3,
    "start_time": "2023-01-27T22:38:35.492Z"
   },
   {
    "duration": 88,
    "start_time": "2023-01-27T22:38:41.939Z"
   },
   {
    "duration": 8,
    "start_time": "2023-01-27T22:38:47.391Z"
   },
   {
    "duration": 4,
    "start_time": "2023-01-27T22:38:58.285Z"
   },
   {
    "duration": 4,
    "start_time": "2023-01-27T22:39:15.661Z"
   },
   {
    "duration": 8,
    "start_time": "2023-01-27T22:39:38.760Z"
   },
   {
    "duration": 3,
    "start_time": "2023-01-27T22:39:41.052Z"
   },
   {
    "duration": 5,
    "start_time": "2023-01-27T22:39:42.172Z"
   },
   {
    "duration": 5,
    "start_time": "2023-01-27T22:40:11.079Z"
   },
   {
    "duration": 3,
    "start_time": "2023-01-27T22:40:31.712Z"
   },
   {
    "duration": 3,
    "start_time": "2023-01-27T22:40:36.943Z"
   },
   {
    "duration": 3,
    "start_time": "2023-01-27T22:41:16.286Z"
   },
   {
    "duration": 5,
    "start_time": "2023-01-27T22:41:27.276Z"
   },
   {
    "duration": 4,
    "start_time": "2023-01-27T22:42:01.910Z"
   },
   {
    "duration": 4,
    "start_time": "2023-01-27T22:42:05.544Z"
   },
   {
    "duration": 5,
    "start_time": "2023-01-27T22:43:15.076Z"
   },
   {
    "duration": 6,
    "start_time": "2023-01-27T22:43:30.112Z"
   },
   {
    "duration": 1064,
    "start_time": "2023-01-27T22:43:34.625Z"
   },
   {
    "duration": 82,
    "start_time": "2023-01-27T22:43:35.691Z"
   },
   {
    "duration": 46,
    "start_time": "2023-01-27T22:43:35.775Z"
   },
   {
    "duration": 5,
    "start_time": "2023-01-27T22:43:35.824Z"
   },
   {
    "duration": 34,
    "start_time": "2023-01-27T22:43:35.831Z"
   },
   {
    "duration": 8,
    "start_time": "2023-01-27T22:43:35.866Z"
   },
   {
    "duration": 19,
    "start_time": "2023-01-27T22:43:35.875Z"
   },
   {
    "duration": 18,
    "start_time": "2023-01-27T22:43:35.896Z"
   },
   {
    "duration": 61,
    "start_time": "2023-01-27T22:43:35.916Z"
   },
   {
    "duration": 15,
    "start_time": "2023-01-27T22:43:35.981Z"
   },
   {
    "duration": 17,
    "start_time": "2023-01-27T22:43:35.998Z"
   },
   {
    "duration": 22,
    "start_time": "2023-01-27T22:43:36.017Z"
   },
   {
    "duration": 20,
    "start_time": "2023-01-27T22:43:36.041Z"
   },
   {
    "duration": 19,
    "start_time": "2023-01-27T22:43:36.062Z"
   },
   {
    "duration": 27,
    "start_time": "2023-01-27T22:43:36.084Z"
   },
   {
    "duration": 32,
    "start_time": "2023-01-27T22:43:36.113Z"
   },
   {
    "duration": 11,
    "start_time": "2023-01-27T22:43:36.148Z"
   },
   {
    "duration": 2,
    "start_time": "2023-01-27T22:43:36.161Z"
   },
   {
    "duration": 8,
    "start_time": "2023-01-27T22:43:36.165Z"
   },
   {
    "duration": 162,
    "start_time": "2023-01-27T22:43:36.174Z"
   },
   {
    "duration": 126,
    "start_time": "2023-01-27T22:43:36.338Z"
   },
   {
    "duration": 8,
    "start_time": "2023-01-27T22:43:36.466Z"
   },
   {
    "duration": 36,
    "start_time": "2023-01-27T22:43:36.492Z"
   },
   {
    "duration": 7,
    "start_time": "2023-01-27T22:43:36.530Z"
   },
   {
    "duration": 6,
    "start_time": "2023-01-27T22:43:36.538Z"
   },
   {
    "duration": 268,
    "start_time": "2023-01-27T22:43:36.545Z"
   },
   {
    "duration": 209,
    "start_time": "2023-01-27T22:43:36.815Z"
   },
   {
    "duration": 6,
    "start_time": "2023-01-27T22:43:37.029Z"
   },
   {
    "duration": 277,
    "start_time": "2023-01-27T22:43:37.037Z"
   },
   {
    "duration": 4,
    "start_time": "2023-01-27T22:43:37.316Z"
   },
   {
    "duration": 7,
    "start_time": "2023-01-27T22:43:37.322Z"
   },
   {
    "duration": 7,
    "start_time": "2023-01-27T22:43:37.331Z"
   },
   {
    "duration": 192,
    "start_time": "2023-01-27T22:43:37.340Z"
   },
   {
    "duration": 8,
    "start_time": "2023-01-27T22:43:37.534Z"
   },
   {
    "duration": 303,
    "start_time": "2023-01-27T22:43:37.544Z"
   },
   {
    "duration": 6,
    "start_time": "2023-01-27T22:43:37.848Z"
   },
   {
    "duration": 7,
    "start_time": "2023-01-27T22:43:37.856Z"
   },
   {
    "duration": 5,
    "start_time": "2023-01-27T22:43:37.864Z"
   },
   {
    "duration": 134,
    "start_time": "2023-01-27T22:43:37.871Z"
   },
   {
    "duration": 4,
    "start_time": "2023-01-27T22:43:38.007Z"
   },
   {
    "duration": 7,
    "start_time": "2023-01-27T22:43:38.013Z"
   },
   {
    "duration": 7,
    "start_time": "2023-01-27T22:43:38.021Z"
   },
   {
    "duration": 5,
    "start_time": "2023-01-27T22:43:38.029Z"
   },
   {
    "duration": 145,
    "start_time": "2023-01-27T22:43:38.036Z"
   },
   {
    "duration": 13,
    "start_time": "2023-01-27T22:43:38.182Z"
   },
   {
    "duration": 8,
    "start_time": "2023-01-27T22:43:38.196Z"
   },
   {
    "duration": 12,
    "start_time": "2023-01-27T22:43:38.206Z"
   },
   {
    "duration": 7,
    "start_time": "2023-01-27T22:43:38.219Z"
   },
   {
    "duration": 11,
    "start_time": "2023-01-27T22:43:38.228Z"
   },
   {
    "duration": 9,
    "start_time": "2023-01-27T22:43:38.241Z"
   },
   {
    "duration": 6,
    "start_time": "2023-01-27T22:43:38.252Z"
   },
   {
    "duration": 16,
    "start_time": "2023-01-27T22:43:38.259Z"
   },
   {
    "duration": 8,
    "start_time": "2023-01-27T22:43:38.276Z"
   },
   {
    "duration": 16,
    "start_time": "2023-01-27T22:43:38.286Z"
   },
   {
    "duration": 3,
    "start_time": "2023-01-27T22:43:38.303Z"
   },
   {
    "duration": 82,
    "start_time": "2023-01-27T22:43:38.308Z"
   },
   {
    "duration": 4,
    "start_time": "2023-01-27T22:43:38.391Z"
   },
   {
    "duration": 80,
    "start_time": "2023-01-27T22:43:38.396Z"
   },
   {
    "duration": 13,
    "start_time": "2023-01-27T22:43:38.478Z"
   },
   {
    "duration": 7,
    "start_time": "2023-01-27T22:43:38.493Z"
   },
   {
    "duration": 6,
    "start_time": "2023-01-27T22:43:38.501Z"
   },
   {
    "duration": 24,
    "start_time": "2023-01-27T22:43:38.508Z"
   },
   {
    "duration": 12,
    "start_time": "2023-01-27T22:43:38.534Z"
   },
   {
    "duration": 6,
    "start_time": "2023-01-27T22:43:38.548Z"
   },
   {
    "duration": 37,
    "start_time": "2023-01-27T22:43:38.555Z"
   },
   {
    "duration": 4,
    "start_time": "2023-01-27T22:43:38.594Z"
   },
   {
    "duration": 11,
    "start_time": "2023-01-27T22:43:38.600Z"
   },
   {
    "duration": 10,
    "start_time": "2023-01-27T22:43:38.612Z"
   },
   {
    "duration": 6,
    "start_time": "2023-01-27T22:43:38.624Z"
   },
   {
    "duration": 25,
    "start_time": "2023-01-27T22:43:38.631Z"
   },
   {
    "duration": 35,
    "start_time": "2023-01-27T22:43:38.657Z"
   },
   {
    "duration": 1089,
    "start_time": "2023-01-27T22:44:54.932Z"
   },
   {
    "duration": 94,
    "start_time": "2023-01-27T22:44:56.025Z"
   },
   {
    "duration": 52,
    "start_time": "2023-01-27T22:44:56.121Z"
   },
   {
    "duration": 20,
    "start_time": "2023-01-27T22:44:56.174Z"
   },
   {
    "duration": 11,
    "start_time": "2023-01-27T22:44:56.197Z"
   },
   {
    "duration": 17,
    "start_time": "2023-01-27T22:44:56.210Z"
   },
   {
    "duration": 37,
    "start_time": "2023-01-27T22:44:56.228Z"
   },
   {
    "duration": 23,
    "start_time": "2023-01-27T22:44:56.266Z"
   },
   {
    "duration": 59,
    "start_time": "2023-01-27T22:44:56.290Z"
   },
   {
    "duration": 11,
    "start_time": "2023-01-27T22:44:56.350Z"
   },
   {
    "duration": 24,
    "start_time": "2023-01-27T22:44:56.362Z"
   },
   {
    "duration": 35,
    "start_time": "2023-01-27T22:44:56.388Z"
   },
   {
    "duration": 28,
    "start_time": "2023-01-27T22:44:56.425Z"
   },
   {
    "duration": 13,
    "start_time": "2023-01-27T22:44:56.456Z"
   },
   {
    "duration": 29,
    "start_time": "2023-01-27T22:44:56.470Z"
   },
   {
    "duration": 21,
    "start_time": "2023-01-27T22:44:56.501Z"
   },
   {
    "duration": 32,
    "start_time": "2023-01-27T22:44:56.524Z"
   },
   {
    "duration": 9,
    "start_time": "2023-01-27T22:44:56.558Z"
   },
   {
    "duration": 33,
    "start_time": "2023-01-27T22:44:56.568Z"
   },
   {
    "duration": 166,
    "start_time": "2023-01-27T22:44:56.603Z"
   },
   {
    "duration": 125,
    "start_time": "2023-01-27T22:44:56.771Z"
   },
   {
    "duration": 5,
    "start_time": "2023-01-27T22:44:56.898Z"
   },
   {
    "duration": 22,
    "start_time": "2023-01-27T22:44:56.905Z"
   },
   {
    "duration": 13,
    "start_time": "2023-01-27T22:44:56.929Z"
   },
   {
    "duration": 19,
    "start_time": "2023-01-27T22:44:56.943Z"
   },
   {
    "duration": 273,
    "start_time": "2023-01-27T22:44:56.963Z"
   },
   {
    "duration": 188,
    "start_time": "2023-01-27T22:44:57.237Z"
   },
   {
    "duration": 5,
    "start_time": "2023-01-27T22:44:57.427Z"
   },
   {
    "duration": 275,
    "start_time": "2023-01-27T22:44:57.434Z"
   },
   {
    "duration": 4,
    "start_time": "2023-01-27T22:44:57.710Z"
   },
   {
    "duration": 39,
    "start_time": "2023-01-27T22:44:57.717Z"
   },
   {
    "duration": 26,
    "start_time": "2023-01-27T22:44:57.757Z"
   },
   {
    "duration": 211,
    "start_time": "2023-01-27T22:44:57.785Z"
   },
   {
    "duration": 9,
    "start_time": "2023-01-27T22:44:57.998Z"
   },
   {
    "duration": 311,
    "start_time": "2023-01-27T22:44:58.009Z"
   },
   {
    "duration": 6,
    "start_time": "2023-01-27T22:44:58.322Z"
   },
   {
    "duration": 11,
    "start_time": "2023-01-27T22:44:58.330Z"
   },
   {
    "duration": 10,
    "start_time": "2023-01-27T22:44:58.343Z"
   },
   {
    "duration": 144,
    "start_time": "2023-01-27T22:44:58.354Z"
   },
   {
    "duration": 5,
    "start_time": "2023-01-27T22:44:58.500Z"
   },
   {
    "duration": 5,
    "start_time": "2023-01-27T22:44:58.509Z"
   },
   {
    "duration": 8,
    "start_time": "2023-01-27T22:44:58.515Z"
   },
   {
    "duration": 7,
    "start_time": "2023-01-27T22:44:58.525Z"
   },
   {
    "duration": 148,
    "start_time": "2023-01-27T22:44:58.533Z"
   },
   {
    "duration": 11,
    "start_time": "2023-01-27T22:44:58.683Z"
   },
   {
    "duration": 11,
    "start_time": "2023-01-27T22:44:58.696Z"
   },
   {
    "duration": 24,
    "start_time": "2023-01-27T22:44:58.709Z"
   },
   {
    "duration": 13,
    "start_time": "2023-01-27T22:44:58.735Z"
   },
   {
    "duration": 24,
    "start_time": "2023-01-27T22:44:58.749Z"
   },
   {
    "duration": 18,
    "start_time": "2023-01-27T22:44:58.774Z"
   },
   {
    "duration": 11,
    "start_time": "2023-01-27T22:44:58.793Z"
   },
   {
    "duration": 19,
    "start_time": "2023-01-27T22:44:58.805Z"
   },
   {
    "duration": 3,
    "start_time": "2023-01-27T22:44:58.826Z"
   },
   {
    "duration": 22,
    "start_time": "2023-01-27T22:44:58.830Z"
   },
   {
    "duration": 3,
    "start_time": "2023-01-27T22:44:58.854Z"
   },
   {
    "duration": 67,
    "start_time": "2023-01-27T22:44:58.858Z"
   },
   {
    "duration": 2,
    "start_time": "2023-01-27T22:44:58.927Z"
   },
   {
    "duration": 85,
    "start_time": "2023-01-27T22:44:58.930Z"
   },
   {
    "duration": 3,
    "start_time": "2023-01-27T22:44:59.017Z"
   },
   {
    "duration": 24,
    "start_time": "2023-01-27T22:44:59.021Z"
   },
   {
    "duration": 9,
    "start_time": "2023-01-27T22:44:59.047Z"
   },
   {
    "duration": 42,
    "start_time": "2023-01-27T22:44:59.057Z"
   },
   {
    "duration": 11,
    "start_time": "2023-01-27T22:44:59.101Z"
   },
   {
    "duration": 9,
    "start_time": "2023-01-27T22:44:59.114Z"
   },
   {
    "duration": 11,
    "start_time": "2023-01-27T22:44:59.124Z"
   },
   {
    "duration": 6,
    "start_time": "2023-01-27T22:44:59.137Z"
   },
   {
    "duration": 14,
    "start_time": "2023-01-27T22:44:59.144Z"
   },
   {
    "duration": 10,
    "start_time": "2023-01-27T22:44:59.159Z"
   },
   {
    "duration": 14,
    "start_time": "2023-01-27T22:44:59.171Z"
   },
   {
    "duration": 29,
    "start_time": "2023-01-27T22:44:59.187Z"
   },
   {
    "duration": 16,
    "start_time": "2023-01-27T22:44:59.218Z"
   },
   {
    "duration": 995,
    "start_time": "2023-01-27T22:47:27.713Z"
   },
   {
    "duration": 81,
    "start_time": "2023-01-27T22:47:28.711Z"
   },
   {
    "duration": 47,
    "start_time": "2023-01-27T22:47:28.793Z"
   },
   {
    "duration": 5,
    "start_time": "2023-01-27T22:47:28.841Z"
   },
   {
    "duration": 17,
    "start_time": "2023-01-27T22:47:28.848Z"
   },
   {
    "duration": 7,
    "start_time": "2023-01-27T22:47:28.866Z"
   },
   {
    "duration": 9,
    "start_time": "2023-01-27T22:47:28.891Z"
   },
   {
    "duration": 13,
    "start_time": "2023-01-27T22:47:28.901Z"
   },
   {
    "duration": 65,
    "start_time": "2023-01-27T22:47:28.915Z"
   },
   {
    "duration": 11,
    "start_time": "2023-01-27T22:47:28.982Z"
   },
   {
    "duration": 22,
    "start_time": "2023-01-27T22:47:28.994Z"
   },
   {
    "duration": 26,
    "start_time": "2023-01-27T22:47:29.017Z"
   },
   {
    "duration": 24,
    "start_time": "2023-01-27T22:47:29.044Z"
   },
   {
    "duration": 18,
    "start_time": "2023-01-27T22:47:29.070Z"
   },
   {
    "duration": 13,
    "start_time": "2023-01-27T22:47:29.090Z"
   },
   {
    "duration": 16,
    "start_time": "2023-01-27T22:47:29.104Z"
   },
   {
    "duration": 12,
    "start_time": "2023-01-27T22:47:29.121Z"
   },
   {
    "duration": 12,
    "start_time": "2023-01-27T22:47:29.135Z"
   },
   {
    "duration": 23,
    "start_time": "2023-01-27T22:47:29.148Z"
   },
   {
    "duration": 163,
    "start_time": "2023-01-27T22:47:29.173Z"
   },
   {
    "duration": 118,
    "start_time": "2023-01-27T22:47:29.337Z"
   },
   {
    "duration": 6,
    "start_time": "2023-01-27T22:47:29.456Z"
   },
   {
    "duration": 13,
    "start_time": "2023-01-27T22:47:29.463Z"
   },
   {
    "duration": 15,
    "start_time": "2023-01-27T22:47:29.477Z"
   },
   {
    "duration": 5,
    "start_time": "2023-01-27T22:47:29.494Z"
   },
   {
    "duration": 278,
    "start_time": "2023-01-27T22:47:29.501Z"
   },
   {
    "duration": 206,
    "start_time": "2023-01-27T22:47:29.781Z"
   },
   {
    "duration": 6,
    "start_time": "2023-01-27T22:47:29.989Z"
   },
   {
    "duration": 300,
    "start_time": "2023-01-27T22:47:29.997Z"
   },
   {
    "duration": 4,
    "start_time": "2023-01-27T22:47:30.299Z"
   },
   {
    "duration": 33,
    "start_time": "2023-01-27T22:47:30.305Z"
   },
   {
    "duration": 45,
    "start_time": "2023-01-27T22:47:30.340Z"
   },
   {
    "duration": 220,
    "start_time": "2023-01-27T22:47:30.387Z"
   },
   {
    "duration": 8,
    "start_time": "2023-01-27T22:47:30.609Z"
   },
   {
    "duration": 324,
    "start_time": "2023-01-27T22:47:30.619Z"
   },
   {
    "duration": 6,
    "start_time": "2023-01-27T22:47:30.945Z"
   },
   {
    "duration": 25,
    "start_time": "2023-01-27T22:47:30.952Z"
   },
   {
    "duration": 32,
    "start_time": "2023-01-27T22:47:30.978Z"
   },
   {
    "duration": 142,
    "start_time": "2023-01-27T22:47:31.012Z"
   },
   {
    "duration": 5,
    "start_time": "2023-01-27T22:47:31.155Z"
   },
   {
    "duration": 26,
    "start_time": "2023-01-27T22:47:31.164Z"
   },
   {
    "duration": 7,
    "start_time": "2023-01-27T22:47:31.192Z"
   },
   {
    "duration": 51,
    "start_time": "2023-01-27T22:47:31.201Z"
   },
   {
    "duration": 144,
    "start_time": "2023-01-27T22:47:31.254Z"
   },
   {
    "duration": 6,
    "start_time": "2023-01-27T22:47:31.400Z"
   },
   {
    "duration": 20,
    "start_time": "2023-01-27T22:47:31.408Z"
   },
   {
    "duration": 21,
    "start_time": "2023-01-27T22:47:31.430Z"
   },
   {
    "duration": 23,
    "start_time": "2023-01-27T22:47:31.453Z"
   },
   {
    "duration": 32,
    "start_time": "2023-01-27T22:47:31.478Z"
   },
   {
    "duration": 19,
    "start_time": "2023-01-27T22:47:31.512Z"
   },
   {
    "duration": 12,
    "start_time": "2023-01-27T22:47:31.533Z"
   },
   {
    "duration": 31,
    "start_time": "2023-01-27T22:47:31.546Z"
   },
   {
    "duration": 17,
    "start_time": "2023-01-27T22:47:31.579Z"
   },
   {
    "duration": 28,
    "start_time": "2023-01-27T22:47:31.597Z"
   },
   {
    "duration": 13,
    "start_time": "2023-01-27T22:47:31.627Z"
   },
   {
    "duration": 110,
    "start_time": "2023-01-27T22:47:31.642Z"
   },
   {
    "duration": 3,
    "start_time": "2023-01-27T22:47:31.753Z"
   },
   {
    "duration": 78,
    "start_time": "2023-01-27T22:47:31.758Z"
   },
   {
    "duration": 3,
    "start_time": "2023-01-27T22:47:31.838Z"
   },
   {
    "duration": 7,
    "start_time": "2023-01-27T22:47:31.842Z"
   },
   {
    "duration": 6,
    "start_time": "2023-01-27T22:47:31.851Z"
   },
   {
    "duration": 48,
    "start_time": "2023-01-27T22:47:31.859Z"
   },
   {
    "duration": 10,
    "start_time": "2023-01-27T22:47:31.909Z"
   },
   {
    "duration": 5,
    "start_time": "2023-01-27T22:47:31.921Z"
   },
   {
    "duration": 7,
    "start_time": "2023-01-27T22:47:31.927Z"
   },
   {
    "duration": 9,
    "start_time": "2023-01-27T22:47:31.936Z"
   },
   {
    "duration": 22,
    "start_time": "2023-01-27T22:47:31.946Z"
   },
   {
    "duration": 10,
    "start_time": "2023-01-27T22:47:31.969Z"
   },
   {
    "duration": 16,
    "start_time": "2023-01-27T22:47:31.981Z"
   },
   {
    "duration": 26,
    "start_time": "2023-01-27T22:47:31.998Z"
   },
   {
    "duration": 14,
    "start_time": "2023-01-27T22:47:32.026Z"
   },
   {
    "duration": 21,
    "start_time": "2023-01-27T23:06:02.594Z"
   },
   {
    "duration": 22,
    "start_time": "2023-01-27T23:06:22.571Z"
   },
   {
    "duration": 15,
    "start_time": "2023-01-27T23:06:27.082Z"
   },
   {
    "duration": 10,
    "start_time": "2023-01-27T23:06:38.522Z"
   },
   {
    "duration": 110,
    "start_time": "2023-01-27T23:09:00.498Z"
   },
   {
    "duration": 26,
    "start_time": "2023-01-27T23:09:22.520Z"
   },
   {
    "duration": 27,
    "start_time": "2023-01-27T23:09:29.854Z"
   },
   {
    "duration": 3,
    "start_time": "2023-01-27T23:10:06.141Z"
   },
   {
    "duration": 21,
    "start_time": "2023-01-27T23:10:09.893Z"
   },
   {
    "duration": 24,
    "start_time": "2023-01-27T23:10:24.951Z"
   },
   {
    "duration": 65,
    "start_time": "2023-01-27T23:12:17.161Z"
   },
   {
    "duration": 23,
    "start_time": "2023-01-27T23:12:21.926Z"
   },
   {
    "duration": 25,
    "start_time": "2023-01-27T23:12:40.006Z"
   },
   {
    "duration": 28,
    "start_time": "2023-01-27T23:12:58.826Z"
   },
   {
    "duration": 23,
    "start_time": "2023-01-27T23:13:09.582Z"
   },
   {
    "duration": 91,
    "start_time": "2023-01-27T23:14:44.135Z"
   },
   {
    "duration": 129,
    "start_time": "2023-01-27T23:15:03.081Z"
   },
   {
    "duration": 8,
    "start_time": "2023-01-27T23:15:10.219Z"
   },
   {
    "duration": 76,
    "start_time": "2023-01-27T23:15:26.452Z"
   },
   {
    "duration": 25,
    "start_time": "2023-01-27T23:15:32.856Z"
   },
   {
    "duration": 23,
    "start_time": "2023-01-27T23:17:29.473Z"
   },
   {
    "duration": 14,
    "start_time": "2023-01-27T23:19:36.489Z"
   },
   {
    "duration": 12,
    "start_time": "2023-01-27T23:21:04.360Z"
   },
   {
    "duration": 14,
    "start_time": "2023-01-27T23:21:36.990Z"
   },
   {
    "duration": 13,
    "start_time": "2023-01-27T23:22:41.717Z"
   },
   {
    "duration": 22,
    "start_time": "2023-01-27T23:22:53.534Z"
   },
   {
    "duration": 70,
    "start_time": "2023-01-27T23:23:37.148Z"
   },
   {
    "duration": 6,
    "start_time": "2023-01-27T23:25:03.810Z"
   },
   {
    "duration": 81,
    "start_time": "2023-01-27T23:27:12.163Z"
   },
   {
    "duration": 74,
    "start_time": "2023-01-27T23:27:38.352Z"
   },
   {
    "duration": 16,
    "start_time": "2023-01-27T23:27:42.241Z"
   },
   {
    "duration": 14,
    "start_time": "2023-01-27T23:28:06.790Z"
   },
   {
    "duration": 78,
    "start_time": "2023-01-27T23:28:22.498Z"
   },
   {
    "duration": 11,
    "start_time": "2023-01-27T23:28:28.877Z"
   },
   {
    "duration": 16,
    "start_time": "2023-01-27T23:28:53.471Z"
   },
   {
    "duration": 80,
    "start_time": "2023-01-27T23:29:16.930Z"
   },
   {
    "duration": 80,
    "start_time": "2023-01-27T23:29:20.677Z"
   },
   {
    "duration": 13,
    "start_time": "2023-01-27T23:29:33.419Z"
   },
   {
    "duration": 3,
    "start_time": "2023-01-27T23:29:38.819Z"
   },
   {
    "duration": 16,
    "start_time": "2023-01-27T23:29:50.828Z"
   },
   {
    "duration": 19,
    "start_time": "2023-01-27T23:31:13.762Z"
   },
   {
    "duration": 23,
    "start_time": "2023-01-27T23:31:31.707Z"
   },
   {
    "duration": 1057,
    "start_time": "2023-01-27T23:31:51.056Z"
   },
   {
    "duration": 77,
    "start_time": "2023-01-27T23:31:52.115Z"
   },
   {
    "duration": 47,
    "start_time": "2023-01-27T23:31:52.194Z"
   },
   {
    "duration": 4,
    "start_time": "2023-01-27T23:31:52.243Z"
   },
   {
    "duration": 12,
    "start_time": "2023-01-27T23:31:52.249Z"
   },
   {
    "duration": 15,
    "start_time": "2023-01-27T23:31:52.262Z"
   },
   {
    "duration": 20,
    "start_time": "2023-01-27T23:31:52.279Z"
   },
   {
    "duration": 14,
    "start_time": "2023-01-27T23:31:52.300Z"
   },
   {
    "duration": 54,
    "start_time": "2023-01-27T23:31:52.316Z"
   },
   {
    "duration": 13,
    "start_time": "2023-01-27T23:31:52.371Z"
   },
   {
    "duration": 9,
    "start_time": "2023-01-27T23:31:52.385Z"
   },
   {
    "duration": 11,
    "start_time": "2023-01-27T23:31:52.396Z"
   },
   {
    "duration": 9,
    "start_time": "2023-01-27T23:31:52.409Z"
   },
   {
    "duration": 6,
    "start_time": "2023-01-27T23:31:52.421Z"
   },
   {
    "duration": 9,
    "start_time": "2023-01-27T23:31:52.429Z"
   },
   {
    "duration": 10,
    "start_time": "2023-01-27T23:31:52.439Z"
   },
   {
    "duration": 12,
    "start_time": "2023-01-27T23:31:52.450Z"
   },
   {
    "duration": 3,
    "start_time": "2023-01-27T23:31:52.463Z"
   },
   {
    "duration": 6,
    "start_time": "2023-01-27T23:31:52.493Z"
   },
   {
    "duration": 172,
    "start_time": "2023-01-27T23:31:52.500Z"
   },
   {
    "duration": 119,
    "start_time": "2023-01-27T23:31:52.674Z"
   },
   {
    "duration": 6,
    "start_time": "2023-01-27T23:31:52.794Z"
   },
   {
    "duration": 9,
    "start_time": "2023-01-27T23:31:52.802Z"
   },
   {
    "duration": 7,
    "start_time": "2023-01-27T23:31:52.812Z"
   },
   {
    "duration": 6,
    "start_time": "2023-01-27T23:31:52.820Z"
   },
   {
    "duration": 286,
    "start_time": "2023-01-27T23:31:52.828Z"
   },
   {
    "duration": 201,
    "start_time": "2023-01-27T23:31:53.116Z"
   },
   {
    "duration": 7,
    "start_time": "2023-01-27T23:31:53.318Z"
   },
   {
    "duration": 293,
    "start_time": "2023-01-27T23:31:53.326Z"
   },
   {
    "duration": 4,
    "start_time": "2023-01-27T23:31:53.621Z"
   },
   {
    "duration": 7,
    "start_time": "2023-01-27T23:31:53.626Z"
   },
   {
    "duration": 18,
    "start_time": "2023-01-27T23:31:53.634Z"
   },
   {
    "duration": 209,
    "start_time": "2023-01-27T23:31:53.654Z"
   },
   {
    "duration": 8,
    "start_time": "2023-01-27T23:31:53.865Z"
   },
   {
    "duration": 345,
    "start_time": "2023-01-27T23:31:53.875Z"
   },
   {
    "duration": 6,
    "start_time": "2023-01-27T23:31:54.222Z"
   },
   {
    "duration": 7,
    "start_time": "2023-01-27T23:31:54.229Z"
   },
   {
    "duration": 7,
    "start_time": "2023-01-27T23:31:54.237Z"
   },
   {
    "duration": 140,
    "start_time": "2023-01-27T23:31:54.246Z"
   },
   {
    "duration": 6,
    "start_time": "2023-01-27T23:31:54.391Z"
   },
   {
    "duration": 5,
    "start_time": "2023-01-27T23:31:54.402Z"
   },
   {
    "duration": 9,
    "start_time": "2023-01-27T23:31:54.408Z"
   },
   {
    "duration": 6,
    "start_time": "2023-01-27T23:31:54.418Z"
   },
   {
    "duration": 150,
    "start_time": "2023-01-27T23:31:54.426Z"
   },
   {
    "duration": 5,
    "start_time": "2023-01-27T23:31:54.577Z"
   },
   {
    "duration": 3,
    "start_time": "2023-01-27T23:31:54.592Z"
   },
   {
    "duration": 7,
    "start_time": "2023-01-27T23:31:54.597Z"
   },
   {
    "duration": 16,
    "start_time": "2023-01-27T23:31:54.606Z"
   },
   {
    "duration": 9,
    "start_time": "2023-01-27T23:31:54.624Z"
   },
   {
    "duration": 10,
    "start_time": "2023-01-27T23:31:54.635Z"
   },
   {
    "duration": 7,
    "start_time": "2023-01-27T23:31:54.647Z"
   },
   {
    "duration": 21,
    "start_time": "2023-01-27T23:31:54.655Z"
   },
   {
    "duration": 13,
    "start_time": "2023-01-27T23:31:54.678Z"
   },
   {
    "duration": 18,
    "start_time": "2023-01-27T23:31:54.692Z"
   },
   {
    "duration": 3,
    "start_time": "2023-01-27T23:31:54.712Z"
   },
   {
    "duration": 66,
    "start_time": "2023-01-27T23:31:54.716Z"
   },
   {
    "duration": 3,
    "start_time": "2023-01-27T23:31:54.792Z"
   },
   {
    "duration": 79,
    "start_time": "2023-01-27T23:31:54.796Z"
   },
   {
    "duration": 15,
    "start_time": "2023-01-27T23:31:54.877Z"
   },
   {
    "duration": 6,
    "start_time": "2023-01-27T23:31:54.894Z"
   },
   {
    "duration": 12,
    "start_time": "2023-01-27T23:31:54.902Z"
   },
   {
    "duration": 26,
    "start_time": "2023-01-27T23:31:54.915Z"
   },
   {
    "duration": 14,
    "start_time": "2023-01-27T23:31:54.943Z"
   },
   {
    "duration": 36,
    "start_time": "2023-01-27T23:31:54.958Z"
   },
   {
    "duration": 8,
    "start_time": "2023-01-27T23:31:54.996Z"
   },
   {
    "duration": 9,
    "start_time": "2023-01-27T23:31:55.005Z"
   },
   {
    "duration": 8,
    "start_time": "2023-01-27T23:31:55.016Z"
   },
   {
    "duration": 7,
    "start_time": "2023-01-27T23:31:55.025Z"
   },
   {
    "duration": 19,
    "start_time": "2023-01-27T23:31:55.034Z"
   },
   {
    "duration": 36,
    "start_time": "2023-01-27T23:31:55.055Z"
   },
   {
    "duration": 24,
    "start_time": "2023-01-27T23:31:55.093Z"
   },
   {
    "duration": 2,
    "start_time": "2023-01-27T23:32:32.765Z"
   },
   {
    "duration": 1061,
    "start_time": "2023-01-27T23:32:59.052Z"
   },
   {
    "duration": 92,
    "start_time": "2023-01-27T23:33:00.115Z"
   },
   {
    "duration": 47,
    "start_time": "2023-01-27T23:33:00.209Z"
   },
   {
    "duration": 5,
    "start_time": "2023-01-27T23:33:00.258Z"
   },
   {
    "duration": 51,
    "start_time": "2023-01-27T23:33:00.264Z"
   },
   {
    "duration": 24,
    "start_time": "2023-01-27T23:33:00.317Z"
   },
   {
    "duration": 27,
    "start_time": "2023-01-27T23:33:00.342Z"
   },
   {
    "duration": 19,
    "start_time": "2023-01-27T23:33:00.371Z"
   },
   {
    "duration": 66,
    "start_time": "2023-01-27T23:33:00.392Z"
   },
   {
    "duration": 12,
    "start_time": "2023-01-27T23:33:00.460Z"
   },
   {
    "duration": 22,
    "start_time": "2023-01-27T23:33:00.474Z"
   },
   {
    "duration": 84,
    "start_time": "2023-01-27T23:33:00.497Z"
   },
   {
    "duration": 41,
    "start_time": "2023-01-27T23:33:00.582Z"
   },
   {
    "duration": 20,
    "start_time": "2023-01-27T23:33:00.626Z"
   },
   {
    "duration": 12,
    "start_time": "2023-01-27T23:33:00.648Z"
   },
   {
    "duration": 35,
    "start_time": "2023-01-27T23:33:00.662Z"
   },
   {
    "duration": 32,
    "start_time": "2023-01-27T23:33:00.698Z"
   },
   {
    "duration": 13,
    "start_time": "2023-01-27T23:33:00.732Z"
   },
   {
    "duration": 47,
    "start_time": "2023-01-27T23:33:00.746Z"
   },
   {
    "duration": 187,
    "start_time": "2023-01-27T23:33:00.795Z"
   },
   {
    "duration": 137,
    "start_time": "2023-01-27T23:33:00.983Z"
   },
   {
    "duration": 7,
    "start_time": "2023-01-27T23:33:01.122Z"
   },
   {
    "duration": 41,
    "start_time": "2023-01-27T23:33:01.131Z"
   },
   {
    "duration": 69,
    "start_time": "2023-01-27T23:33:01.174Z"
   },
   {
    "duration": 35,
    "start_time": "2023-01-27T23:33:01.244Z"
   },
   {
    "duration": 306,
    "start_time": "2023-01-27T23:33:01.281Z"
   },
   {
    "duration": 215,
    "start_time": "2023-01-27T23:33:01.591Z"
   },
   {
    "duration": 7,
    "start_time": "2023-01-27T23:33:01.808Z"
   },
   {
    "duration": 288,
    "start_time": "2023-01-27T23:33:01.816Z"
   },
   {
    "duration": 4,
    "start_time": "2023-01-27T23:33:02.105Z"
   },
   {
    "duration": 85,
    "start_time": "2023-01-27T23:33:02.111Z"
   },
   {
    "duration": 37,
    "start_time": "2023-01-27T23:33:02.198Z"
   },
   {
    "duration": 216,
    "start_time": "2023-01-27T23:33:02.237Z"
   },
   {
    "duration": 8,
    "start_time": "2023-01-27T23:33:02.454Z"
   },
   {
    "duration": 448,
    "start_time": "2023-01-27T23:33:02.463Z"
   },
   {
    "duration": 6,
    "start_time": "2023-01-27T23:33:02.913Z"
   },
   {
    "duration": 18,
    "start_time": "2023-01-27T23:33:02.921Z"
   },
   {
    "duration": 16,
    "start_time": "2023-01-27T23:33:02.940Z"
   },
   {
    "duration": 169,
    "start_time": "2023-01-27T23:33:02.957Z"
   },
   {
    "duration": 5,
    "start_time": "2023-01-27T23:33:03.128Z"
   },
   {
    "duration": 22,
    "start_time": "2023-01-27T23:33:03.137Z"
   },
   {
    "duration": 18,
    "start_time": "2023-01-27T23:33:03.160Z"
   },
   {
    "duration": 9,
    "start_time": "2023-01-27T23:33:03.179Z"
   },
   {
    "duration": 149,
    "start_time": "2023-01-27T23:33:03.189Z"
   },
   {
    "duration": 5,
    "start_time": "2023-01-27T23:33:03.339Z"
   },
   {
    "duration": 35,
    "start_time": "2023-01-27T23:33:03.345Z"
   },
   {
    "duration": 92,
    "start_time": "2023-01-27T23:33:03.382Z"
   },
   {
    "duration": 12,
    "start_time": "2023-01-27T23:33:03.476Z"
   },
   {
    "duration": 15,
    "start_time": "2023-01-27T23:33:03.489Z"
   },
   {
    "duration": 12,
    "start_time": "2023-01-27T23:33:03.505Z"
   },
   {
    "duration": 35,
    "start_time": "2023-01-27T23:33:03.519Z"
   },
   {
    "duration": 38,
    "start_time": "2023-01-27T23:33:03.556Z"
   },
   {
    "duration": 27,
    "start_time": "2023-01-27T23:33:03.596Z"
   },
   {
    "duration": 26,
    "start_time": "2023-01-27T23:33:03.624Z"
   },
   {
    "duration": 22,
    "start_time": "2023-01-27T23:33:03.652Z"
   },
   {
    "duration": 88,
    "start_time": "2023-01-27T23:33:03.676Z"
   },
   {
    "duration": 122,
    "start_time": "2023-01-27T23:33:03.766Z"
   },
   {
    "duration": 12,
    "start_time": "2023-01-27T23:33:03.890Z"
   },
   {
    "duration": 74,
    "start_time": "2023-01-27T23:33:03.903Z"
   },
   {
    "duration": 3,
    "start_time": "2023-01-27T23:33:03.978Z"
   },
   {
    "duration": 35,
    "start_time": "2023-01-27T23:33:03.982Z"
   },
   {
    "duration": 91,
    "start_time": "2023-01-27T23:33:04.019Z"
   },
   {
    "duration": 49,
    "start_time": "2023-01-27T23:33:04.112Z"
   },
   {
    "duration": 12,
    "start_time": "2023-01-27T23:33:04.162Z"
   },
   {
    "duration": 18,
    "start_time": "2023-01-27T23:33:04.175Z"
   },
   {
    "duration": 48,
    "start_time": "2023-01-27T23:33:04.195Z"
   },
   {
    "duration": 74,
    "start_time": "2023-01-27T23:33:04.245Z"
   },
   {
    "duration": 23,
    "start_time": "2023-01-27T23:33:04.321Z"
   },
   {
    "duration": 84,
    "start_time": "2023-01-27T23:33:04.346Z"
   },
   {
    "duration": 10,
    "start_time": "2023-01-27T23:33:04.431Z"
   },
   {
    "duration": 28,
    "start_time": "2023-01-27T23:33:04.443Z"
   },
   {
    "duration": 44,
    "start_time": "2023-01-27T23:33:04.472Z"
   },
   {
    "duration": 994,
    "start_time": "2023-01-28T04:03:29.118Z"
   },
   {
    "duration": 81,
    "start_time": "2023-01-28T04:03:30.114Z"
   },
   {
    "duration": 51,
    "start_time": "2023-01-28T04:03:30.196Z"
   },
   {
    "duration": 5,
    "start_time": "2023-01-28T04:03:30.249Z"
   },
   {
    "duration": 56,
    "start_time": "2023-01-28T04:03:30.255Z"
   },
   {
    "duration": 16,
    "start_time": "2023-01-28T04:03:30.312Z"
   },
   {
    "duration": 25,
    "start_time": "2023-01-28T04:03:30.330Z"
   },
   {
    "duration": 37,
    "start_time": "2023-01-28T04:03:30.357Z"
   },
   {
    "duration": 60,
    "start_time": "2023-01-28T04:03:30.396Z"
   },
   {
    "duration": 11,
    "start_time": "2023-01-28T04:03:30.459Z"
   },
   {
    "duration": 9,
    "start_time": "2023-01-28T04:03:30.472Z"
   },
   {
    "duration": 25,
    "start_time": "2023-01-28T04:03:30.482Z"
   },
   {
    "duration": 17,
    "start_time": "2023-01-28T04:03:30.508Z"
   },
   {
    "duration": 30,
    "start_time": "2023-01-28T04:03:30.527Z"
   },
   {
    "duration": 34,
    "start_time": "2023-01-28T04:03:30.559Z"
   },
   {
    "duration": 28,
    "start_time": "2023-01-28T04:03:30.595Z"
   },
   {
    "duration": 32,
    "start_time": "2023-01-28T04:03:30.624Z"
   },
   {
    "duration": 17,
    "start_time": "2023-01-28T04:03:30.657Z"
   },
   {
    "duration": 21,
    "start_time": "2023-01-28T04:03:30.676Z"
   },
   {
    "duration": 175,
    "start_time": "2023-01-28T04:03:30.698Z"
   },
   {
    "duration": 119,
    "start_time": "2023-01-28T04:03:30.875Z"
   },
   {
    "duration": 6,
    "start_time": "2023-01-28T04:03:30.996Z"
   },
   {
    "duration": 20,
    "start_time": "2023-01-28T04:03:31.004Z"
   },
   {
    "duration": 23,
    "start_time": "2023-01-28T04:03:31.026Z"
   },
   {
    "duration": 35,
    "start_time": "2023-01-28T04:03:31.050Z"
   },
   {
    "duration": 305,
    "start_time": "2023-01-28T04:03:31.086Z"
   },
   {
    "duration": 198,
    "start_time": "2023-01-28T04:03:31.393Z"
   },
   {
    "duration": 6,
    "start_time": "2023-01-28T04:03:31.595Z"
   },
   {
    "duration": 297,
    "start_time": "2023-01-28T04:03:31.603Z"
   },
   {
    "duration": 4,
    "start_time": "2023-01-28T04:03:31.902Z"
   },
   {
    "duration": 7,
    "start_time": "2023-01-28T04:03:31.908Z"
   },
   {
    "duration": 7,
    "start_time": "2023-01-28T04:03:31.917Z"
   },
   {
    "duration": 195,
    "start_time": "2023-01-28T04:03:31.925Z"
   },
   {
    "duration": 8,
    "start_time": "2023-01-28T04:03:32.121Z"
   },
   {
    "duration": 292,
    "start_time": "2023-01-28T04:03:32.131Z"
   },
   {
    "duration": 5,
    "start_time": "2023-01-28T04:03:32.425Z"
   },
   {
    "duration": 7,
    "start_time": "2023-01-28T04:03:32.432Z"
   },
   {
    "duration": 5,
    "start_time": "2023-01-28T04:03:32.441Z"
   },
   {
    "duration": 127,
    "start_time": "2023-01-28T04:03:32.448Z"
   },
   {
    "duration": 18,
    "start_time": "2023-01-28T04:03:32.577Z"
   },
   {
    "duration": 6,
    "start_time": "2023-01-28T04:03:32.597Z"
   },
   {
    "duration": 7,
    "start_time": "2023-01-28T04:03:32.605Z"
   },
   {
    "duration": 5,
    "start_time": "2023-01-28T04:03:32.614Z"
   },
   {
    "duration": 149,
    "start_time": "2023-01-28T04:03:32.621Z"
   },
   {
    "duration": 5,
    "start_time": "2023-01-28T04:03:32.771Z"
   },
   {
    "duration": 4,
    "start_time": "2023-01-28T04:03:32.778Z"
   },
   {
    "duration": 4,
    "start_time": "2023-01-28T04:03:32.791Z"
   },
   {
    "duration": 4,
    "start_time": "2023-01-28T04:03:32.797Z"
   },
   {
    "duration": 7,
    "start_time": "2023-01-28T04:03:32.802Z"
   },
   {
    "duration": 6,
    "start_time": "2023-01-28T04:03:32.811Z"
   },
   {
    "duration": 11,
    "start_time": "2023-01-28T04:03:32.818Z"
   },
   {
    "duration": 6,
    "start_time": "2023-01-28T04:03:32.830Z"
   },
   {
    "duration": 17,
    "start_time": "2023-01-28T04:03:32.837Z"
   },
   {
    "duration": 6,
    "start_time": "2023-01-28T04:03:32.856Z"
   },
   {
    "duration": 41,
    "start_time": "2023-01-28T04:03:32.863Z"
   },
   {
    "duration": 2,
    "start_time": "2023-01-28T04:03:32.906Z"
   },
   {
    "duration": 65,
    "start_time": "2023-01-28T04:03:32.910Z"
   },
   {
    "duration": 15,
    "start_time": "2023-01-28T04:03:32.977Z"
   },
   {
    "duration": 98,
    "start_time": "2023-01-28T04:03:32.993Z"
   },
   {
    "duration": 2,
    "start_time": "2023-01-28T04:03:33.093Z"
   },
   {
    "duration": 7,
    "start_time": "2023-01-28T04:03:33.097Z"
   },
   {
    "duration": 5,
    "start_time": "2023-01-28T04:03:33.105Z"
   },
   {
    "duration": 28,
    "start_time": "2023-01-28T04:03:33.112Z"
   },
   {
    "duration": 12,
    "start_time": "2023-01-28T04:03:33.142Z"
   },
   {
    "duration": 39,
    "start_time": "2023-01-28T04:03:33.156Z"
   },
   {
    "duration": 5,
    "start_time": "2023-01-28T04:03:33.197Z"
   },
   {
    "duration": 7,
    "start_time": "2023-01-28T04:03:33.204Z"
   },
   {
    "duration": 7,
    "start_time": "2023-01-28T04:03:33.212Z"
   },
   {
    "duration": 7,
    "start_time": "2023-01-28T04:03:33.220Z"
   },
   {
    "duration": 8,
    "start_time": "2023-01-28T04:03:33.228Z"
   },
   {
    "duration": 25,
    "start_time": "2023-01-28T04:03:33.238Z"
   },
   {
    "duration": 18,
    "start_time": "2023-01-28T04:03:33.291Z"
   },
   {
    "duration": 1316,
    "start_time": "2023-01-29T19:32:32.626Z"
   },
   {
    "duration": 156,
    "start_time": "2023-01-29T19:32:33.945Z"
   },
   {
    "duration": 58,
    "start_time": "2023-01-29T19:32:34.103Z"
   },
   {
    "duration": 7,
    "start_time": "2023-01-29T19:32:34.163Z"
   },
   {
    "duration": 15,
    "start_time": "2023-01-29T19:32:34.173Z"
   },
   {
    "duration": 5,
    "start_time": "2023-01-29T19:32:34.190Z"
   },
   {
    "duration": 13,
    "start_time": "2023-01-29T19:32:34.197Z"
   },
   {
    "duration": 38,
    "start_time": "2023-01-29T19:32:34.212Z"
   },
   {
    "duration": 183,
    "start_time": "2023-01-29T19:32:34.252Z"
   },
   {
    "duration": 18,
    "start_time": "2023-01-29T19:32:34.436Z"
   },
   {
    "duration": 9,
    "start_time": "2023-01-29T19:32:34.456Z"
   },
   {
    "duration": 13,
    "start_time": "2023-01-29T19:32:34.468Z"
   },
   {
    "duration": 27,
    "start_time": "2023-01-29T19:32:34.483Z"
   },
   {
    "duration": 14,
    "start_time": "2023-01-29T19:32:34.513Z"
   },
   {
    "duration": 17,
    "start_time": "2023-01-29T19:32:34.529Z"
   },
   {
    "duration": 14,
    "start_time": "2023-01-29T19:32:34.548Z"
   },
   {
    "duration": 16,
    "start_time": "2023-01-29T19:32:34.564Z"
   },
   {
    "duration": 3,
    "start_time": "2023-01-29T19:32:34.583Z"
   },
   {
    "duration": 28,
    "start_time": "2023-01-29T19:32:34.587Z"
   },
   {
    "duration": 172,
    "start_time": "2023-01-29T19:32:34.617Z"
   },
   {
    "duration": 125,
    "start_time": "2023-01-29T19:32:34.791Z"
   },
   {
    "duration": 6,
    "start_time": "2023-01-29T19:32:34.917Z"
   },
   {
    "duration": 6,
    "start_time": "2023-01-29T19:32:34.925Z"
   },
   {
    "duration": 9,
    "start_time": "2023-01-29T19:32:34.938Z"
   },
   {
    "duration": 9,
    "start_time": "2023-01-29T19:32:34.949Z"
   },
   {
    "duration": 299,
    "start_time": "2023-01-29T19:32:34.960Z"
   },
   {
    "duration": 214,
    "start_time": "2023-01-29T19:32:35.261Z"
   },
   {
    "duration": 6,
    "start_time": "2023-01-29T19:32:35.477Z"
   },
   {
    "duration": 390,
    "start_time": "2023-01-29T19:32:35.485Z"
   },
   {
    "duration": 5,
    "start_time": "2023-01-29T19:32:35.877Z"
   },
   {
    "duration": 21,
    "start_time": "2023-01-29T19:32:35.884Z"
   },
   {
    "duration": 24,
    "start_time": "2023-01-29T19:32:35.907Z"
   },
   {
    "duration": 231,
    "start_time": "2023-01-29T19:32:35.933Z"
   },
   {
    "duration": 7,
    "start_time": "2023-01-29T19:32:36.166Z"
   },
   {
    "duration": 349,
    "start_time": "2023-01-29T19:32:36.175Z"
   },
   {
    "duration": 14,
    "start_time": "2023-01-29T19:32:36.527Z"
   },
   {
    "duration": 38,
    "start_time": "2023-01-29T19:32:36.542Z"
   },
   {
    "duration": 38,
    "start_time": "2023-01-29T19:32:36.582Z"
   },
   {
    "duration": 156,
    "start_time": "2023-01-29T19:32:36.622Z"
   },
   {
    "duration": 5,
    "start_time": "2023-01-29T19:32:36.779Z"
   },
   {
    "duration": 12,
    "start_time": "2023-01-29T19:32:36.788Z"
   },
   {
    "duration": 20,
    "start_time": "2023-01-29T19:32:36.802Z"
   },
   {
    "duration": 37,
    "start_time": "2023-01-29T19:32:36.824Z"
   },
   {
    "duration": 173,
    "start_time": "2023-01-29T19:32:36.863Z"
   },
   {
    "duration": 5,
    "start_time": "2023-01-29T19:32:37.037Z"
   },
   {
    "duration": 42,
    "start_time": "2023-01-29T19:32:37.044Z"
   },
   {
    "duration": 47,
    "start_time": "2023-01-29T19:32:37.088Z"
   },
   {
    "duration": 30,
    "start_time": "2023-01-29T19:32:37.137Z"
   },
   {
    "duration": 30,
    "start_time": "2023-01-29T19:32:37.169Z"
   },
   {
    "duration": 17,
    "start_time": "2023-01-29T19:32:37.200Z"
   },
   {
    "duration": 23,
    "start_time": "2023-01-29T19:32:37.219Z"
   },
   {
    "duration": 14,
    "start_time": "2023-01-29T19:32:37.245Z"
   },
   {
    "duration": 45,
    "start_time": "2023-01-29T19:32:37.260Z"
   },
   {
    "duration": 18,
    "start_time": "2023-01-29T19:32:37.306Z"
   },
   {
    "duration": 54,
    "start_time": "2023-01-29T19:32:37.325Z"
   },
   {
    "duration": 14,
    "start_time": "2023-01-29T19:32:37.381Z"
   },
   {
    "duration": 115,
    "start_time": "2023-01-29T19:32:37.396Z"
   },
   {
    "duration": 27,
    "start_time": "2023-01-29T19:32:37.513Z"
   },
   {
    "duration": 114,
    "start_time": "2023-01-29T19:32:37.542Z"
   },
   {
    "duration": 25,
    "start_time": "2023-01-29T19:32:37.657Z"
   },
   {
    "duration": 27,
    "start_time": "2023-01-29T19:32:37.683Z"
   },
   {
    "duration": 40,
    "start_time": "2023-01-29T19:32:37.712Z"
   },
   {
    "duration": 38,
    "start_time": "2023-01-29T19:32:37.754Z"
   },
   {
    "duration": 14,
    "start_time": "2023-01-29T19:32:37.793Z"
   },
   {
    "duration": 36,
    "start_time": "2023-01-29T19:32:37.809Z"
   },
   {
    "duration": 37,
    "start_time": "2023-01-29T19:32:37.847Z"
   },
   {
    "duration": 10,
    "start_time": "2023-01-29T19:32:37.886Z"
   },
   {
    "duration": 14,
    "start_time": "2023-01-29T19:32:37.897Z"
   },
   {
    "duration": 25,
    "start_time": "2023-01-29T19:32:37.913Z"
   },
   {
    "duration": 30,
    "start_time": "2023-01-29T19:32:37.939Z"
   },
   {
    "duration": 43,
    "start_time": "2023-01-29T19:32:37.970Z"
   },
   {
    "duration": 20,
    "start_time": "2023-01-29T19:32:38.015Z"
   },
   {
    "duration": 217,
    "start_time": "2023-01-29T19:33:51.452Z"
   },
   {
    "duration": 438,
    "start_time": "2023-01-29T19:34:16.320Z"
   },
   {
    "duration": 216,
    "start_time": "2023-01-29T19:34:33.512Z"
   },
   {
    "duration": 215,
    "start_time": "2023-01-29T19:34:43.240Z"
   },
   {
    "duration": 369,
    "start_time": "2023-01-29T19:35:17.320Z"
   },
   {
    "duration": 225,
    "start_time": "2023-01-29T19:36:00.633Z"
   },
   {
    "duration": 126,
    "start_time": "2023-01-29T19:37:03.672Z"
   },
   {
    "duration": 137,
    "start_time": "2023-01-29T19:37:18.621Z"
   },
   {
    "duration": 128,
    "start_time": "2023-01-29T19:37:27.383Z"
   },
   {
    "duration": 113,
    "start_time": "2023-01-29T19:37:30.086Z"
   },
   {
    "duration": 1072,
    "start_time": "2023-01-29T19:37:55.016Z"
   },
   {
    "duration": 85,
    "start_time": "2023-01-29T19:37:56.090Z"
   },
   {
    "duration": 52,
    "start_time": "2023-01-29T19:37:56.176Z"
   },
   {
    "duration": 5,
    "start_time": "2023-01-29T19:37:56.238Z"
   },
   {
    "duration": 24,
    "start_time": "2023-01-29T19:37:56.246Z"
   },
   {
    "duration": 10,
    "start_time": "2023-01-29T19:37:56.272Z"
   },
   {
    "duration": 26,
    "start_time": "2023-01-29T19:37:56.283Z"
   },
   {
    "duration": 32,
    "start_time": "2023-01-29T19:37:56.311Z"
   },
   {
    "duration": 64,
    "start_time": "2023-01-29T19:37:56.345Z"
   },
   {
    "duration": 13,
    "start_time": "2023-01-29T19:37:56.411Z"
   },
   {
    "duration": 19,
    "start_time": "2023-01-29T19:37:56.426Z"
   },
   {
    "duration": 18,
    "start_time": "2023-01-29T19:37:56.447Z"
   },
   {
    "duration": 22,
    "start_time": "2023-01-29T19:37:56.467Z"
   },
   {
    "duration": 17,
    "start_time": "2023-01-29T19:37:56.492Z"
   },
   {
    "duration": 9,
    "start_time": "2023-01-29T19:37:56.511Z"
   },
   {
    "duration": 19,
    "start_time": "2023-01-29T19:37:56.521Z"
   },
   {
    "duration": 14,
    "start_time": "2023-01-29T19:37:56.542Z"
   },
   {
    "duration": 12,
    "start_time": "2023-01-29T19:37:56.558Z"
   },
   {
    "duration": 34,
    "start_time": "2023-01-29T19:37:56.572Z"
   },
   {
    "duration": 187,
    "start_time": "2023-01-29T19:37:56.608Z"
   },
   {
    "duration": 127,
    "start_time": "2023-01-29T19:37:56.797Z"
   },
   {
    "duration": 13,
    "start_time": "2023-01-29T19:37:56.926Z"
   },
   {
    "duration": 21,
    "start_time": "2023-01-29T19:37:56.941Z"
   },
   {
    "duration": 21,
    "start_time": "2023-01-29T19:37:56.964Z"
   },
   {
    "duration": 14,
    "start_time": "2023-01-29T19:37:56.987Z"
   },
   {
    "duration": 310,
    "start_time": "2023-01-29T19:37:57.002Z"
   },
   {
    "duration": 234,
    "start_time": "2023-01-29T19:37:57.314Z"
   },
   {
    "duration": 6,
    "start_time": "2023-01-29T19:37:57.550Z"
   },
   {
    "duration": 312,
    "start_time": "2023-01-29T19:37:57.558Z"
   },
   {
    "duration": 5,
    "start_time": "2023-01-29T19:37:57.871Z"
   },
   {
    "duration": 36,
    "start_time": "2023-01-29T19:37:57.877Z"
   },
   {
    "duration": 21,
    "start_time": "2023-01-29T19:37:57.915Z"
   },
   {
    "duration": 249,
    "start_time": "2023-01-29T19:37:57.938Z"
   },
   {
    "duration": 8,
    "start_time": "2023-01-29T19:37:58.189Z"
   },
   {
    "duration": 372,
    "start_time": "2023-01-29T19:37:58.198Z"
   },
   {
    "duration": 8,
    "start_time": "2023-01-29T19:37:58.572Z"
   },
   {
    "duration": 35,
    "start_time": "2023-01-29T19:37:58.581Z"
   },
   {
    "duration": 23,
    "start_time": "2023-01-29T19:37:58.618Z"
   },
   {
    "duration": 160,
    "start_time": "2023-01-29T19:37:58.643Z"
   },
   {
    "duration": 5,
    "start_time": "2023-01-29T19:37:58.805Z"
   },
   {
    "duration": 29,
    "start_time": "2023-01-29T19:37:58.813Z"
   },
   {
    "duration": 16,
    "start_time": "2023-01-29T19:37:58.844Z"
   },
   {
    "duration": 19,
    "start_time": "2023-01-29T19:37:58.861Z"
   },
   {
    "duration": 156,
    "start_time": "2023-01-29T19:37:58.882Z"
   },
   {
    "duration": 5,
    "start_time": "2023-01-29T19:37:59.040Z"
   },
   {
    "duration": 26,
    "start_time": "2023-01-29T19:37:59.046Z"
   },
   {
    "duration": 13,
    "start_time": "2023-01-29T19:37:59.073Z"
   },
   {
    "duration": 15,
    "start_time": "2023-01-29T19:37:59.088Z"
   },
   {
    "duration": 11,
    "start_time": "2023-01-29T19:37:59.105Z"
   },
   {
    "duration": 7,
    "start_time": "2023-01-29T19:37:59.118Z"
   },
   {
    "duration": 13,
    "start_time": "2023-01-29T19:37:59.127Z"
   },
   {
    "duration": 6,
    "start_time": "2023-01-29T19:37:59.142Z"
   },
   {
    "duration": 29,
    "start_time": "2023-01-29T19:37:59.150Z"
   },
   {
    "duration": 10,
    "start_time": "2023-01-29T19:37:59.181Z"
   },
   {
    "duration": 31,
    "start_time": "2023-01-29T19:37:59.193Z"
   },
   {
    "duration": 10,
    "start_time": "2023-01-29T19:37:59.226Z"
   },
   {
    "duration": 80,
    "start_time": "2023-01-29T19:37:59.237Z"
   },
   {
    "duration": 4,
    "start_time": "2023-01-29T19:37:59.320Z"
   },
   {
    "duration": 83,
    "start_time": "2023-01-29T19:37:59.325Z"
   },
   {
    "duration": 3,
    "start_time": "2023-01-29T19:37:59.411Z"
   },
   {
    "duration": 38,
    "start_time": "2023-01-29T19:37:59.416Z"
   },
   {
    "duration": 24,
    "start_time": "2023-01-29T19:37:59.456Z"
   },
   {
    "duration": 47,
    "start_time": "2023-01-29T19:37:59.482Z"
   },
   {
    "duration": 14,
    "start_time": "2023-01-29T19:37:59.531Z"
   },
   {
    "duration": 14,
    "start_time": "2023-01-29T19:37:59.547Z"
   },
   {
    "duration": 17,
    "start_time": "2023-01-29T19:37:59.562Z"
   },
   {
    "duration": 20,
    "start_time": "2023-01-29T19:37:59.580Z"
   },
   {
    "duration": 18,
    "start_time": "2023-01-29T19:37:59.602Z"
   },
   {
    "duration": 26,
    "start_time": "2023-01-29T19:37:59.622Z"
   },
   {
    "duration": 28,
    "start_time": "2023-01-29T19:37:59.649Z"
   },
   {
    "duration": 34,
    "start_time": "2023-01-29T19:37:59.679Z"
   },
   {
    "duration": 15,
    "start_time": "2023-01-29T19:37:59.715Z"
   },
   {
    "duration": 1184,
    "start_time": "2023-01-29T19:43:14.913Z"
   },
   {
    "duration": 87,
    "start_time": "2023-01-29T19:43:16.099Z"
   },
   {
    "duration": 60,
    "start_time": "2023-01-29T19:43:16.188Z"
   },
   {
    "duration": 5,
    "start_time": "2023-01-29T19:43:16.250Z"
   },
   {
    "duration": 34,
    "start_time": "2023-01-29T19:43:16.257Z"
   },
   {
    "duration": 33,
    "start_time": "2023-01-29T19:43:16.293Z"
   },
   {
    "duration": 44,
    "start_time": "2023-01-29T19:43:16.328Z"
   },
   {
    "duration": 23,
    "start_time": "2023-01-29T19:43:16.374Z"
   },
   {
    "duration": 71,
    "start_time": "2023-01-29T19:43:16.399Z"
   },
   {
    "duration": 13,
    "start_time": "2023-01-29T19:43:16.472Z"
   },
   {
    "duration": 21,
    "start_time": "2023-01-29T19:43:16.487Z"
   },
   {
    "duration": 34,
    "start_time": "2023-01-29T19:43:16.510Z"
   },
   {
    "duration": 28,
    "start_time": "2023-01-29T19:43:16.546Z"
   },
   {
    "duration": 16,
    "start_time": "2023-01-29T19:43:16.577Z"
   },
   {
    "duration": 26,
    "start_time": "2023-01-29T19:43:16.594Z"
   },
   {
    "duration": 30,
    "start_time": "2023-01-29T19:43:16.622Z"
   },
   {
    "duration": 43,
    "start_time": "2023-01-29T19:43:16.653Z"
   },
   {
    "duration": 22,
    "start_time": "2023-01-29T19:43:16.698Z"
   },
   {
    "duration": 28,
    "start_time": "2023-01-29T19:43:16.723Z"
   },
   {
    "duration": 180,
    "start_time": "2023-01-29T19:43:16.753Z"
   },
   {
    "duration": 124,
    "start_time": "2023-01-29T19:43:16.935Z"
   },
   {
    "duration": 7,
    "start_time": "2023-01-29T19:43:17.060Z"
   },
   {
    "duration": 15,
    "start_time": "2023-01-29T19:43:17.069Z"
   },
   {
    "duration": 14,
    "start_time": "2023-01-29T19:43:17.086Z"
   },
   {
    "duration": 17,
    "start_time": "2023-01-29T19:43:17.102Z"
   },
   {
    "duration": 420,
    "start_time": "2023-01-29T19:43:17.121Z"
   },
   {
    "duration": 220,
    "start_time": "2023-01-29T19:43:17.543Z"
   },
   {
    "duration": 5,
    "start_time": "2023-01-29T19:43:17.765Z"
   },
   {
    "duration": 303,
    "start_time": "2023-01-29T19:43:17.772Z"
   },
   {
    "duration": 5,
    "start_time": "2023-01-29T19:43:18.077Z"
   },
   {
    "duration": 19,
    "start_time": "2023-01-29T19:43:18.083Z"
   },
   {
    "duration": 20,
    "start_time": "2023-01-29T19:43:18.104Z"
   },
   {
    "duration": 245,
    "start_time": "2023-01-29T19:43:18.126Z"
   },
   {
    "duration": 8,
    "start_time": "2023-01-29T19:43:18.373Z"
   },
   {
    "duration": 367,
    "start_time": "2023-01-29T19:43:18.383Z"
   },
   {
    "duration": 8,
    "start_time": "2023-01-29T19:43:18.753Z"
   },
   {
    "duration": 22,
    "start_time": "2023-01-29T19:43:18.763Z"
   },
   {
    "duration": 13,
    "start_time": "2023-01-29T19:43:18.787Z"
   },
   {
    "duration": 158,
    "start_time": "2023-01-29T19:43:18.802Z"
   },
   {
    "duration": 5,
    "start_time": "2023-01-29T19:43:18.962Z"
   },
   {
    "duration": 14,
    "start_time": "2023-01-29T19:43:18.976Z"
   },
   {
    "duration": 10,
    "start_time": "2023-01-29T19:43:18.992Z"
   },
   {
    "duration": 15,
    "start_time": "2023-01-29T19:43:19.004Z"
   },
   {
    "duration": 172,
    "start_time": "2023-01-29T19:43:19.021Z"
   },
   {
    "duration": 6,
    "start_time": "2023-01-29T19:43:19.195Z"
   },
   {
    "duration": 19,
    "start_time": "2023-01-29T19:43:19.203Z"
   },
   {
    "duration": 36,
    "start_time": "2023-01-29T19:43:19.224Z"
   },
   {
    "duration": 10,
    "start_time": "2023-01-29T19:43:19.262Z"
   },
   {
    "duration": 15,
    "start_time": "2023-01-29T19:43:19.275Z"
   },
   {
    "duration": 20,
    "start_time": "2023-01-29T19:43:19.292Z"
   },
   {
    "duration": 14,
    "start_time": "2023-01-29T19:43:19.314Z"
   },
   {
    "duration": 18,
    "start_time": "2023-01-29T19:43:19.329Z"
   },
   {
    "duration": 28,
    "start_time": "2023-01-29T19:43:19.349Z"
   },
   {
    "duration": 9,
    "start_time": "2023-01-29T19:43:19.379Z"
   },
   {
    "duration": 34,
    "start_time": "2023-01-29T19:43:19.390Z"
   },
   {
    "duration": 22,
    "start_time": "2023-01-29T19:43:19.427Z"
   },
   {
    "duration": 109,
    "start_time": "2023-01-29T19:43:19.452Z"
   },
   {
    "duration": 3,
    "start_time": "2023-01-29T19:43:19.563Z"
   },
   {
    "duration": 93,
    "start_time": "2023-01-29T19:43:19.568Z"
   },
   {
    "duration": 22,
    "start_time": "2023-01-29T19:43:19.663Z"
   },
   {
    "duration": 27,
    "start_time": "2023-01-29T19:43:19.687Z"
   },
   {
    "duration": 18,
    "start_time": "2023-01-29T19:43:19.716Z"
   },
   {
    "duration": 53,
    "start_time": "2023-01-29T19:43:19.736Z"
   },
   {
    "duration": 16,
    "start_time": "2023-01-29T19:43:19.791Z"
   },
   {
    "duration": 9,
    "start_time": "2023-01-29T19:43:19.809Z"
   },
   {
    "duration": 16,
    "start_time": "2023-01-29T19:43:19.821Z"
   },
   {
    "duration": 26,
    "start_time": "2023-01-29T19:43:19.839Z"
   },
   {
    "duration": 24,
    "start_time": "2023-01-29T19:43:19.867Z"
   },
   {
    "duration": 12,
    "start_time": "2023-01-29T19:43:19.893Z"
   },
   {
    "duration": 14,
    "start_time": "2023-01-29T19:43:19.907Z"
   },
   {
    "duration": 54,
    "start_time": "2023-01-29T19:43:19.923Z"
   },
   {
    "duration": 23,
    "start_time": "2023-01-29T19:43:19.979Z"
   },
   {
    "duration": 1012,
    "start_time": "2023-01-29T19:44:30.893Z"
   },
   {
    "duration": 85,
    "start_time": "2023-01-29T19:44:31.907Z"
   },
   {
    "duration": 55,
    "start_time": "2023-01-29T19:44:31.994Z"
   },
   {
    "duration": 5,
    "start_time": "2023-01-29T19:44:32.051Z"
   },
   {
    "duration": 66,
    "start_time": "2023-01-29T19:44:32.058Z"
   },
   {
    "duration": 39,
    "start_time": "2023-01-29T19:44:32.126Z"
   },
   {
    "duration": 39,
    "start_time": "2023-01-29T19:44:32.167Z"
   },
   {
    "duration": 44,
    "start_time": "2023-01-29T19:44:32.208Z"
   },
   {
    "duration": 70,
    "start_time": "2023-01-29T19:44:32.254Z"
   },
   {
    "duration": 14,
    "start_time": "2023-01-29T19:44:32.326Z"
   },
   {
    "duration": 38,
    "start_time": "2023-01-29T19:44:32.341Z"
   },
   {
    "duration": 57,
    "start_time": "2023-01-29T19:44:32.381Z"
   },
   {
    "duration": 43,
    "start_time": "2023-01-29T19:44:32.441Z"
   },
   {
    "duration": 41,
    "start_time": "2023-01-29T19:44:32.487Z"
   },
   {
    "duration": 44,
    "start_time": "2023-01-29T19:44:32.529Z"
   },
   {
    "duration": 34,
    "start_time": "2023-01-29T19:44:32.576Z"
   },
   {
    "duration": 55,
    "start_time": "2023-01-29T19:44:32.613Z"
   },
   {
    "duration": 46,
    "start_time": "2023-01-29T19:44:32.670Z"
   },
   {
    "duration": 57,
    "start_time": "2023-01-29T19:44:32.718Z"
   },
   {
    "duration": 224,
    "start_time": "2023-01-29T19:44:32.776Z"
   },
   {
    "duration": 137,
    "start_time": "2023-01-29T19:44:33.001Z"
   },
   {
    "duration": 24,
    "start_time": "2023-01-29T19:44:33.140Z"
   },
   {
    "duration": 66,
    "start_time": "2023-01-29T19:44:33.166Z"
   },
   {
    "duration": 52,
    "start_time": "2023-01-29T19:44:33.234Z"
   },
   {
    "duration": 31,
    "start_time": "2023-01-29T19:44:33.288Z"
   },
   {
    "duration": 375,
    "start_time": "2023-01-29T19:44:33.321Z"
   },
   {
    "duration": 230,
    "start_time": "2023-01-29T19:44:33.698Z"
   },
   {
    "duration": 10,
    "start_time": "2023-01-29T19:44:33.932Z"
   },
   {
    "duration": 342,
    "start_time": "2023-01-29T19:44:33.943Z"
   },
   {
    "duration": 4,
    "start_time": "2023-01-29T19:44:34.286Z"
   },
   {
    "duration": 10,
    "start_time": "2023-01-29T19:44:34.292Z"
   },
   {
    "duration": 17,
    "start_time": "2023-01-29T19:44:34.303Z"
   },
   {
    "duration": 232,
    "start_time": "2023-01-29T19:44:34.322Z"
   },
   {
    "duration": 9,
    "start_time": "2023-01-29T19:44:34.556Z"
   },
   {
    "duration": 369,
    "start_time": "2023-01-29T19:44:34.566Z"
   },
   {
    "duration": 8,
    "start_time": "2023-01-29T19:44:34.938Z"
   },
   {
    "duration": 25,
    "start_time": "2023-01-29T19:44:34.948Z"
   },
   {
    "duration": 23,
    "start_time": "2023-01-29T19:44:34.975Z"
   },
   {
    "duration": 166,
    "start_time": "2023-01-29T19:44:35.000Z"
   },
   {
    "duration": 5,
    "start_time": "2023-01-29T19:44:35.169Z"
   },
   {
    "duration": 43,
    "start_time": "2023-01-29T19:44:35.176Z"
   },
   {
    "duration": 13,
    "start_time": "2023-01-29T19:44:35.221Z"
   },
   {
    "duration": 9,
    "start_time": "2023-01-29T19:44:35.236Z"
   },
   {
    "duration": 168,
    "start_time": "2023-01-29T19:44:35.247Z"
   },
   {
    "duration": 5,
    "start_time": "2023-01-29T19:44:35.417Z"
   },
   {
    "duration": 20,
    "start_time": "2023-01-29T19:44:35.424Z"
   },
   {
    "duration": 22,
    "start_time": "2023-01-29T19:44:35.446Z"
   },
   {
    "duration": 8,
    "start_time": "2023-01-29T19:44:35.469Z"
   },
   {
    "duration": 14,
    "start_time": "2023-01-29T19:44:35.478Z"
   },
   {
    "duration": 17,
    "start_time": "2023-01-29T19:44:35.493Z"
   },
   {
    "duration": 21,
    "start_time": "2023-01-29T19:44:35.512Z"
   },
   {
    "duration": 8,
    "start_time": "2023-01-29T19:44:35.535Z"
   },
   {
    "duration": 48,
    "start_time": "2023-01-29T19:44:35.545Z"
   },
   {
    "duration": 24,
    "start_time": "2023-01-29T19:44:35.595Z"
   },
   {
    "duration": 69,
    "start_time": "2023-01-29T19:44:35.621Z"
   },
   {
    "duration": 29,
    "start_time": "2023-01-29T19:44:35.692Z"
   },
   {
    "duration": 108,
    "start_time": "2023-01-29T19:44:35.723Z"
   },
   {
    "duration": 2,
    "start_time": "2023-01-29T19:44:35.833Z"
   },
   {
    "duration": 95,
    "start_time": "2023-01-29T19:44:35.837Z"
   },
   {
    "duration": 3,
    "start_time": "2023-01-29T19:44:35.934Z"
   },
   {
    "duration": 13,
    "start_time": "2023-01-29T19:44:35.939Z"
   },
   {
    "duration": 10,
    "start_time": "2023-01-29T19:44:35.953Z"
   },
   {
    "duration": 59,
    "start_time": "2023-01-29T19:44:35.965Z"
   },
   {
    "duration": 14,
    "start_time": "2023-01-29T19:44:36.025Z"
   },
   {
    "duration": 9,
    "start_time": "2023-01-29T19:44:36.041Z"
   },
   {
    "duration": 24,
    "start_time": "2023-01-29T19:44:36.052Z"
   },
   {
    "duration": 12,
    "start_time": "2023-01-29T19:44:36.077Z"
   },
   {
    "duration": 19,
    "start_time": "2023-01-29T19:44:36.091Z"
   },
   {
    "duration": 18,
    "start_time": "2023-01-29T19:44:36.112Z"
   },
   {
    "duration": 14,
    "start_time": "2023-01-29T19:44:36.132Z"
   },
   {
    "duration": 41,
    "start_time": "2023-01-29T19:44:36.147Z"
   },
   {
    "duration": 18,
    "start_time": "2023-01-29T19:44:36.190Z"
   },
   {
    "duration": 1058,
    "start_time": "2023-01-30T04:12:06.415Z"
   },
   {
    "duration": 132,
    "start_time": "2023-01-30T04:12:07.475Z"
   },
   {
    "duration": 49,
    "start_time": "2023-01-30T04:12:07.609Z"
   },
   {
    "duration": 5,
    "start_time": "2023-01-30T04:12:07.660Z"
   },
   {
    "duration": 14,
    "start_time": "2023-01-30T04:12:07.667Z"
   },
   {
    "duration": 6,
    "start_time": "2023-01-30T04:12:07.683Z"
   },
   {
    "duration": 15,
    "start_time": "2023-01-30T04:12:07.691Z"
   },
   {
    "duration": 21,
    "start_time": "2023-01-30T04:12:07.707Z"
   },
   {
    "duration": 165,
    "start_time": "2023-01-30T04:12:07.730Z"
   },
   {
    "duration": 19,
    "start_time": "2023-01-30T04:12:07.899Z"
   },
   {
    "duration": 38,
    "start_time": "2023-01-30T04:12:07.920Z"
   },
   {
    "duration": 26,
    "start_time": "2023-01-30T04:12:07.959Z"
   },
   {
    "duration": 15,
    "start_time": "2023-01-30T04:12:07.987Z"
   },
   {
    "duration": 26,
    "start_time": "2023-01-30T04:12:08.004Z"
   },
   {
    "duration": 25,
    "start_time": "2023-01-30T04:12:08.031Z"
   },
   {
    "duration": 26,
    "start_time": "2023-01-30T04:12:08.058Z"
   },
   {
    "duration": 22,
    "start_time": "2023-01-30T04:12:08.086Z"
   },
   {
    "duration": 2,
    "start_time": "2023-01-30T04:12:08.111Z"
   },
   {
    "duration": 27,
    "start_time": "2023-01-30T04:12:08.115Z"
   },
   {
    "duration": 168,
    "start_time": "2023-01-30T04:12:08.144Z"
   },
   {
    "duration": 120,
    "start_time": "2023-01-30T04:12:08.314Z"
   },
   {
    "duration": 5,
    "start_time": "2023-01-30T04:12:08.436Z"
   },
   {
    "duration": 7,
    "start_time": "2023-01-30T04:12:08.442Z"
   },
   {
    "duration": 17,
    "start_time": "2023-01-30T04:12:08.450Z"
   },
   {
    "duration": 9,
    "start_time": "2023-01-30T04:12:08.469Z"
   },
   {
    "duration": 274,
    "start_time": "2023-01-30T04:12:08.479Z"
   },
   {
    "duration": 212,
    "start_time": "2023-01-30T04:12:08.754Z"
   },
   {
    "duration": 6,
    "start_time": "2023-01-30T04:12:08.971Z"
   },
   {
    "duration": 307,
    "start_time": "2023-01-30T04:12:08.979Z"
   },
   {
    "duration": 4,
    "start_time": "2023-01-30T04:12:09.288Z"
   },
   {
    "duration": 9,
    "start_time": "2023-01-30T04:12:09.294Z"
   },
   {
    "duration": 6,
    "start_time": "2023-01-30T04:12:09.304Z"
   },
   {
    "duration": 210,
    "start_time": "2023-01-30T04:12:09.311Z"
   },
   {
    "duration": 7,
    "start_time": "2023-01-30T04:12:09.523Z"
   },
   {
    "duration": 369,
    "start_time": "2023-01-30T04:12:09.532Z"
   },
   {
    "duration": 7,
    "start_time": "2023-01-30T04:12:09.903Z"
   },
   {
    "duration": 4,
    "start_time": "2023-01-30T04:12:09.912Z"
   },
   {
    "duration": 8,
    "start_time": "2023-01-30T04:12:09.917Z"
   },
   {
    "duration": 153,
    "start_time": "2023-01-30T04:12:09.926Z"
   },
   {
    "duration": 4,
    "start_time": "2023-01-30T04:12:10.081Z"
   },
   {
    "duration": 15,
    "start_time": "2023-01-30T04:12:10.087Z"
   },
   {
    "duration": 7,
    "start_time": "2023-01-30T04:12:10.104Z"
   },
   {
    "duration": 14,
    "start_time": "2023-01-30T04:12:10.112Z"
   },
   {
    "duration": 155,
    "start_time": "2023-01-30T04:12:10.127Z"
   },
   {
    "duration": 5,
    "start_time": "2023-01-30T04:12:10.284Z"
   },
   {
    "duration": 13,
    "start_time": "2023-01-30T04:12:10.290Z"
   },
   {
    "duration": 7,
    "start_time": "2023-01-30T04:12:10.305Z"
   },
   {
    "duration": 4,
    "start_time": "2023-01-30T04:12:10.314Z"
   },
   {
    "duration": 7,
    "start_time": "2023-01-30T04:12:10.319Z"
   },
   {
    "duration": 5,
    "start_time": "2023-01-30T04:12:10.328Z"
   },
   {
    "duration": 7,
    "start_time": "2023-01-30T04:12:10.334Z"
   },
   {
    "duration": 24,
    "start_time": "2023-01-30T04:12:10.343Z"
   },
   {
    "duration": 14,
    "start_time": "2023-01-30T04:12:10.369Z"
   },
   {
    "duration": 16,
    "start_time": "2023-01-30T04:12:10.385Z"
   },
   {
    "duration": 14,
    "start_time": "2023-01-30T04:12:10.402Z"
   },
   {
    "duration": 4,
    "start_time": "2023-01-30T04:12:10.417Z"
   },
   {
    "duration": 73,
    "start_time": "2023-01-30T04:12:10.423Z"
   },
   {
    "duration": 3,
    "start_time": "2023-01-30T04:12:10.498Z"
   },
   {
    "duration": 99,
    "start_time": "2023-01-30T04:12:10.502Z"
   },
   {
    "duration": 3,
    "start_time": "2023-01-30T04:12:10.603Z"
   },
   {
    "duration": 9,
    "start_time": "2023-01-30T04:12:10.607Z"
   },
   {
    "duration": 7,
    "start_time": "2023-01-30T04:12:10.617Z"
   },
   {
    "duration": 35,
    "start_time": "2023-01-30T04:12:10.625Z"
   },
   {
    "duration": 12,
    "start_time": "2023-01-30T04:12:10.669Z"
   },
   {
    "duration": 5,
    "start_time": "2023-01-30T04:12:10.683Z"
   },
   {
    "duration": 7,
    "start_time": "2023-01-30T04:12:10.689Z"
   },
   {
    "duration": 6,
    "start_time": "2023-01-30T04:12:10.697Z"
   },
   {
    "duration": 6,
    "start_time": "2023-01-30T04:12:10.705Z"
   },
   {
    "duration": 6,
    "start_time": "2023-01-30T04:12:10.713Z"
   },
   {
    "duration": 20,
    "start_time": "2023-01-30T04:12:10.720Z"
   },
   {
    "duration": 38,
    "start_time": "2023-01-30T04:12:10.742Z"
   },
   {
    "duration": 15,
    "start_time": "2023-01-30T04:12:10.781Z"
   },
   {
    "duration": 1039,
    "start_time": "2023-03-22T11:54:09.422Z"
   },
   {
    "duration": 119,
    "start_time": "2023-03-22T11:54:10.462Z"
   },
   {
    "duration": 53,
    "start_time": "2023-03-22T11:54:10.583Z"
   },
   {
    "duration": 7,
    "start_time": "2023-03-22T11:54:10.638Z"
   },
   {
    "duration": 29,
    "start_time": "2023-03-22T11:54:10.647Z"
   },
   {
    "duration": 6,
    "start_time": "2023-03-22T11:54:10.678Z"
   },
   {
    "duration": 24,
    "start_time": "2023-03-22T11:54:10.687Z"
   },
   {
    "duration": 24,
    "start_time": "2023-03-22T11:54:10.713Z"
   },
   {
    "duration": 223,
    "start_time": "2023-03-22T11:54:10.739Z"
   },
   {
    "duration": 12,
    "start_time": "2023-03-22T11:54:10.964Z"
   },
   {
    "duration": 8,
    "start_time": "2023-03-22T11:54:10.978Z"
   },
   {
    "duration": 13,
    "start_time": "2023-03-22T11:54:10.988Z"
   },
   {
    "duration": 44,
    "start_time": "2023-03-22T11:54:11.003Z"
   },
   {
    "duration": 66,
    "start_time": "2023-03-22T11:54:11.051Z"
   },
   {
    "duration": 24,
    "start_time": "2023-03-22T11:54:11.118Z"
   },
   {
    "duration": 17,
    "start_time": "2023-03-22T11:54:11.144Z"
   },
   {
    "duration": 25,
    "start_time": "2023-03-22T11:54:11.162Z"
   },
   {
    "duration": 3,
    "start_time": "2023-03-22T11:54:11.189Z"
   },
   {
    "duration": 12,
    "start_time": "2023-03-22T11:54:11.194Z"
   },
   {
    "duration": 200,
    "start_time": "2023-03-22T11:54:11.208Z"
   },
   {
    "duration": 123,
    "start_time": "2023-03-22T11:54:11.410Z"
   },
   {
    "duration": 7,
    "start_time": "2023-03-22T11:54:11.535Z"
   },
   {
    "duration": 9,
    "start_time": "2023-03-22T11:54:11.543Z"
   },
   {
    "duration": 7,
    "start_time": "2023-03-22T11:54:11.554Z"
   },
   {
    "duration": 11,
    "start_time": "2023-03-22T11:54:11.563Z"
   },
   {
    "duration": 299,
    "start_time": "2023-03-22T11:54:11.576Z"
   },
   {
    "duration": 206,
    "start_time": "2023-03-22T11:54:11.877Z"
   },
   {
    "duration": 6,
    "start_time": "2023-03-22T11:54:12.085Z"
   },
   {
    "duration": 309,
    "start_time": "2023-03-22T11:54:12.093Z"
   },
   {
    "duration": 4,
    "start_time": "2023-03-22T11:54:12.403Z"
   },
   {
    "duration": 11,
    "start_time": "2023-03-22T11:54:12.408Z"
   },
   {
    "duration": 9,
    "start_time": "2023-03-22T11:54:12.421Z"
   },
   {
    "duration": 212,
    "start_time": "2023-03-22T11:54:12.431Z"
   },
   {
    "duration": 8,
    "start_time": "2023-03-22T11:54:12.645Z"
   },
   {
    "duration": 347,
    "start_time": "2023-03-22T11:54:12.654Z"
   },
   {
    "duration": 6,
    "start_time": "2023-03-22T11:54:13.003Z"
   },
   {
    "duration": 6,
    "start_time": "2023-03-22T11:54:13.011Z"
   },
   {
    "duration": 13,
    "start_time": "2023-03-22T11:54:13.018Z"
   },
   {
    "duration": 144,
    "start_time": "2023-03-22T11:54:13.032Z"
   },
   {
    "duration": 5,
    "start_time": "2023-03-22T11:54:13.178Z"
   },
   {
    "duration": 7,
    "start_time": "2023-03-22T11:54:13.187Z"
   },
   {
    "duration": 6,
    "start_time": "2023-03-22T11:54:13.196Z"
   },
   {
    "duration": 4,
    "start_time": "2023-03-22T11:54:13.204Z"
   },
   {
    "duration": 180,
    "start_time": "2023-03-22T11:54:13.209Z"
   },
   {
    "duration": 5,
    "start_time": "2023-03-22T11:54:13.391Z"
   },
   {
    "duration": 7,
    "start_time": "2023-03-22T11:54:13.398Z"
   },
   {
    "duration": 10,
    "start_time": "2023-03-22T11:54:13.407Z"
   },
   {
    "duration": 4,
    "start_time": "2023-03-22T11:54:13.419Z"
   },
   {
    "duration": 10,
    "start_time": "2023-03-22T11:54:13.425Z"
   },
   {
    "duration": 5,
    "start_time": "2023-03-22T11:54:13.437Z"
   },
   {
    "duration": 8,
    "start_time": "2023-03-22T11:54:13.444Z"
   },
   {
    "duration": 21,
    "start_time": "2023-03-22T11:54:13.453Z"
   },
   {
    "duration": 17,
    "start_time": "2023-03-22T11:54:13.476Z"
   },
   {
    "duration": 3,
    "start_time": "2023-03-22T11:54:13.495Z"
   },
   {
    "duration": 17,
    "start_time": "2023-03-22T11:54:13.499Z"
   },
   {
    "duration": 3,
    "start_time": "2023-03-22T11:54:13.518Z"
   },
   {
    "duration": 88,
    "start_time": "2023-03-22T11:54:13.523Z"
   },
   {
    "duration": 3,
    "start_time": "2023-03-22T11:54:13.613Z"
   },
   {
    "duration": 86,
    "start_time": "2023-03-22T11:54:13.617Z"
   },
   {
    "duration": 3,
    "start_time": "2023-03-22T11:54:13.705Z"
   },
   {
    "duration": 73,
    "start_time": "2023-03-22T11:54:13.710Z"
   },
   {
    "duration": 6,
    "start_time": "2023-03-22T11:54:13.785Z"
   },
   {
    "duration": 32,
    "start_time": "2023-03-22T11:54:13.793Z"
   },
   {
    "duration": 13,
    "start_time": "2023-03-22T11:54:13.827Z"
   },
   {
    "duration": 32,
    "start_time": "2023-03-22T11:54:13.842Z"
   },
   {
    "duration": 7,
    "start_time": "2023-03-22T11:54:13.875Z"
   },
   {
    "duration": 7,
    "start_time": "2023-03-22T11:54:13.883Z"
   },
   {
    "duration": 7,
    "start_time": "2023-03-22T11:54:13.892Z"
   },
   {
    "duration": 7,
    "start_time": "2023-03-22T11:54:13.901Z"
   },
   {
    "duration": 9,
    "start_time": "2023-03-22T11:54:13.909Z"
   },
   {
    "duration": 30,
    "start_time": "2023-03-22T11:54:13.919Z"
   },
   {
    "duration": 35,
    "start_time": "2023-03-22T11:54:13.951Z"
   },
   {
    "duration": 9,
    "start_time": "2023-03-22T11:54:28.053Z"
   },
   {
    "duration": 13,
    "start_time": "2023-03-22T11:54:50.304Z"
   },
   {
    "duration": 128,
    "start_time": "2023-03-22T12:05:29.379Z"
   },
   {
    "duration": 439,
    "start_time": "2023-03-22T12:08:29.094Z"
   },
   {
    "duration": 321,
    "start_time": "2023-03-22T12:09:15.989Z"
   },
   {
    "duration": 1069,
    "start_time": "2023-03-22T12:11:21.855Z"
   },
   {
    "duration": 73,
    "start_time": "2023-03-22T12:11:22.925Z"
   },
   {
    "duration": 51,
    "start_time": "2023-03-22T12:11:23.000Z"
   },
   {
    "duration": 6,
    "start_time": "2023-03-22T12:11:23.053Z"
   },
   {
    "duration": 12,
    "start_time": "2023-03-22T12:11:23.074Z"
   },
   {
    "duration": 5,
    "start_time": "2023-03-22T12:11:23.087Z"
   },
   {
    "duration": 18,
    "start_time": "2023-03-22T12:11:23.093Z"
   },
   {
    "duration": 13,
    "start_time": "2023-03-22T12:11:23.112Z"
   },
   {
    "duration": 50,
    "start_time": "2023-03-22T12:11:23.127Z"
   },
   {
    "duration": 12,
    "start_time": "2023-03-22T12:11:23.178Z"
   },
   {
    "duration": 8,
    "start_time": "2023-03-22T12:11:23.191Z"
   },
   {
    "duration": 20,
    "start_time": "2023-03-22T12:11:23.200Z"
   },
   {
    "duration": 9,
    "start_time": "2023-03-22T12:11:23.222Z"
   },
   {
    "duration": 6,
    "start_time": "2023-03-22T12:11:23.234Z"
   },
   {
    "duration": 6,
    "start_time": "2023-03-22T12:11:23.241Z"
   },
   {
    "duration": 26,
    "start_time": "2023-03-22T12:11:23.249Z"
   },
   {
    "duration": 20,
    "start_time": "2023-03-22T12:11:23.277Z"
   },
   {
    "duration": 9,
    "start_time": "2023-03-22T12:11:23.298Z"
   },
   {
    "duration": 15,
    "start_time": "2023-03-22T12:11:23.309Z"
   },
   {
    "duration": 171,
    "start_time": "2023-03-22T12:11:23.325Z"
   },
   {
    "duration": 8,
    "start_time": "2023-03-22T12:11:23.498Z"
   },
   {
    "duration": 129,
    "start_time": "2023-03-22T12:11:23.508Z"
   },
   {
    "duration": 6,
    "start_time": "2023-03-22T12:11:23.638Z"
   },
   {
    "duration": 12,
    "start_time": "2023-03-22T12:11:23.645Z"
   },
   {
    "duration": 32,
    "start_time": "2023-03-22T12:11:23.659Z"
   },
   {
    "duration": 7,
    "start_time": "2023-03-22T12:11:23.693Z"
   },
   {
    "duration": 286,
    "start_time": "2023-03-22T12:11:23.701Z"
   },
   {
    "duration": 205,
    "start_time": "2023-03-22T12:11:23.989Z"
   },
   {
    "duration": 6,
    "start_time": "2023-03-22T12:11:24.196Z"
   },
   {
    "duration": 295,
    "start_time": "2023-03-22T12:11:24.204Z"
   },
   {
    "duration": 4,
    "start_time": "2023-03-22T12:11:24.501Z"
   },
   {
    "duration": 9,
    "start_time": "2023-03-22T12:11:24.507Z"
   },
   {
    "duration": 11,
    "start_time": "2023-03-22T12:11:24.517Z"
   },
   {
    "duration": 210,
    "start_time": "2023-03-22T12:11:24.530Z"
   },
   {
    "duration": 8,
    "start_time": "2023-03-22T12:11:24.742Z"
   },
   {
    "duration": 353,
    "start_time": "2023-03-22T12:11:24.752Z"
   },
   {
    "duration": 6,
    "start_time": "2023-03-22T12:11:25.107Z"
   },
   {
    "duration": 6,
    "start_time": "2023-03-22T12:11:25.115Z"
   },
   {
    "duration": 6,
    "start_time": "2023-03-22T12:11:25.122Z"
   },
   {
    "duration": 173,
    "start_time": "2023-03-22T12:11:25.130Z"
   },
   {
    "duration": 6,
    "start_time": "2023-03-22T12:11:25.308Z"
   },
   {
    "duration": 9,
    "start_time": "2023-03-22T12:11:25.316Z"
   },
   {
    "duration": 9,
    "start_time": "2023-03-22T12:11:25.328Z"
   },
   {
    "duration": 9,
    "start_time": "2023-03-22T12:11:25.339Z"
   },
   {
    "duration": 203,
    "start_time": "2023-03-22T12:11:25.350Z"
   },
   {
    "duration": 5,
    "start_time": "2023-03-22T12:11:25.555Z"
   },
   {
    "duration": 14,
    "start_time": "2023-03-22T12:11:25.562Z"
   },
   {
    "duration": 23,
    "start_time": "2023-03-22T12:11:25.579Z"
   },
   {
    "duration": 24,
    "start_time": "2023-03-22T12:11:25.604Z"
   },
   {
    "duration": 11,
    "start_time": "2023-03-22T12:11:25.630Z"
   },
   {
    "duration": 7,
    "start_time": "2023-03-22T12:11:25.642Z"
   },
   {
    "duration": 8,
    "start_time": "2023-03-22T12:11:25.651Z"
   },
   {
    "duration": 5,
    "start_time": "2023-03-22T12:11:25.661Z"
   },
   {
    "duration": 18,
    "start_time": "2023-03-22T12:11:25.668Z"
   },
   {
    "duration": 6,
    "start_time": "2023-03-22T12:11:25.688Z"
   },
   {
    "duration": 20,
    "start_time": "2023-03-22T12:11:25.695Z"
   },
   {
    "duration": 12,
    "start_time": "2023-03-22T12:11:25.717Z"
   },
   {
    "duration": 70,
    "start_time": "2023-03-22T12:11:25.730Z"
   },
   {
    "duration": 3,
    "start_time": "2023-03-22T12:11:25.801Z"
   },
   {
    "duration": 87,
    "start_time": "2023-03-22T12:11:25.806Z"
   },
   {
    "duration": 4,
    "start_time": "2023-03-22T12:11:25.895Z"
   },
   {
    "duration": 9,
    "start_time": "2023-03-22T12:11:25.900Z"
   },
   {
    "duration": 9,
    "start_time": "2023-03-22T12:11:25.911Z"
   },
   {
    "duration": 28,
    "start_time": "2023-03-22T12:11:25.921Z"
   },
   {
    "duration": 34,
    "start_time": "2023-03-22T12:11:25.951Z"
   },
   {
    "duration": 6,
    "start_time": "2023-03-22T12:11:25.987Z"
   },
   {
    "duration": 5,
    "start_time": "2023-03-22T12:11:25.994Z"
   },
   {
    "duration": 6,
    "start_time": "2023-03-22T12:11:26.001Z"
   },
   {
    "duration": 10,
    "start_time": "2023-03-22T12:11:26.009Z"
   },
   {
    "duration": 7,
    "start_time": "2023-03-22T12:11:26.020Z"
   },
   {
    "duration": 8,
    "start_time": "2023-03-22T12:11:26.029Z"
   },
   {
    "duration": 57,
    "start_time": "2023-03-22T12:11:26.039Z"
   },
   {
    "duration": 17,
    "start_time": "2023-03-22T12:11:26.097Z"
   },
   {
    "duration": 9,
    "start_time": "2023-03-22T14:04:48.868Z"
   },
   {
    "duration": 13,
    "start_time": "2023-03-22T14:26:14.184Z"
   },
   {
    "duration": 7,
    "start_time": "2023-03-22T14:26:18.740Z"
   },
   {
    "duration": 947,
    "start_time": "2023-03-27T18:44:08.180Z"
   },
   {
    "duration": 123,
    "start_time": "2023-03-27T18:44:09.129Z"
   },
   {
    "duration": 44,
    "start_time": "2023-03-27T18:44:09.254Z"
   },
   {
    "duration": 5,
    "start_time": "2023-03-27T18:44:09.300Z"
   },
   {
    "duration": 11,
    "start_time": "2023-03-27T18:44:09.306Z"
   },
   {
    "duration": 4,
    "start_time": "2023-03-27T18:44:09.318Z"
   },
   {
    "duration": 30,
    "start_time": "2023-03-27T18:44:09.324Z"
   },
   {
    "duration": 10,
    "start_time": "2023-03-27T18:44:09.356Z"
   },
   {
    "duration": 154,
    "start_time": "2023-03-27T18:44:09.368Z"
   },
   {
    "duration": 12,
    "start_time": "2023-03-27T18:44:09.524Z"
   },
   {
    "duration": 5,
    "start_time": "2023-03-27T18:44:09.537Z"
   },
   {
    "duration": 20,
    "start_time": "2023-03-27T18:44:09.543Z"
   },
   {
    "duration": 9,
    "start_time": "2023-03-27T18:44:09.565Z"
   },
   {
    "duration": 10,
    "start_time": "2023-03-27T18:44:09.575Z"
   },
   {
    "duration": 5,
    "start_time": "2023-03-27T18:44:09.586Z"
   },
   {
    "duration": 9,
    "start_time": "2023-03-27T18:44:09.592Z"
   },
   {
    "duration": 9,
    "start_time": "2023-03-27T18:44:09.603Z"
   },
   {
    "duration": 2,
    "start_time": "2023-03-27T18:44:09.613Z"
   },
   {
    "duration": 12,
    "start_time": "2023-03-27T18:44:09.616Z"
   },
   {
    "duration": 175,
    "start_time": "2023-03-27T18:44:09.629Z"
   },
   {
    "duration": 8,
    "start_time": "2023-03-27T18:44:09.806Z"
   },
   {
    "duration": 119,
    "start_time": "2023-03-27T18:44:09.816Z"
   },
   {
    "duration": 12,
    "start_time": "2023-03-27T18:44:09.937Z"
   },
   {
    "duration": 7,
    "start_time": "2023-03-27T18:44:09.950Z"
   },
   {
    "duration": 5,
    "start_time": "2023-03-27T18:44:09.959Z"
   },
   {
    "duration": 7,
    "start_time": "2023-03-27T18:44:09.965Z"
   },
   {
    "duration": 254,
    "start_time": "2023-03-27T18:44:09.973Z"
   },
   {
    "duration": 171,
    "start_time": "2023-03-27T18:44:10.230Z"
   },
   {
    "duration": 6,
    "start_time": "2023-03-27T18:44:10.402Z"
   },
   {
    "duration": 13,
    "start_time": "2023-03-27T18:44:10.409Z"
   },
   {
    "duration": 299,
    "start_time": "2023-03-27T18:44:10.423Z"
   },
   {
    "duration": 3,
    "start_time": "2023-03-27T18:44:10.723Z"
   },
   {
    "duration": 4,
    "start_time": "2023-03-27T18:44:10.728Z"
   },
   {
    "duration": 16,
    "start_time": "2023-03-27T18:44:10.733Z"
   },
   {
    "duration": 179,
    "start_time": "2023-03-27T18:44:10.750Z"
   },
   {
    "duration": 7,
    "start_time": "2023-03-27T18:44:10.930Z"
   },
   {
    "duration": 307,
    "start_time": "2023-03-27T18:44:10.948Z"
   },
   {
    "duration": 7,
    "start_time": "2023-03-27T18:44:11.257Z"
   },
   {
    "duration": 13,
    "start_time": "2023-03-27T18:44:11.266Z"
   },
   {
    "duration": 11,
    "start_time": "2023-03-27T18:44:11.280Z"
   },
   {
    "duration": 123,
    "start_time": "2023-03-27T18:44:11.293Z"
   },
   {
    "duration": 4,
    "start_time": "2023-03-27T18:44:11.418Z"
   },
   {
    "duration": 4,
    "start_time": "2023-03-27T18:44:11.423Z"
   },
   {
    "duration": 5,
    "start_time": "2023-03-27T18:44:11.428Z"
   },
   {
    "duration": 15,
    "start_time": "2023-03-27T18:44:11.434Z"
   },
   {
    "duration": 136,
    "start_time": "2023-03-27T18:44:11.450Z"
   },
   {
    "duration": 5,
    "start_time": "2023-03-27T18:44:11.588Z"
   },
   {
    "duration": 5,
    "start_time": "2023-03-27T18:44:11.594Z"
   },
   {
    "duration": 8,
    "start_time": "2023-03-27T18:44:11.601Z"
   },
   {
    "duration": 3,
    "start_time": "2023-03-27T18:44:11.610Z"
   },
   {
    "duration": 10,
    "start_time": "2023-03-27T18:44:11.614Z"
   },
   {
    "duration": 5,
    "start_time": "2023-03-27T18:44:11.625Z"
   },
   {
    "duration": 17,
    "start_time": "2023-03-27T18:44:11.632Z"
   },
   {
    "duration": 5,
    "start_time": "2023-03-27T18:44:11.650Z"
   },
   {
    "duration": 13,
    "start_time": "2023-03-27T18:44:11.656Z"
   },
   {
    "duration": 3,
    "start_time": "2023-03-27T18:44:11.670Z"
   },
   {
    "duration": 16,
    "start_time": "2023-03-27T18:44:11.674Z"
   },
   {
    "duration": 2,
    "start_time": "2023-03-27T18:44:11.691Z"
   },
   {
    "duration": 77,
    "start_time": "2023-03-27T18:44:11.694Z"
   },
   {
    "duration": 2,
    "start_time": "2023-03-27T18:44:11.773Z"
   },
   {
    "duration": 72,
    "start_time": "2023-03-27T18:44:11.777Z"
   },
   {
    "duration": 2,
    "start_time": "2023-03-27T18:44:11.851Z"
   },
   {
    "duration": 150,
    "start_time": "2023-03-27T18:44:11.854Z"
   },
   {
    "duration": 7,
    "start_time": "2023-03-27T18:44:12.006Z"
   },
   {
    "duration": 24,
    "start_time": "2023-03-27T18:44:12.014Z"
   },
   {
    "duration": 12,
    "start_time": "2023-03-27T18:44:12.039Z"
   },
   {
    "duration": 7,
    "start_time": "2023-03-27T18:44:12.052Z"
   },
   {
    "duration": 16,
    "start_time": "2023-03-27T18:44:12.060Z"
   },
   {
    "duration": 5,
    "start_time": "2023-03-27T18:44:12.077Z"
   },
   {
    "duration": 16,
    "start_time": "2023-03-27T18:44:12.084Z"
   },
   {
    "duration": 9,
    "start_time": "2023-03-27T18:44:12.101Z"
   },
   {
    "duration": 7,
    "start_time": "2023-03-27T18:44:12.111Z"
   },
   {
    "duration": 21,
    "start_time": "2023-03-27T18:44:12.120Z"
   },
   {
    "duration": 16,
    "start_time": "2023-03-27T18:44:12.143Z"
   },
   {
    "duration": 10,
    "start_time": "2023-03-27T18:44:35.005Z"
   },
   {
    "duration": 4,
    "start_time": "2023-03-27T18:44:40.944Z"
   },
   {
    "duration": 2001,
    "start_time": "2023-03-27T18:45:32.507Z"
   },
   {
    "duration": 1066,
    "start_time": "2023-03-27T18:45:45.484Z"
   },
   {
    "duration": 68,
    "start_time": "2023-03-27T18:45:46.552Z"
   },
   {
    "duration": 45,
    "start_time": "2023-03-27T18:45:46.621Z"
   },
   {
    "duration": 5,
    "start_time": "2023-03-27T18:45:46.668Z"
   },
   {
    "duration": 11,
    "start_time": "2023-03-27T18:45:46.675Z"
   },
   {
    "duration": 4,
    "start_time": "2023-03-27T18:45:46.688Z"
   },
   {
    "duration": 10,
    "start_time": "2023-03-27T18:45:46.693Z"
   },
   {
    "duration": 9,
    "start_time": "2023-03-27T18:45:46.705Z"
   },
   {
    "duration": 54,
    "start_time": "2023-03-27T18:45:46.716Z"
   },
   {
    "duration": 11,
    "start_time": "2023-03-27T18:45:46.771Z"
   },
   {
    "duration": 8,
    "start_time": "2023-03-27T18:45:46.783Z"
   },
   {
    "duration": 11,
    "start_time": "2023-03-27T18:45:46.792Z"
   },
   {
    "duration": 19,
    "start_time": "2023-03-27T18:45:46.804Z"
   },
   {
    "duration": 8,
    "start_time": "2023-03-27T18:45:46.825Z"
   },
   {
    "duration": 21,
    "start_time": "2023-03-27T18:45:46.834Z"
   },
   {
    "duration": 14,
    "start_time": "2023-03-27T18:45:46.856Z"
   },
   {
    "duration": 18,
    "start_time": "2023-03-27T18:45:46.872Z"
   },
   {
    "duration": 9,
    "start_time": "2023-03-27T18:45:46.891Z"
   },
   {
    "duration": 19,
    "start_time": "2023-03-27T18:45:46.901Z"
   },
   {
    "duration": 136,
    "start_time": "2023-03-27T18:45:46.921Z"
   },
   {
    "duration": 7,
    "start_time": "2023-03-27T18:45:47.059Z"
   },
   {
    "duration": 107,
    "start_time": "2023-03-27T18:45:47.067Z"
   },
   {
    "duration": 5,
    "start_time": "2023-03-27T18:45:47.175Z"
   },
   {
    "duration": 12,
    "start_time": "2023-03-27T18:45:47.181Z"
   },
   {
    "duration": 7,
    "start_time": "2023-03-27T18:45:47.194Z"
   },
   {
    "duration": 5,
    "start_time": "2023-03-27T18:45:47.202Z"
   },
   {
    "duration": 249,
    "start_time": "2023-03-27T18:45:47.208Z"
   },
   {
    "duration": 175,
    "start_time": "2023-03-27T18:45:47.459Z"
   },
   {
    "duration": 7,
    "start_time": "2023-03-27T18:45:47.636Z"
   },
   {
    "duration": 8,
    "start_time": "2023-03-27T18:45:47.649Z"
   },
   {
    "duration": 292,
    "start_time": "2023-03-27T18:45:47.658Z"
   },
   {
    "duration": 4,
    "start_time": "2023-03-27T18:45:47.952Z"
   },
   {
    "duration": 8,
    "start_time": "2023-03-27T18:45:47.957Z"
   },
   {
    "duration": 5,
    "start_time": "2023-03-27T18:45:47.966Z"
   },
   {
    "duration": 180,
    "start_time": "2023-03-27T18:45:47.973Z"
   },
   {
    "duration": 8,
    "start_time": "2023-03-27T18:45:48.154Z"
   },
   {
    "duration": 295,
    "start_time": "2023-03-27T18:45:48.163Z"
   },
   {
    "duration": 6,
    "start_time": "2023-03-27T18:45:48.459Z"
   },
   {
    "duration": 3,
    "start_time": "2023-03-27T18:45:48.466Z"
   },
   {
    "duration": 6,
    "start_time": "2023-03-27T18:45:48.470Z"
   },
   {
    "duration": 136,
    "start_time": "2023-03-27T18:45:48.480Z"
   },
   {
    "duration": 3,
    "start_time": "2023-03-27T18:45:48.618Z"
   },
   {
    "duration": 6,
    "start_time": "2023-03-27T18:45:48.623Z"
   },
   {
    "duration": 6,
    "start_time": "2023-03-27T18:45:48.631Z"
   },
   {
    "duration": 12,
    "start_time": "2023-03-27T18:45:48.638Z"
   },
   {
    "duration": 131,
    "start_time": "2023-03-27T18:45:48.651Z"
   },
   {
    "duration": 5,
    "start_time": "2023-03-27T18:45:48.784Z"
   },
   {
    "duration": 4,
    "start_time": "2023-03-27T18:45:48.791Z"
   },
   {
    "duration": 5,
    "start_time": "2023-03-27T18:45:48.797Z"
   },
   {
    "duration": 4,
    "start_time": "2023-03-27T18:45:48.803Z"
   },
   {
    "duration": 5,
    "start_time": "2023-03-27T18:45:48.808Z"
   },
   {
    "duration": 4,
    "start_time": "2023-03-27T18:45:48.815Z"
   },
   {
    "duration": 29,
    "start_time": "2023-03-27T18:45:48.820Z"
   },
   {
    "duration": 10,
    "start_time": "2023-03-27T18:45:48.850Z"
   },
   {
    "duration": 15,
    "start_time": "2023-03-27T18:45:48.861Z"
   },
   {
    "duration": 4,
    "start_time": "2023-03-27T18:45:48.877Z"
   },
   {
    "duration": 12,
    "start_time": "2023-03-27T18:45:48.883Z"
   },
   {
    "duration": 4,
    "start_time": "2023-03-27T18:45:48.897Z"
   },
   {
    "duration": 69,
    "start_time": "2023-03-27T18:45:48.902Z"
   },
   {
    "duration": 2,
    "start_time": "2023-03-27T18:45:48.973Z"
   },
   {
    "duration": 77,
    "start_time": "2023-03-27T18:45:48.977Z"
   },
   {
    "duration": 2,
    "start_time": "2023-03-27T18:45:49.055Z"
   },
   {
    "duration": 13,
    "start_time": "2023-03-27T18:45:49.059Z"
   },
   {
    "duration": 9,
    "start_time": "2023-03-27T18:45:49.073Z"
   },
   {
    "duration": 26,
    "start_time": "2023-03-27T18:45:49.084Z"
   },
   {
    "duration": 13,
    "start_time": "2023-03-27T18:45:49.111Z"
   },
   {
    "duration": 26,
    "start_time": "2023-03-27T18:45:49.126Z"
   },
   {
    "duration": 5,
    "start_time": "2023-03-27T18:45:49.153Z"
   },
   {
    "duration": 5,
    "start_time": "2023-03-27T18:45:49.159Z"
   },
   {
    "duration": 7,
    "start_time": "2023-03-27T18:45:49.165Z"
   },
   {
    "duration": 9,
    "start_time": "2023-03-27T18:45:49.173Z"
   },
   {
    "duration": 6,
    "start_time": "2023-03-27T18:45:49.183Z"
   },
   {
    "duration": 23,
    "start_time": "2023-03-27T18:45:49.190Z"
   },
   {
    "duration": 36,
    "start_time": "2023-03-27T18:45:49.215Z"
   },
   {
    "duration": 7,
    "start_time": "2023-03-27T18:46:02.590Z"
   },
   {
    "duration": 8,
    "start_time": "2023-03-27T19:09:51.912Z"
   },
   {
    "duration": 1239,
    "start_time": "2023-11-22T10:52:55.053Z"
   },
   {
    "duration": 130,
    "start_time": "2023-11-22T10:52:56.294Z"
   },
   {
    "duration": 54,
    "start_time": "2023-11-22T10:52:56.425Z"
   },
   {
    "duration": 5,
    "start_time": "2023-11-22T10:52:56.480Z"
   },
   {
    "duration": 12,
    "start_time": "2023-11-22T10:52:56.487Z"
   },
   {
    "duration": 25,
    "start_time": "2023-11-22T10:52:56.500Z"
   },
   {
    "duration": 14,
    "start_time": "2023-11-22T10:52:56.527Z"
   },
   {
    "duration": 19,
    "start_time": "2023-11-22T10:52:56.542Z"
   },
   {
    "duration": 144,
    "start_time": "2023-11-22T10:52:56.563Z"
   },
   {
    "duration": 12,
    "start_time": "2023-11-22T10:52:56.708Z"
   },
   {
    "duration": 14,
    "start_time": "2023-11-22T10:52:56.722Z"
   },
   {
    "duration": 10,
    "start_time": "2023-11-22T10:52:56.738Z"
   },
   {
    "duration": 9,
    "start_time": "2023-11-22T10:52:56.750Z"
   },
   {
    "duration": 13,
    "start_time": "2023-11-22T10:52:56.762Z"
   },
   {
    "duration": 8,
    "start_time": "2023-11-22T10:52:56.776Z"
   },
   {
    "duration": 11,
    "start_time": "2023-11-22T10:52:56.786Z"
   },
   {
    "duration": 15,
    "start_time": "2023-11-22T10:52:56.799Z"
   },
   {
    "duration": 3,
    "start_time": "2023-11-22T10:52:56.815Z"
   },
   {
    "duration": 12,
    "start_time": "2023-11-22T10:52:56.825Z"
   },
   {
    "duration": 178,
    "start_time": "2023-11-22T10:52:56.839Z"
   },
   {
    "duration": 8,
    "start_time": "2023-11-22T10:52:57.019Z"
   },
   {
    "duration": 128,
    "start_time": "2023-11-22T10:52:57.028Z"
   },
   {
    "duration": 5,
    "start_time": "2023-11-22T10:52:57.158Z"
   },
   {
    "duration": 14,
    "start_time": "2023-11-22T10:52:57.165Z"
   },
   {
    "duration": 14,
    "start_time": "2023-11-22T10:52:57.181Z"
   },
   {
    "duration": 4,
    "start_time": "2023-11-22T10:52:57.197Z"
   },
   {
    "duration": 313,
    "start_time": "2023-11-22T10:52:57.202Z"
   },
   {
    "duration": 226,
    "start_time": "2023-11-22T10:52:57.517Z"
   },
   {
    "duration": 6,
    "start_time": "2023-11-22T10:52:57.745Z"
   },
   {
    "duration": 21,
    "start_time": "2023-11-22T10:52:57.752Z"
   },
   {
    "duration": 337,
    "start_time": "2023-11-22T10:52:57.774Z"
   },
   {
    "duration": 3,
    "start_time": "2023-11-22T10:52:58.113Z"
   },
   {
    "duration": 9,
    "start_time": "2023-11-22T10:52:58.118Z"
   },
   {
    "duration": 5,
    "start_time": "2023-11-22T10:52:58.128Z"
   },
   {
    "duration": 224,
    "start_time": "2023-11-22T10:52:58.135Z"
   },
   {
    "duration": 8,
    "start_time": "2023-11-22T10:52:58.361Z"
   },
   {
    "duration": 312,
    "start_time": "2023-11-22T10:52:58.370Z"
   },
   {
    "duration": 6,
    "start_time": "2023-11-22T10:52:58.684Z"
   },
   {
    "duration": 33,
    "start_time": "2023-11-22T10:52:58.692Z"
   },
   {
    "duration": 23,
    "start_time": "2023-11-22T10:52:58.727Z"
   },
   {
    "duration": 142,
    "start_time": "2023-11-22T10:52:58.755Z"
   },
   {
    "duration": 5,
    "start_time": "2023-11-22T10:52:58.899Z"
   },
   {
    "duration": 33,
    "start_time": "2023-11-22T10:52:58.905Z"
   },
   {
    "duration": 5,
    "start_time": "2023-11-22T10:52:58.940Z"
   },
   {
    "duration": 10,
    "start_time": "2023-11-22T10:52:58.947Z"
   },
   {
    "duration": 156,
    "start_time": "2023-11-22T10:52:58.959Z"
   },
   {
    "duration": 4,
    "start_time": "2023-11-22T10:52:59.117Z"
   },
   {
    "duration": 12,
    "start_time": "2023-11-22T10:52:59.125Z"
   },
   {
    "duration": 19,
    "start_time": "2023-11-22T10:52:59.139Z"
   },
   {
    "duration": 23,
    "start_time": "2023-11-22T10:52:59.159Z"
   },
   {
    "duration": 25,
    "start_time": "2023-11-22T10:52:59.184Z"
   },
   {
    "duration": 16,
    "start_time": "2023-11-22T10:52:59.210Z"
   },
   {
    "duration": 9,
    "start_time": "2023-11-22T10:52:59.228Z"
   },
   {
    "duration": 7,
    "start_time": "2023-11-22T10:52:59.239Z"
   },
   {
    "duration": 26,
    "start_time": "2023-11-22T10:52:59.248Z"
   },
   {
    "duration": 10,
    "start_time": "2023-11-22T10:52:59.276Z"
   },
   {
    "duration": 26,
    "start_time": "2023-11-22T10:52:59.288Z"
   },
   {
    "duration": 6,
    "start_time": "2023-11-22T10:52:59.315Z"
   },
   {
    "duration": 84,
    "start_time": "2023-11-22T10:52:59.323Z"
   },
   {
    "duration": 3,
    "start_time": "2023-11-22T10:52:59.409Z"
   },
   {
    "duration": 90,
    "start_time": "2023-11-22T10:52:59.414Z"
   },
   {
    "duration": 3,
    "start_time": "2023-11-22T10:52:59.506Z"
   },
   {
    "duration": 21,
    "start_time": "2023-11-22T10:52:59.511Z"
   },
   {
    "duration": 13,
    "start_time": "2023-11-22T10:52:59.534Z"
   },
   {
    "duration": 30,
    "start_time": "2023-11-22T10:52:59.549Z"
   },
   {
    "duration": 7,
    "start_time": "2023-11-22T10:52:59.582Z"
   },
   {
    "duration": 20,
    "start_time": "2023-11-22T10:52:59.590Z"
   },
   {
    "duration": 5,
    "start_time": "2023-11-22T10:52:59.626Z"
   },
   {
    "duration": 11,
    "start_time": "2023-11-22T10:52:59.632Z"
   },
   {
    "duration": 7,
    "start_time": "2023-11-22T10:52:59.645Z"
   },
   {
    "duration": 12,
    "start_time": "2023-11-22T10:52:59.654Z"
   },
   {
    "duration": 23,
    "start_time": "2023-11-22T10:52:59.668Z"
   },
   {
    "duration": 9,
    "start_time": "2023-11-22T10:52:59.693Z"
   },
   {
    "duration": 38,
    "start_time": "2023-11-22T10:52:59.703Z"
   },
   {
    "duration": 17,
    "start_time": "2023-11-22T10:52:59.743Z"
   }
  ],
  "kernelspec": {
   "display_name": "Python 3 (ipykernel)",
   "language": "python",
   "name": "python3"
  },
  "language_info": {
   "codemirror_mode": {
    "name": "ipython",
    "version": 3
   },
   "file_extension": ".py",
   "mimetype": "text/x-python",
   "name": "python",
   "nbconvert_exporter": "python",
   "pygments_lexer": "ipython3",
   "version": "3.9.5"
  },
  "toc": {
   "base_numbering": 1,
   "nav_menu": {},
   "number_sections": true,
   "sideBar": true,
   "skip_h1_title": true,
   "title_cell": "Table of Contents",
   "title_sidebar": "Contents",
   "toc_cell": false,
   "toc_position": {},
   "toc_section_display": true,
   "toc_window_display": false
  }
 },
 "nbformat": 4,
 "nbformat_minor": 2
}
